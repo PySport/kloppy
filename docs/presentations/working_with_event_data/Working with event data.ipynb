{
 "cells": [
  {
   "cell_type": "markdown",
   "metadata": {
    "slideshow": {
     "slide_type": "slide"
    }
   },
   "source": [
    "<img src=\"https://github.com/PySport/kloppy/raw/master/docs/logo.png\"  style=\"width: 40%; margin: auto\" />"
   ]
  },
  {
   "cell_type": "markdown",
   "metadata": {
    "slideshow": {
     "slide_type": "slide"
    }
   },
   "source": [
    "<center> <h1>Working with event data</h1> </center>\n",
    "\n",
    "<img src=\"assets/event_data-field.png\" style=\"width: 60%; margin: auto; margin-top: 50px\" />"
   ]
  },
  {
   "cell_type": "markdown",
   "metadata": {
    "slideshow": {
     "slide_type": "slide"
    }
   },
   "source": [
    "# Content\n",
    "\n",
    "<ul>\n",
    "    <li>Example</li>\n",
    "    <li>Install kloppy</li>\n",
    "    <li>Loading open data</li>\n",
    "    <li>Pandas</li>\n",
    "    <li>Plotting using mplsoccer</li>\n",
    "    <li>Using local data</li>\n",
    "    <li>Supported providers</li>\n",
    "</ul>"
   ]
  },
  {
   "cell_type": "markdown",
   "metadata": {
    "slideshow": {
     "slide_type": "slide"
    }
   },
   "source": [
    "# Example\n",
    "\n",
    "<div style=\"width: 80%; display: block; margin: auto; margin-top: 5%\">\n",
    "    <video src=\"assets/groningen2.mov\" autoplay controls style=\"outline: none;\"></video>\n",
    "    <small>source: https://gist.github.com/koenvo/c450c2e08ad8f0c38bb3d183b2d65648</small>\n",
    "</div>"
   ]
  },
  {
   "cell_type": "markdown",
   "metadata": {
    "slideshow": {
     "slide_type": "slide"
    }
   },
   "source": [
    "# Install kloppy"
   ]
  },
  {
   "cell_type": "code",
   "execution_count": 44,
   "metadata": {
    "slideshow": {
     "slide_type": "fragment"
    }
   },
   "outputs": [
    {
     "name": "stdout",
     "output_type": "stream",
     "text": [
      "Requirement already satisfied: kloppy in /Users/koen/PycharmProjects/kloppy/.venv/lib/python3.7/site-packages (1.5.2)\n",
      "Requirement already satisfied: networkx>=2.4 in /Users/koen/PycharmProjects/kloppy/.venv/lib/python3.7/site-packages (from kloppy) (2.4)\n",
      "Requirement already satisfied: lxml>=4.5.0 in /Users/koen/PycharmProjects/kloppy/.venv/lib/python3.7/site-packages (from kloppy) (4.5.2)\n",
      "Requirement already satisfied: requests>=2.0.0 in /Users/koen/PycharmProjects/kloppy/.venv/lib/python3.7/site-packages (from kloppy) (2.24.0)\n",
      "Requirement already satisfied: pytz>=2020.1 in /Users/koen/PycharmProjects/kloppy/.venv/lib/python3.7/site-packages (from kloppy) (2020.1)\n",
      "Requirement already satisfied: decorator>=4.3.0 in /Users/koen/PycharmProjects/kloppy/.venv/lib/python3.7/site-packages (from networkx>=2.4->kloppy) (4.4.2)\n",
      "Requirement already satisfied: idna<3,>=2.5 in /Users/koen/PycharmProjects/kloppy/.venv/lib/python3.7/site-packages (from requests>=2.0.0->kloppy) (2.10)\n",
      "Requirement already satisfied: chardet<4,>=3.0.2 in /Users/koen/PycharmProjects/kloppy/.venv/lib/python3.7/site-packages (from requests>=2.0.0->kloppy) (3.0.4)\n",
      "Requirement already satisfied: urllib3!=1.25.0,!=1.25.1,<1.26,>=1.21.1 in /Users/koen/PycharmProjects/kloppy/.venv/lib/python3.7/site-packages (from requests>=2.0.0->kloppy) (1.25.10)\n",
      "Requirement already satisfied: certifi>=2017.4.17 in /Users/koen/PycharmProjects/kloppy/.venv/lib/python3.7/site-packages (from requests>=2.0.0->kloppy) (2020.6.20)\n",
      "\u001b[33mWARNING: You are using pip version 20.2.1; however, version 21.0.1 is available.\n",
      "You should consider upgrading via the '/Users/koen/PycharmProjects/kloppy/.venv/bin/python3.7 -m pip install --upgrade pip' command.\u001b[0m\n"
     ]
    }
   ],
   "source": [
    "!pip install kloppy"
   ]
  },
  {
   "cell_type": "markdown",
   "metadata": {
    "slideshow": {
     "slide_type": "slide"
    }
   },
   "source": [
    "# StatsBomb Open Data\n",
    "\n",
    "<img src=\"assets/statsbomb.png\" style=\"width: 60%; margin: auto; margin-top: 15%; margin-bottom: 15%\" />\n",
    "\n",
    "source: https://github.com/statsbomb/open-data"
   ]
  },
  {
   "cell_type": "markdown",
   "metadata": {
    "slideshow": {
     "slide_type": "slide"
    }
   },
   "source": [
    "# Loading data"
   ]
  },
  {
   "cell_type": "code",
   "execution_count": 22,
   "metadata": {
    "slideshow": {
     "slide_type": "fragment"
    }
   },
   "outputs": [],
   "source": [
    "from kloppy import datasets"
   ]
  },
  {
   "cell_type": "code",
   "execution_count": 23,
   "metadata": {
    "slideshow": {
     "slide_type": "fragment"
    }
   },
   "outputs": [
    {
     "name": "stderr",
     "output_type": "stream",
     "text": [
      "/Users/koen/PycharmProjects/kloppy/.venv/lib/python3.7/site-packages/kloppy/infra/datasets/event/statsbomb.py:12: UserWarning: \n",
      "\n",
      "You are about to use StatsBomb public data.\n",
      "By using this data, you are agreeing to the user agreement. \n",
      "The user agreement can be found here: https://github.com/statsbomb/open-data/blob/master/LICENSE.pdf\n",
      "\n",
      "  \"\\n\\nYou are about to use StatsBomb public data.\"\n"
     ]
    }
   ],
   "source": [
    "dataset = datasets.load(\"statsbomb\")"
   ]
  },
  {
   "cell_type": "code",
   "execution_count": 24,
   "metadata": {
    "slideshow": {
     "slide_type": "fragment"
    }
   },
   "outputs": [
    {
     "name": "stdout",
     "output_type": "stream",
     "text": [
      "Barcelona - Deportivo Alavés\n"
     ]
    }
   ],
   "source": [
    "home_team, away_team = dataset.metadata.teams\n",
    "print(f\"{home_team} - {away_team}\")"
   ]
  },
  {
   "cell_type": "markdown",
   "metadata": {
    "slideshow": {
     "slide_type": "slide"
    }
   },
   "source": [
    "# Loading a specific match"
   ]
  },
  {
   "cell_type": "code",
   "execution_count": 25,
   "metadata": {
    "slideshow": {
     "slide_type": "fragment"
    }
   },
   "outputs": [],
   "source": [
    "dataset = datasets.load(\"statsbomb\", match_id=\"9880\")"
   ]
  },
  {
   "cell_type": "code",
   "execution_count": 26,
   "metadata": {
    "slideshow": {
     "slide_type": "fragment"
    }
   },
   "outputs": [
    {
     "name": "stdout",
     "output_type": "stream",
     "text": [
      "Barcelona - Valencia\n"
     ]
    }
   ],
   "source": [
    "home_team, away_team = dataset.metadata.teams\n",
    "print(f\"{home_team} - {away_team}\")"
   ]
  },
  {
   "cell_type": "code",
   "execution_count": 27,
   "metadata": {
    "slideshow": {
     "slide_type": "fragment"
    }
   },
   "outputs": [
    {
     "name": "stdout",
     "output_type": "stream",
     "text": [
      "Data: 4126\n"
     ]
    }
   ],
   "source": [
    "print(f\"Data: {len(dataset.events)}\")"
   ]
  },
  {
   "cell_type": "markdown",
   "metadata": {
    "slideshow": {
     "slide_type": "slide"
    }
   },
   "source": [
    "# Loading options"
   ]
  },
  {
   "cell_type": "code",
   "execution_count": 28,
   "metadata": {
    "slideshow": {
     "slide_type": "fragment"
    }
   },
   "outputs": [],
   "source": [
    "dataset = datasets.load(\"statsbomb\", match_id=\"9880\", options={\"event_types\": [\"PASS\"]})"
   ]
  },
  {
   "cell_type": "code",
   "execution_count": 29,
   "metadata": {
    "slideshow": {
     "slide_type": "fragment"
    }
   },
   "outputs": [
    {
     "name": "stdout",
     "output_type": "stream",
     "text": [
      "Barcelona - Valencia\n"
     ]
    }
   ],
   "source": [
    "home_team, away_team = dataset.metadata.teams\n",
    "print(f\"{home_team} - {away_team}\")"
   ]
  },
  {
   "cell_type": "code",
   "execution_count": 30,
   "metadata": {
    "slideshow": {
     "slide_type": "fragment"
    }
   },
   "outputs": [
    {
     "name": "stdout",
     "output_type": "stream",
     "text": [
      "Data: 1087\n"
     ]
    }
   ],
   "source": [
    "print(f\"Data: {len(dataset.events)}\")"
   ]
  },
  {
   "cell_type": "markdown",
   "metadata": {
    "slideshow": {
     "slide_type": "slide"
    }
   },
   "source": [
    "# Player info"
   ]
  },
  {
   "cell_type": "code",
   "execution_count": 31,
   "metadata": {
    "slideshow": {
     "slide_type": "fragment"
    }
   },
   "outputs": [
    {
     "name": "stdout",
     "output_type": "stream",
     "text": [
      "Player: Philippe Coutinho Correia - 3501\n",
      "Player: Sergio Busquets i Burgos - 5203\n",
      "Player: Jordi Alba Ramos - 5211\n",
      "Player: Gerard Piqué Bernabéu - 5213\n",
      "Player: Andrés Iniesta Luján - 5216\n",
      "Player: Luis Alberto Suárez Díaz - 5246\n",
      "Player: Ousmane Dembélé - 5477\n",
      "Player: Samuel Yves Umtiti - 5492\n",
      "Player: Lionel Andrés Messi Cuccittini - 5503\n",
      "Player: José Paulo Bezzera Maciel Júnior - 5542\n",
      "Player: Thomas Vermaelen - 6332\n",
      "Player: Nélson Cabral Semedo - 6374\n",
      "Player: Sergi Roberto Carnicer - 6379\n",
      "Player: Francisco Alcácer García - 6402\n",
      "Player: Denis Suárez Fernández - 6609\n",
      "Player: Jasper Cillessen - 8652\n",
      "Player: André Filipe Tavares Gomes - 10802\n",
      "Player: Marc-André ter Stegen - 20055\n"
     ]
    }
   ],
   "source": [
    "for player in home_team.players:\n",
    "    print(f\"Player: {player} - {player.player_id}\")"
   ]
  },
  {
   "cell_type": "code",
   "execution_count": 32,
   "metadata": {
    "slideshow": {
     "slide_type": "fragment"
    }
   },
   "outputs": [
    {
     "name": "stdout",
     "output_type": "stream",
     "text": [
      "Name: Luis Alberto Suárez Díaz\n",
      "Jersey number: 9\n"
     ]
    }
   ],
   "source": [
    "suarez = home_team.get_player_by_id(5246)\n",
    "print(f\"Name: {suarez.name}\")\n",
    "print(f\"Jersey number: {suarez.jersey_no}\")"
   ]
  },
  {
   "cell_type": "markdown",
   "metadata": {
    "slideshow": {
     "slide_type": "slide"
    }
   },
   "source": [
    "# Pandas"
   ]
  },
  {
   "cell_type": "code",
   "execution_count": 33,
   "metadata": {
    "slideshow": {
     "slide_type": "fragment"
    }
   },
   "outputs": [],
   "source": [
    "suarez_passes_df = dataset.filter(lambda event: event.player == suarez).to_pandas(\n",
    "    additional_columns={\"player_name\": lambda event: str(event.player)}\n",
    ")"
   ]
  },
  {
   "cell_type": "code",
   "execution_count": 34,
   "metadata": {
    "slideshow": {
     "slide_type": "fragment"
    }
   },
   "outputs": [
    {
     "data": {
      "text/html": [
       "<div>\n",
       "<style scoped>\n",
       "    .dataframe tbody tr th:only-of-type {\n",
       "        vertical-align: middle;\n",
       "    }\n",
       "\n",
       "    .dataframe tbody tr th {\n",
       "        vertical-align: top;\n",
       "    }\n",
       "\n",
       "    .dataframe thead th {\n",
       "        text-align: right;\n",
       "    }\n",
       "</style>\n",
       "<table border=\"1\" class=\"dataframe\">\n",
       "  <thead>\n",
       "    <tr style=\"text-align: right;\">\n",
       "      <th></th>\n",
       "      <th>event_id</th>\n",
       "      <th>event_type</th>\n",
       "      <th>result</th>\n",
       "      <th>success</th>\n",
       "      <th>period_id</th>\n",
       "      <th>timestamp</th>\n",
       "      <th>end_timestamp</th>\n",
       "      <th>ball_state</th>\n",
       "      <th>ball_owning_team</th>\n",
       "      <th>team_id</th>\n",
       "      <th>player_id</th>\n",
       "      <th>coordinates_x</th>\n",
       "      <th>coordinates_y</th>\n",
       "      <th>end_coordinates_x</th>\n",
       "      <th>end_coordinates_y</th>\n",
       "      <th>receiver_player_id</th>\n",
       "      <th>body_part_type</th>\n",
       "      <th>player_name</th>\n",
       "      <th>set_piece_type</th>\n",
       "    </tr>\n",
       "  </thead>\n",
       "  <tbody>\n",
       "    <tr>\n",
       "      <th>0</th>\n",
       "      <td>6e8df155-d618-4b7a-85ad-7a64ca61aad1</td>\n",
       "      <td>PASS</td>\n",
       "      <td>COMPLETE</td>\n",
       "      <td>True</td>\n",
       "      <td>1</td>\n",
       "      <td>313.893</td>\n",
       "      <td>314.616</td>\n",
       "      <td>alive</td>\n",
       "      <td>217</td>\n",
       "      <td>217</td>\n",
       "      <td>5246</td>\n",
       "      <td>75.5</td>\n",
       "      <td>47.5</td>\n",
       "      <td>69.5</td>\n",
       "      <td>43.5</td>\n",
       "      <td>5542</td>\n",
       "      <td>RIGHT_FOOT</td>\n",
       "      <td>Luis Alberto Suárez Díaz</td>\n",
       "      <td>NaN</td>\n",
       "    </tr>\n",
       "    <tr>\n",
       "      <th>1</th>\n",
       "      <td>b1b52af2-748b-4aaa-98b7-707edc69a11e</td>\n",
       "      <td>PASS</td>\n",
       "      <td>COMPLETE</td>\n",
       "      <td>True</td>\n",
       "      <td>1</td>\n",
       "      <td>495.501</td>\n",
       "      <td>497.196</td>\n",
       "      <td>alive</td>\n",
       "      <td>217</td>\n",
       "      <td>217</td>\n",
       "      <td>5246</td>\n",
       "      <td>92.5</td>\n",
       "      <td>15.5</td>\n",
       "      <td>84.5</td>\n",
       "      <td>32.5</td>\n",
       "      <td>5203</td>\n",
       "      <td>RIGHT_FOOT</td>\n",
       "      <td>Luis Alberto Suárez Díaz</td>\n",
       "      <td>NaN</td>\n",
       "    </tr>\n",
       "    <tr>\n",
       "      <th>2</th>\n",
       "      <td>d789cd3e-5f4f-4cf7-ad8c-9f1b72bea1bf</td>\n",
       "      <td>PASS</td>\n",
       "      <td>COMPLETE</td>\n",
       "      <td>True</td>\n",
       "      <td>1</td>\n",
       "      <td>799.106</td>\n",
       "      <td>801.721</td>\n",
       "      <td>alive</td>\n",
       "      <td>217</td>\n",
       "      <td>217</td>\n",
       "      <td>5246</td>\n",
       "      <td>84.5</td>\n",
       "      <td>33.5</td>\n",
       "      <td>109.5</td>\n",
       "      <td>30.5</td>\n",
       "      <td>5211</td>\n",
       "      <td>RIGHT_FOOT</td>\n",
       "      <td>Luis Alberto Suárez Díaz</td>\n",
       "      <td>NaN</td>\n",
       "    </tr>\n",
       "    <tr>\n",
       "      <th>3</th>\n",
       "      <td>e6997c8e-77f1-48c9-b30a-b7b5241105c6</td>\n",
       "      <td>PASS</td>\n",
       "      <td>COMPLETE</td>\n",
       "      <td>True</td>\n",
       "      <td>1</td>\n",
       "      <td>834.424</td>\n",
       "      <td>835.802</td>\n",
       "      <td>alive</td>\n",
       "      <td>217</td>\n",
       "      <td>217</td>\n",
       "      <td>5246</td>\n",
       "      <td>95.5</td>\n",
       "      <td>20.5</td>\n",
       "      <td>90.5</td>\n",
       "      <td>7.5</td>\n",
       "      <td>5216</td>\n",
       "      <td>LEFT_FOOT</td>\n",
       "      <td>Luis Alberto Suárez Díaz</td>\n",
       "      <td>NaN</td>\n",
       "    </tr>\n",
       "    <tr>\n",
       "      <th>4</th>\n",
       "      <td>ee73d246-f86c-44e2-837c-b5fd5bf4c42b</td>\n",
       "      <td>PASS</td>\n",
       "      <td>COMPLETE</td>\n",
       "      <td>True</td>\n",
       "      <td>1</td>\n",
       "      <td>957.346</td>\n",
       "      <td>959.280</td>\n",
       "      <td>alive</td>\n",
       "      <td>217</td>\n",
       "      <td>217</td>\n",
       "      <td>5246</td>\n",
       "      <td>102.5</td>\n",
       "      <td>24.5</td>\n",
       "      <td>98.5</td>\n",
       "      <td>45.5</td>\n",
       "      <td>5542</td>\n",
       "      <td>RIGHT_FOOT</td>\n",
       "      <td>Luis Alberto Suárez Díaz</td>\n",
       "      <td>NaN</td>\n",
       "    </tr>\n",
       "    <tr>\n",
       "      <th>5</th>\n",
       "      <td>9d6dfe16-d805-44a8-9b08-bcca8a27cd9c</td>\n",
       "      <td>PASS</td>\n",
       "      <td>COMPLETE</td>\n",
       "      <td>True</td>\n",
       "      <td>1</td>\n",
       "      <td>1449.826</td>\n",
       "      <td>1451.531</td>\n",
       "      <td>alive</td>\n",
       "      <td>217</td>\n",
       "      <td>217</td>\n",
       "      <td>5246</td>\n",
       "      <td>95.5</td>\n",
       "      <td>17.5</td>\n",
       "      <td>77.5</td>\n",
       "      <td>19.5</td>\n",
       "      <td>5216</td>\n",
       "      <td>RIGHT_FOOT</td>\n",
       "      <td>Luis Alberto Suárez Díaz</td>\n",
       "      <td>NaN</td>\n",
       "    </tr>\n",
       "    <tr>\n",
       "      <th>6</th>\n",
       "      <td>0e031810-8b46-4d6f-b2a4-ecb177342efb</td>\n",
       "      <td>PASS</td>\n",
       "      <td>COMPLETE</td>\n",
       "      <td>True</td>\n",
       "      <td>1</td>\n",
       "      <td>1522.383</td>\n",
       "      <td>1523.951</td>\n",
       "      <td>alive</td>\n",
       "      <td>217</td>\n",
       "      <td>217</td>\n",
       "      <td>5246</td>\n",
       "      <td>90.5</td>\n",
       "      <td>25.5</td>\n",
       "      <td>97.5</td>\n",
       "      <td>15.5</td>\n",
       "      <td>5211</td>\n",
       "      <td>RIGHT_FOOT</td>\n",
       "      <td>Luis Alberto Suárez Díaz</td>\n",
       "      <td>NaN</td>\n",
       "    </tr>\n",
       "    <tr>\n",
       "      <th>7</th>\n",
       "      <td>fe9f9b1d-687d-4265-a310-3761f5946d0b</td>\n",
       "      <td>PASS</td>\n",
       "      <td>COMPLETE</td>\n",
       "      <td>True</td>\n",
       "      <td>1</td>\n",
       "      <td>1526.764</td>\n",
       "      <td>1528.882</td>\n",
       "      <td>alive</td>\n",
       "      <td>217</td>\n",
       "      <td>217</td>\n",
       "      <td>5246</td>\n",
       "      <td>90.5</td>\n",
       "      <td>29.5</td>\n",
       "      <td>113.5</td>\n",
       "      <td>54.5</td>\n",
       "      <td>6379</td>\n",
       "      <td>RIGHT_FOOT</td>\n",
       "      <td>Luis Alberto Suárez Díaz</td>\n",
       "      <td>NaN</td>\n",
       "    </tr>\n",
       "    <tr>\n",
       "      <th>8</th>\n",
       "      <td>f384450a-afe8-4e85-8cb4-23cbe97d9148</td>\n",
       "      <td>PASS</td>\n",
       "      <td>COMPLETE</td>\n",
       "      <td>True</td>\n",
       "      <td>1</td>\n",
       "      <td>1581.593</td>\n",
       "      <td>1583.147</td>\n",
       "      <td>alive</td>\n",
       "      <td>217</td>\n",
       "      <td>217</td>\n",
       "      <td>5246</td>\n",
       "      <td>54.5</td>\n",
       "      <td>25.5</td>\n",
       "      <td>44.5</td>\n",
       "      <td>17.5</td>\n",
       "      <td>5211</td>\n",
       "      <td>RIGHT_FOOT</td>\n",
       "      <td>Luis Alberto Suárez Díaz</td>\n",
       "      <td>NaN</td>\n",
       "    </tr>\n",
       "    <tr>\n",
       "      <th>9</th>\n",
       "      <td>3cc475d6-3916-4f44-90fc-2bd0bf106e5a</td>\n",
       "      <td>PASS</td>\n",
       "      <td>COMPLETE</td>\n",
       "      <td>True</td>\n",
       "      <td>1</td>\n",
       "      <td>1816.471</td>\n",
       "      <td>1817.896</td>\n",
       "      <td>alive</td>\n",
       "      <td>217</td>\n",
       "      <td>217</td>\n",
       "      <td>5246</td>\n",
       "      <td>80.5</td>\n",
       "      <td>74.5</td>\n",
       "      <td>65.5</td>\n",
       "      <td>72.5</td>\n",
       "      <td>6379</td>\n",
       "      <td>RIGHT_FOOT</td>\n",
       "      <td>Luis Alberto Suárez Díaz</td>\n",
       "      <td>NaN</td>\n",
       "    </tr>\n",
       "    <tr>\n",
       "      <th>10</th>\n",
       "      <td>de1187f0-0b90-4f3d-9a3a-e8f1ce24a42d</td>\n",
       "      <td>PASS</td>\n",
       "      <td>COMPLETE</td>\n",
       "      <td>True</td>\n",
       "      <td>1</td>\n",
       "      <td>1823.630</td>\n",
       "      <td>1825.328</td>\n",
       "      <td>alive</td>\n",
       "      <td>217</td>\n",
       "      <td>217</td>\n",
       "      <td>5246</td>\n",
       "      <td>84.5</td>\n",
       "      <td>73.5</td>\n",
       "      <td>78.5</td>\n",
       "      <td>53.5</td>\n",
       "      <td>5542</td>\n",
       "      <td>RIGHT_FOOT</td>\n",
       "      <td>Luis Alberto Suárez Díaz</td>\n",
       "      <td>NaN</td>\n",
       "    </tr>\n",
       "    <tr>\n",
       "      <th>11</th>\n",
       "      <td>f40cb35f-86de-43e8-80fb-f420fa7d6522</td>\n",
       "      <td>PASS</td>\n",
       "      <td>INCOMPLETE</td>\n",
       "      <td>False</td>\n",
       "      <td>1</td>\n",
       "      <td>1858.131</td>\n",
       "      <td>NaN</td>\n",
       "      <td>alive</td>\n",
       "      <td>217</td>\n",
       "      <td>217</td>\n",
       "      <td>5246</td>\n",
       "      <td>98.5</td>\n",
       "      <td>26.5</td>\n",
       "      <td>NaN</td>\n",
       "      <td>NaN</td>\n",
       "      <td>NaN</td>\n",
       "      <td>RIGHT_FOOT</td>\n",
       "      <td>Luis Alberto Suárez Díaz</td>\n",
       "      <td>NaN</td>\n",
       "    </tr>\n",
       "    <tr>\n",
       "      <th>12</th>\n",
       "      <td>6c499a11-e131-4f3b-905f-4fe11b73d19c</td>\n",
       "      <td>PASS</td>\n",
       "      <td>COMPLETE</td>\n",
       "      <td>True</td>\n",
       "      <td>1</td>\n",
       "      <td>1937.805</td>\n",
       "      <td>1938.932</td>\n",
       "      <td>alive</td>\n",
       "      <td>217</td>\n",
       "      <td>217</td>\n",
       "      <td>5246</td>\n",
       "      <td>107.5</td>\n",
       "      <td>63.5</td>\n",
       "      <td>108.5</td>\n",
       "      <td>42.5</td>\n",
       "      <td>5503</td>\n",
       "      <td>RIGHT_FOOT</td>\n",
       "      <td>Luis Alberto Suárez Díaz</td>\n",
       "      <td>NaN</td>\n",
       "    </tr>\n",
       "    <tr>\n",
       "      <th>13</th>\n",
       "      <td>007cfbcc-bf31-40d3-a729-4a27b7e98e6a</td>\n",
       "      <td>PASS</td>\n",
       "      <td>OUT</td>\n",
       "      <td>False</td>\n",
       "      <td>1</td>\n",
       "      <td>2128.325</td>\n",
       "      <td>NaN</td>\n",
       "      <td>alive</td>\n",
       "      <td>217</td>\n",
       "      <td>217</td>\n",
       "      <td>5246</td>\n",
       "      <td>102.5</td>\n",
       "      <td>26.5</td>\n",
       "      <td>NaN</td>\n",
       "      <td>NaN</td>\n",
       "      <td>NaN</td>\n",
       "      <td>RIGHT_FOOT</td>\n",
       "      <td>Luis Alberto Suárez Díaz</td>\n",
       "      <td>NaN</td>\n",
       "    </tr>\n",
       "    <tr>\n",
       "      <th>14</th>\n",
       "      <td>f5649b50-8485-417c-b471-d8489f847cc7</td>\n",
       "      <td>PASS</td>\n",
       "      <td>COMPLETE</td>\n",
       "      <td>True</td>\n",
       "      <td>1</td>\n",
       "      <td>2211.126</td>\n",
       "      <td>2213.365</td>\n",
       "      <td>alive</td>\n",
       "      <td>217</td>\n",
       "      <td>217</td>\n",
       "      <td>5246</td>\n",
       "      <td>64.5</td>\n",
       "      <td>29.5</td>\n",
       "      <td>76.5</td>\n",
       "      <td>68.5</td>\n",
       "      <td>5503</td>\n",
       "      <td>RIGHT_FOOT</td>\n",
       "      <td>Luis Alberto Suárez Díaz</td>\n",
       "      <td>NaN</td>\n",
       "    </tr>\n",
       "    <tr>\n",
       "      <th>15</th>\n",
       "      <td>2a7a0073-7fb3-48c4-bde9-59104b5e4f5e</td>\n",
       "      <td>PASS</td>\n",
       "      <td>COMPLETE</td>\n",
       "      <td>True</td>\n",
       "      <td>2</td>\n",
       "      <td>0.351</td>\n",
       "      <td>2.190</td>\n",
       "      <td>alive</td>\n",
       "      <td>217</td>\n",
       "      <td>217</td>\n",
       "      <td>5246</td>\n",
       "      <td>60.5</td>\n",
       "      <td>40.5</td>\n",
       "      <td>54.5</td>\n",
       "      <td>35.5</td>\n",
       "      <td>5203</td>\n",
       "      <td>RIGHT_FOOT</td>\n",
       "      <td>Luis Alberto Suárez Díaz</td>\n",
       "      <td>KICK_OFF</td>\n",
       "    </tr>\n",
       "    <tr>\n",
       "      <th>16</th>\n",
       "      <td>54c36c27-a6ee-4db4-95bf-5459bb37797c</td>\n",
       "      <td>PASS</td>\n",
       "      <td>COMPLETE</td>\n",
       "      <td>True</td>\n",
       "      <td>2</td>\n",
       "      <td>17.081</td>\n",
       "      <td>18.316</td>\n",
       "      <td>alive</td>\n",
       "      <td>217</td>\n",
       "      <td>217</td>\n",
       "      <td>5246</td>\n",
       "      <td>84.5</td>\n",
       "      <td>51.5</td>\n",
       "      <td>67.5</td>\n",
       "      <td>64.5</td>\n",
       "      <td>5542</td>\n",
       "      <td>RIGHT_FOOT</td>\n",
       "      <td>Luis Alberto Suárez Díaz</td>\n",
       "      <td>NaN</td>\n",
       "    </tr>\n",
       "    <tr>\n",
       "      <th>17</th>\n",
       "      <td>3843fa79-e196-4145-ba34-a1e9e683c0ce</td>\n",
       "      <td>PASS</td>\n",
       "      <td>COMPLETE</td>\n",
       "      <td>True</td>\n",
       "      <td>2</td>\n",
       "      <td>100.529</td>\n",
       "      <td>101.197</td>\n",
       "      <td>alive</td>\n",
       "      <td>217</td>\n",
       "      <td>217</td>\n",
       "      <td>5246</td>\n",
       "      <td>106.5</td>\n",
       "      <td>12.5</td>\n",
       "      <td>109.5</td>\n",
       "      <td>3.5</td>\n",
       "      <td>5211</td>\n",
       "      <td>RIGHT_FOOT</td>\n",
       "      <td>Luis Alberto Suárez Díaz</td>\n",
       "      <td>NaN</td>\n",
       "    </tr>\n",
       "    <tr>\n",
       "      <th>18</th>\n",
       "      <td>e9b0a6ad-fdf8-44a1-891c-9cee5b71ef6d</td>\n",
       "      <td>PASS</td>\n",
       "      <td>COMPLETE</td>\n",
       "      <td>True</td>\n",
       "      <td>2</td>\n",
       "      <td>173.970</td>\n",
       "      <td>175.043</td>\n",
       "      <td>alive</td>\n",
       "      <td>217</td>\n",
       "      <td>217</td>\n",
       "      <td>5246</td>\n",
       "      <td>90.5</td>\n",
       "      <td>8.5</td>\n",
       "      <td>77.5</td>\n",
       "      <td>13.5</td>\n",
       "      <td>5216</td>\n",
       "      <td>RIGHT_FOOT</td>\n",
       "      <td>Luis Alberto Suárez Díaz</td>\n",
       "      <td>NaN</td>\n",
       "    </tr>\n",
       "    <tr>\n",
       "      <th>19</th>\n",
       "      <td>d388777a-2017-4908-b28d-e4bc48d52fa4</td>\n",
       "      <td>PASS</td>\n",
       "      <td>COMPLETE</td>\n",
       "      <td>True</td>\n",
       "      <td>2</td>\n",
       "      <td>223.601</td>\n",
       "      <td>224.938</td>\n",
       "      <td>alive</td>\n",
       "      <td>217</td>\n",
       "      <td>217</td>\n",
       "      <td>5246</td>\n",
       "      <td>91.5</td>\n",
       "      <td>17.5</td>\n",
       "      <td>71.5</td>\n",
       "      <td>10.5</td>\n",
       "      <td>5211</td>\n",
       "      <td>RIGHT_FOOT</td>\n",
       "      <td>Luis Alberto Suárez Díaz</td>\n",
       "      <td>NaN</td>\n",
       "    </tr>\n",
       "    <tr>\n",
       "      <th>20</th>\n",
       "      <td>18f610a0-94fa-4696-9160-9c64656b5529</td>\n",
       "      <td>PASS</td>\n",
       "      <td>COMPLETE</td>\n",
       "      <td>True</td>\n",
       "      <td>2</td>\n",
       "      <td>279.405</td>\n",
       "      <td>280.618</td>\n",
       "      <td>alive</td>\n",
       "      <td>217</td>\n",
       "      <td>217</td>\n",
       "      <td>5246</td>\n",
       "      <td>90.5</td>\n",
       "      <td>55.5</td>\n",
       "      <td>99.5</td>\n",
       "      <td>72.5</td>\n",
       "      <td>6379</td>\n",
       "      <td>RIGHT_FOOT</td>\n",
       "      <td>Luis Alberto Suárez Díaz</td>\n",
       "      <td>NaN</td>\n",
       "    </tr>\n",
       "    <tr>\n",
       "      <th>21</th>\n",
       "      <td>6ca57f0c-b3bb-453d-84b6-717251b7e0c5</td>\n",
       "      <td>PASS</td>\n",
       "      <td>INCOMPLETE</td>\n",
       "      <td>False</td>\n",
       "      <td>2</td>\n",
       "      <td>645.290</td>\n",
       "      <td>NaN</td>\n",
       "      <td>alive</td>\n",
       "      <td>217</td>\n",
       "      <td>217</td>\n",
       "      <td>5246</td>\n",
       "      <td>103.5</td>\n",
       "      <td>21.5</td>\n",
       "      <td>NaN</td>\n",
       "      <td>NaN</td>\n",
       "      <td>NaN</td>\n",
       "      <td>RIGHT_FOOT</td>\n",
       "      <td>Luis Alberto Suárez Díaz</td>\n",
       "      <td>NaN</td>\n",
       "    </tr>\n",
       "    <tr>\n",
       "      <th>22</th>\n",
       "      <td>420b892d-9b69-45a9-9364-9ea815bb4866</td>\n",
       "      <td>PASS</td>\n",
       "      <td>COMPLETE</td>\n",
       "      <td>True</td>\n",
       "      <td>2</td>\n",
       "      <td>705.634</td>\n",
       "      <td>706.374</td>\n",
       "      <td>alive</td>\n",
       "      <td>217</td>\n",
       "      <td>217</td>\n",
       "      <td>5246</td>\n",
       "      <td>102.5</td>\n",
       "      <td>34.5</td>\n",
       "      <td>101.5</td>\n",
       "      <td>45.5</td>\n",
       "      <td>5503</td>\n",
       "      <td>RIGHT_FOOT</td>\n",
       "      <td>Luis Alberto Suárez Díaz</td>\n",
       "      <td>NaN</td>\n",
       "    </tr>\n",
       "    <tr>\n",
       "      <th>23</th>\n",
       "      <td>d4e67aa7-f87a-4d33-928d-a26671ac5207</td>\n",
       "      <td>PASS</td>\n",
       "      <td>INCOMPLETE</td>\n",
       "      <td>False</td>\n",
       "      <td>2</td>\n",
       "      <td>769.986</td>\n",
       "      <td>NaN</td>\n",
       "      <td>alive</td>\n",
       "      <td>217</td>\n",
       "      <td>217</td>\n",
       "      <td>5246</td>\n",
       "      <td>80.5</td>\n",
       "      <td>65.5</td>\n",
       "      <td>NaN</td>\n",
       "      <td>NaN</td>\n",
       "      <td>NaN</td>\n",
       "      <td>LEFT_FOOT</td>\n",
       "      <td>Luis Alberto Suárez Díaz</td>\n",
       "      <td>NaN</td>\n",
       "    </tr>\n",
       "    <tr>\n",
       "      <th>24</th>\n",
       "      <td>508f6e69-b128-4f49-859b-886e35fadb8f</td>\n",
       "      <td>PASS</td>\n",
       "      <td>COMPLETE</td>\n",
       "      <td>True</td>\n",
       "      <td>2</td>\n",
       "      <td>825.648</td>\n",
       "      <td>827.042</td>\n",
       "      <td>alive</td>\n",
       "      <td>217</td>\n",
       "      <td>217</td>\n",
       "      <td>5246</td>\n",
       "      <td>98.5</td>\n",
       "      <td>31.5</td>\n",
       "      <td>85.5</td>\n",
       "      <td>39.5</td>\n",
       "      <td>3501</td>\n",
       "      <td>RIGHT_FOOT</td>\n",
       "      <td>Luis Alberto Suárez Díaz</td>\n",
       "      <td>NaN</td>\n",
       "    </tr>\n",
       "    <tr>\n",
       "      <th>25</th>\n",
       "      <td>18f719b8-bbec-46c3-b127-df36567f7ee8</td>\n",
       "      <td>PASS</td>\n",
       "      <td>COMPLETE</td>\n",
       "      <td>True</td>\n",
       "      <td>2</td>\n",
       "      <td>1148.702</td>\n",
       "      <td>1150.685</td>\n",
       "      <td>alive</td>\n",
       "      <td>217</td>\n",
       "      <td>217</td>\n",
       "      <td>5246</td>\n",
       "      <td>100.5</td>\n",
       "      <td>33.5</td>\n",
       "      <td>112.5</td>\n",
       "      <td>16.5</td>\n",
       "      <td>5211</td>\n",
       "      <td>LEFT_FOOT</td>\n",
       "      <td>Luis Alberto Suárez Díaz</td>\n",
       "      <td>NaN</td>\n",
       "    </tr>\n",
       "    <tr>\n",
       "      <th>26</th>\n",
       "      <td>3635cd85-21fd-4403-b8cf-7c0e37546234</td>\n",
       "      <td>PASS</td>\n",
       "      <td>COMPLETE</td>\n",
       "      <td>True</td>\n",
       "      <td>2</td>\n",
       "      <td>1164.334</td>\n",
       "      <td>1166.756</td>\n",
       "      <td>alive</td>\n",
       "      <td>217</td>\n",
       "      <td>217</td>\n",
       "      <td>5246</td>\n",
       "      <td>85.5</td>\n",
       "      <td>32.5</td>\n",
       "      <td>109.5</td>\n",
       "      <td>17.5</td>\n",
       "      <td>5203</td>\n",
       "      <td>RIGHT_FOOT</td>\n",
       "      <td>Luis Alberto Suárez Díaz</td>\n",
       "      <td>NaN</td>\n",
       "    </tr>\n",
       "    <tr>\n",
       "      <th>27</th>\n",
       "      <td>8e37f720-c42a-46f9-a73b-6740eb36e2dd</td>\n",
       "      <td>PASS</td>\n",
       "      <td>COMPLETE</td>\n",
       "      <td>True</td>\n",
       "      <td>2</td>\n",
       "      <td>1325.792</td>\n",
       "      <td>1326.728</td>\n",
       "      <td>alive</td>\n",
       "      <td>217</td>\n",
       "      <td>217</td>\n",
       "      <td>5246</td>\n",
       "      <td>87.5</td>\n",
       "      <td>8.5</td>\n",
       "      <td>83.5</td>\n",
       "      <td>22.5</td>\n",
       "      <td>5503</td>\n",
       "      <td>LEFT_FOOT</td>\n",
       "      <td>Luis Alberto Suárez Díaz</td>\n",
       "      <td>NaN</td>\n",
       "    </tr>\n",
       "    <tr>\n",
       "      <th>28</th>\n",
       "      <td>d99ebf68-f2f5-4f3d-a594-f6ce39833f86</td>\n",
       "      <td>PASS</td>\n",
       "      <td>COMPLETE</td>\n",
       "      <td>True</td>\n",
       "      <td>2</td>\n",
       "      <td>1431.943</td>\n",
       "      <td>1433.467</td>\n",
       "      <td>alive</td>\n",
       "      <td>217</td>\n",
       "      <td>217</td>\n",
       "      <td>5246</td>\n",
       "      <td>97.5</td>\n",
       "      <td>21.5</td>\n",
       "      <td>93.5</td>\n",
       "      <td>18.5</td>\n",
       "      <td>5216</td>\n",
       "      <td>RIGHT_FOOT</td>\n",
       "      <td>Luis Alberto Suárez Díaz</td>\n",
       "      <td>NaN</td>\n",
       "    </tr>\n",
       "    <tr>\n",
       "      <th>29</th>\n",
       "      <td>83223787-36f0-4c38-98a6-f704a962531f</td>\n",
       "      <td>PASS</td>\n",
       "      <td>COMPLETE</td>\n",
       "      <td>True</td>\n",
       "      <td>2</td>\n",
       "      <td>1947.458</td>\n",
       "      <td>1949.450</td>\n",
       "      <td>alive</td>\n",
       "      <td>217</td>\n",
       "      <td>217</td>\n",
       "      <td>5246</td>\n",
       "      <td>43.5</td>\n",
       "      <td>32.5</td>\n",
       "      <td>73.5</td>\n",
       "      <td>63.5</td>\n",
       "      <td>5503</td>\n",
       "      <td>RIGHT_FOOT</td>\n",
       "      <td>Luis Alberto Suárez Díaz</td>\n",
       "      <td>NaN</td>\n",
       "    </tr>\n",
       "    <tr>\n",
       "      <th>30</th>\n",
       "      <td>423b5252-5481-475d-be43-4806639b5cea</td>\n",
       "      <td>PASS</td>\n",
       "      <td>COMPLETE</td>\n",
       "      <td>True</td>\n",
       "      <td>2</td>\n",
       "      <td>2496.896</td>\n",
       "      <td>2497.496</td>\n",
       "      <td>alive</td>\n",
       "      <td>217</td>\n",
       "      <td>217</td>\n",
       "      <td>5246</td>\n",
       "      <td>60.5</td>\n",
       "      <td>40.5</td>\n",
       "      <td>32.5</td>\n",
       "      <td>53.5</td>\n",
       "      <td>5203</td>\n",
       "      <td>RIGHT_FOOT</td>\n",
       "      <td>Luis Alberto Suárez Díaz</td>\n",
       "      <td>KICK_OFF</td>\n",
       "    </tr>\n",
       "    <tr>\n",
       "      <th>31</th>\n",
       "      <td>4e7fc8ea-1d01-4196-9529-add30b0f9d63</td>\n",
       "      <td>PASS</td>\n",
       "      <td>COMPLETE</td>\n",
       "      <td>True</td>\n",
       "      <td>2</td>\n",
       "      <td>2658.638</td>\n",
       "      <td>2662.595</td>\n",
       "      <td>alive</td>\n",
       "      <td>217</td>\n",
       "      <td>217</td>\n",
       "      <td>5246</td>\n",
       "      <td>44.5</td>\n",
       "      <td>61.5</td>\n",
       "      <td>71.5</td>\n",
       "      <td>71.5</td>\n",
       "      <td>5477</td>\n",
       "      <td>RIGHT_FOOT</td>\n",
       "      <td>Luis Alberto Suárez Díaz</td>\n",
       "      <td>NaN</td>\n",
       "    </tr>\n",
       "    <tr>\n",
       "      <th>32</th>\n",
       "      <td>096de4cf-a2fa-4112-9f84-0ce4bb663cf3</td>\n",
       "      <td>PASS</td>\n",
       "      <td>COMPLETE</td>\n",
       "      <td>True</td>\n",
       "      <td>2</td>\n",
       "      <td>2683.050</td>\n",
       "      <td>2685.326</td>\n",
       "      <td>alive</td>\n",
       "      <td>217</td>\n",
       "      <td>217</td>\n",
       "      <td>5246</td>\n",
       "      <td>99.5</td>\n",
       "      <td>66.5</td>\n",
       "      <td>116.5</td>\n",
       "      <td>68.5</td>\n",
       "      <td>6379</td>\n",
       "      <td>RIGHT_FOOT</td>\n",
       "      <td>Luis Alberto Suárez Díaz</td>\n",
       "      <td>NaN</td>\n",
       "    </tr>\n",
       "    <tr>\n",
       "      <th>33</th>\n",
       "      <td>0d4de5aa-0c93-47c5-b407-c3ab3c249ed5</td>\n",
       "      <td>PASS</td>\n",
       "      <td>None</td>\n",
       "      <td>None</td>\n",
       "      <td>2</td>\n",
       "      <td>2927.258</td>\n",
       "      <td>NaN</td>\n",
       "      <td>alive</td>\n",
       "      <td>217</td>\n",
       "      <td>217</td>\n",
       "      <td>5246</td>\n",
       "      <td>74.5</td>\n",
       "      <td>44.5</td>\n",
       "      <td>NaN</td>\n",
       "      <td>NaN</td>\n",
       "      <td>NaN</td>\n",
       "      <td>LEFT_FOOT</td>\n",
       "      <td>Luis Alberto Suárez Díaz</td>\n",
       "      <td>NaN</td>\n",
       "    </tr>\n",
       "  </tbody>\n",
       "</table>\n",
       "</div>"
      ],
      "text/plain": [
       "                                event_id event_type      result success  \\\n",
       "0   6e8df155-d618-4b7a-85ad-7a64ca61aad1       PASS    COMPLETE    True   \n",
       "1   b1b52af2-748b-4aaa-98b7-707edc69a11e       PASS    COMPLETE    True   \n",
       "2   d789cd3e-5f4f-4cf7-ad8c-9f1b72bea1bf       PASS    COMPLETE    True   \n",
       "3   e6997c8e-77f1-48c9-b30a-b7b5241105c6       PASS    COMPLETE    True   \n",
       "4   ee73d246-f86c-44e2-837c-b5fd5bf4c42b       PASS    COMPLETE    True   \n",
       "5   9d6dfe16-d805-44a8-9b08-bcca8a27cd9c       PASS    COMPLETE    True   \n",
       "6   0e031810-8b46-4d6f-b2a4-ecb177342efb       PASS    COMPLETE    True   \n",
       "7   fe9f9b1d-687d-4265-a310-3761f5946d0b       PASS    COMPLETE    True   \n",
       "8   f384450a-afe8-4e85-8cb4-23cbe97d9148       PASS    COMPLETE    True   \n",
       "9   3cc475d6-3916-4f44-90fc-2bd0bf106e5a       PASS    COMPLETE    True   \n",
       "10  de1187f0-0b90-4f3d-9a3a-e8f1ce24a42d       PASS    COMPLETE    True   \n",
       "11  f40cb35f-86de-43e8-80fb-f420fa7d6522       PASS  INCOMPLETE   False   \n",
       "12  6c499a11-e131-4f3b-905f-4fe11b73d19c       PASS    COMPLETE    True   \n",
       "13  007cfbcc-bf31-40d3-a729-4a27b7e98e6a       PASS         OUT   False   \n",
       "14  f5649b50-8485-417c-b471-d8489f847cc7       PASS    COMPLETE    True   \n",
       "15  2a7a0073-7fb3-48c4-bde9-59104b5e4f5e       PASS    COMPLETE    True   \n",
       "16  54c36c27-a6ee-4db4-95bf-5459bb37797c       PASS    COMPLETE    True   \n",
       "17  3843fa79-e196-4145-ba34-a1e9e683c0ce       PASS    COMPLETE    True   \n",
       "18  e9b0a6ad-fdf8-44a1-891c-9cee5b71ef6d       PASS    COMPLETE    True   \n",
       "19  d388777a-2017-4908-b28d-e4bc48d52fa4       PASS    COMPLETE    True   \n",
       "20  18f610a0-94fa-4696-9160-9c64656b5529       PASS    COMPLETE    True   \n",
       "21  6ca57f0c-b3bb-453d-84b6-717251b7e0c5       PASS  INCOMPLETE   False   \n",
       "22  420b892d-9b69-45a9-9364-9ea815bb4866       PASS    COMPLETE    True   \n",
       "23  d4e67aa7-f87a-4d33-928d-a26671ac5207       PASS  INCOMPLETE   False   \n",
       "24  508f6e69-b128-4f49-859b-886e35fadb8f       PASS    COMPLETE    True   \n",
       "25  18f719b8-bbec-46c3-b127-df36567f7ee8       PASS    COMPLETE    True   \n",
       "26  3635cd85-21fd-4403-b8cf-7c0e37546234       PASS    COMPLETE    True   \n",
       "27  8e37f720-c42a-46f9-a73b-6740eb36e2dd       PASS    COMPLETE    True   \n",
       "28  d99ebf68-f2f5-4f3d-a594-f6ce39833f86       PASS    COMPLETE    True   \n",
       "29  83223787-36f0-4c38-98a6-f704a962531f       PASS    COMPLETE    True   \n",
       "30  423b5252-5481-475d-be43-4806639b5cea       PASS    COMPLETE    True   \n",
       "31  4e7fc8ea-1d01-4196-9529-add30b0f9d63       PASS    COMPLETE    True   \n",
       "32  096de4cf-a2fa-4112-9f84-0ce4bb663cf3       PASS    COMPLETE    True   \n",
       "33  0d4de5aa-0c93-47c5-b407-c3ab3c249ed5       PASS        None    None   \n",
       "\n",
       "    period_id  timestamp  end_timestamp ball_state ball_owning_team team_id  \\\n",
       "0           1    313.893        314.616      alive              217     217   \n",
       "1           1    495.501        497.196      alive              217     217   \n",
       "2           1    799.106        801.721      alive              217     217   \n",
       "3           1    834.424        835.802      alive              217     217   \n",
       "4           1    957.346        959.280      alive              217     217   \n",
       "5           1   1449.826       1451.531      alive              217     217   \n",
       "6           1   1522.383       1523.951      alive              217     217   \n",
       "7           1   1526.764       1528.882      alive              217     217   \n",
       "8           1   1581.593       1583.147      alive              217     217   \n",
       "9           1   1816.471       1817.896      alive              217     217   \n",
       "10          1   1823.630       1825.328      alive              217     217   \n",
       "11          1   1858.131            NaN      alive              217     217   \n",
       "12          1   1937.805       1938.932      alive              217     217   \n",
       "13          1   2128.325            NaN      alive              217     217   \n",
       "14          1   2211.126       2213.365      alive              217     217   \n",
       "15          2      0.351          2.190      alive              217     217   \n",
       "16          2     17.081         18.316      alive              217     217   \n",
       "17          2    100.529        101.197      alive              217     217   \n",
       "18          2    173.970        175.043      alive              217     217   \n",
       "19          2    223.601        224.938      alive              217     217   \n",
       "20          2    279.405        280.618      alive              217     217   \n",
       "21          2    645.290            NaN      alive              217     217   \n",
       "22          2    705.634        706.374      alive              217     217   \n",
       "23          2    769.986            NaN      alive              217     217   \n",
       "24          2    825.648        827.042      alive              217     217   \n",
       "25          2   1148.702       1150.685      alive              217     217   \n",
       "26          2   1164.334       1166.756      alive              217     217   \n",
       "27          2   1325.792       1326.728      alive              217     217   \n",
       "28          2   1431.943       1433.467      alive              217     217   \n",
       "29          2   1947.458       1949.450      alive              217     217   \n",
       "30          2   2496.896       2497.496      alive              217     217   \n",
       "31          2   2658.638       2662.595      alive              217     217   \n",
       "32          2   2683.050       2685.326      alive              217     217   \n",
       "33          2   2927.258            NaN      alive              217     217   \n",
       "\n",
       "   player_id  coordinates_x  coordinates_y  end_coordinates_x  \\\n",
       "0       5246           75.5           47.5               69.5   \n",
       "1       5246           92.5           15.5               84.5   \n",
       "2       5246           84.5           33.5              109.5   \n",
       "3       5246           95.5           20.5               90.5   \n",
       "4       5246          102.5           24.5               98.5   \n",
       "5       5246           95.5           17.5               77.5   \n",
       "6       5246           90.5           25.5               97.5   \n",
       "7       5246           90.5           29.5              113.5   \n",
       "8       5246           54.5           25.5               44.5   \n",
       "9       5246           80.5           74.5               65.5   \n",
       "10      5246           84.5           73.5               78.5   \n",
       "11      5246           98.5           26.5                NaN   \n",
       "12      5246          107.5           63.5              108.5   \n",
       "13      5246          102.5           26.5                NaN   \n",
       "14      5246           64.5           29.5               76.5   \n",
       "15      5246           60.5           40.5               54.5   \n",
       "16      5246           84.5           51.5               67.5   \n",
       "17      5246          106.5           12.5              109.5   \n",
       "18      5246           90.5            8.5               77.5   \n",
       "19      5246           91.5           17.5               71.5   \n",
       "20      5246           90.5           55.5               99.5   \n",
       "21      5246          103.5           21.5                NaN   \n",
       "22      5246          102.5           34.5              101.5   \n",
       "23      5246           80.5           65.5                NaN   \n",
       "24      5246           98.5           31.5               85.5   \n",
       "25      5246          100.5           33.5              112.5   \n",
       "26      5246           85.5           32.5              109.5   \n",
       "27      5246           87.5            8.5               83.5   \n",
       "28      5246           97.5           21.5               93.5   \n",
       "29      5246           43.5           32.5               73.5   \n",
       "30      5246           60.5           40.5               32.5   \n",
       "31      5246           44.5           61.5               71.5   \n",
       "32      5246           99.5           66.5              116.5   \n",
       "33      5246           74.5           44.5                NaN   \n",
       "\n",
       "    end_coordinates_y receiver_player_id body_part_type  \\\n",
       "0                43.5               5542     RIGHT_FOOT   \n",
       "1                32.5               5203     RIGHT_FOOT   \n",
       "2                30.5               5211     RIGHT_FOOT   \n",
       "3                 7.5               5216      LEFT_FOOT   \n",
       "4                45.5               5542     RIGHT_FOOT   \n",
       "5                19.5               5216     RIGHT_FOOT   \n",
       "6                15.5               5211     RIGHT_FOOT   \n",
       "7                54.5               6379     RIGHT_FOOT   \n",
       "8                17.5               5211     RIGHT_FOOT   \n",
       "9                72.5               6379     RIGHT_FOOT   \n",
       "10               53.5               5542     RIGHT_FOOT   \n",
       "11                NaN                NaN     RIGHT_FOOT   \n",
       "12               42.5               5503     RIGHT_FOOT   \n",
       "13                NaN                NaN     RIGHT_FOOT   \n",
       "14               68.5               5503     RIGHT_FOOT   \n",
       "15               35.5               5203     RIGHT_FOOT   \n",
       "16               64.5               5542     RIGHT_FOOT   \n",
       "17                3.5               5211     RIGHT_FOOT   \n",
       "18               13.5               5216     RIGHT_FOOT   \n",
       "19               10.5               5211     RIGHT_FOOT   \n",
       "20               72.5               6379     RIGHT_FOOT   \n",
       "21                NaN                NaN     RIGHT_FOOT   \n",
       "22               45.5               5503     RIGHT_FOOT   \n",
       "23                NaN                NaN      LEFT_FOOT   \n",
       "24               39.5               3501     RIGHT_FOOT   \n",
       "25               16.5               5211      LEFT_FOOT   \n",
       "26               17.5               5203     RIGHT_FOOT   \n",
       "27               22.5               5503      LEFT_FOOT   \n",
       "28               18.5               5216     RIGHT_FOOT   \n",
       "29               63.5               5503     RIGHT_FOOT   \n",
       "30               53.5               5203     RIGHT_FOOT   \n",
       "31               71.5               5477     RIGHT_FOOT   \n",
       "32               68.5               6379     RIGHT_FOOT   \n",
       "33                NaN                NaN      LEFT_FOOT   \n",
       "\n",
       "                 player_name set_piece_type  \n",
       "0   Luis Alberto Suárez Díaz            NaN  \n",
       "1   Luis Alberto Suárez Díaz            NaN  \n",
       "2   Luis Alberto Suárez Díaz            NaN  \n",
       "3   Luis Alberto Suárez Díaz            NaN  \n",
       "4   Luis Alberto Suárez Díaz            NaN  \n",
       "5   Luis Alberto Suárez Díaz            NaN  \n",
       "6   Luis Alberto Suárez Díaz            NaN  \n",
       "7   Luis Alberto Suárez Díaz            NaN  \n",
       "8   Luis Alberto Suárez Díaz            NaN  \n",
       "9   Luis Alberto Suárez Díaz            NaN  \n",
       "10  Luis Alberto Suárez Díaz            NaN  \n",
       "11  Luis Alberto Suárez Díaz            NaN  \n",
       "12  Luis Alberto Suárez Díaz            NaN  \n",
       "13  Luis Alberto Suárez Díaz            NaN  \n",
       "14  Luis Alberto Suárez Díaz            NaN  \n",
       "15  Luis Alberto Suárez Díaz       KICK_OFF  \n",
       "16  Luis Alberto Suárez Díaz            NaN  \n",
       "17  Luis Alberto Suárez Díaz            NaN  \n",
       "18  Luis Alberto Suárez Díaz            NaN  \n",
       "19  Luis Alberto Suárez Díaz            NaN  \n",
       "20  Luis Alberto Suárez Díaz            NaN  \n",
       "21  Luis Alberto Suárez Díaz            NaN  \n",
       "22  Luis Alberto Suárez Díaz            NaN  \n",
       "23  Luis Alberto Suárez Díaz            NaN  \n",
       "24  Luis Alberto Suárez Díaz            NaN  \n",
       "25  Luis Alberto Suárez Díaz            NaN  \n",
       "26  Luis Alberto Suárez Díaz            NaN  \n",
       "27  Luis Alberto Suárez Díaz            NaN  \n",
       "28  Luis Alberto Suárez Díaz            NaN  \n",
       "29  Luis Alberto Suárez Díaz            NaN  \n",
       "30  Luis Alberto Suárez Díaz       KICK_OFF  \n",
       "31  Luis Alberto Suárez Díaz            NaN  \n",
       "32  Luis Alberto Suárez Díaz            NaN  \n",
       "33  Luis Alberto Suárez Díaz            NaN  "
      ]
     },
     "execution_count": 34,
     "metadata": {},
     "output_type": "execute_result"
    }
   ],
   "source": [
    "suarez_passes_df"
   ]
  },
  {
   "cell_type": "markdown",
   "metadata": {
    "slideshow": {
     "slide_type": "slide"
    }
   },
   "source": [
    "# Draw a pitch"
   ]
  },
  {
   "cell_type": "code",
   "execution_count": 35,
   "metadata": {
    "slideshow": {
     "slide_type": "fragment"
    }
   },
   "outputs": [],
   "source": [
    "from mplsoccer.pitch import Pitch"
   ]
  },
  {
   "cell_type": "code",
   "execution_count": 36,
   "metadata": {
    "slideshow": {
     "slide_type": "fragment"
    }
   },
   "outputs": [
    {
     "data": {
      "image/png": "[encoded data removed]",
      "text/plain": [
       "<Figure size 432x288 with 1 Axes>"
      ]
     },
     "metadata": {},
     "output_type": "display_data"
    }
   ],
   "source": [
    "pitch = Pitch(pitch_color=\"#e7f1fa\", line_zorder=1, line_color=\"black\", pitch_type=\"statsbomb\")\n",
    "fig, ax = pitch.draw()"
   ]
  },
  {
   "cell_type": "markdown",
   "metadata": {
    "slideshow": {
     "slide_type": "subslide"
    }
   },
   "source": [
    "# Plotting the data"
   ]
  },
  {
   "cell_type": "code",
   "execution_count": 45,
   "metadata": {
    "slideshow": {
     "slide_type": "fragment"
    }
   },
   "outputs": [
    {
     "name": "stdout",
     "output_type": "stream",
     "text": [
      "Player: Luis Alberto Suárez Díaz\n"
     ]
    },
    {
     "data": {
      "image/png": "[encoded data removed]",
      "text/plain": [
       "<Figure size 432x288 with 1 Axes>"
      ]
     },
     "metadata": {},
     "output_type": "display_data"
    }
   ],
   "source": [
    "print(f\"Player: {suarez}\")\n",
    "pitch = Pitch(pitch_color=\"#e7f1fa\", line_zorder=1, line_color=\"black\", pitch_type=\"statsbomb\")\n",
    "fig, ax = pitch.draw()\n",
    "\n",
    "pitch.kdeplot(\n",
    "    suarez_passes_df[\"coordinates_x\"],\n",
    "    suarez_passes_df[\"coordinates_y\"],\n",
    "    ax=ax,\n",
    "    shade=True,\n",
    "    n_levels=50,\n",
    ");"
   ]
  },
  {
   "cell_type": "markdown",
   "metadata": {
    "slideshow": {
     "slide_type": "slide"
    }
   },
   "source": [
    "# Working with local data"
   ]
  },
  {
   "cell_type": "code",
   "execution_count": 38,
   "metadata": {
    "slideshow": {
     "slide_type": "fragment"
    }
   },
   "outputs": [
    {
     "name": "stdout",
     "output_type": "stream",
     "text": [
      "--2021-03-18 13:24:02--  https://raw.githubusercontent.com/statsbomb/open-data/master/data/events/9880.json\n",
      "Resolving raw.githubusercontent.com (raw.githubusercontent.com)... 185.199.108.133, 185.199.110.133, 185.199.111.133, ...\n",
      "Connecting to raw.githubusercontent.com (raw.githubusercontent.com)|185.199.108.133|:443... connected.\n",
      "HTTP request sent, awaiting response... 200 OK\n",
      "Length: 3487738 (3,3M) [text/plain]\n",
      "Saving to: ‘events.json’\n",
      "\n",
      "events.json         100%[===================>]   3,33M  4,18MB/s    in 0,8s    \n",
      "\n",
      "2021-03-18 13:24:03 (4,18 MB/s) - ‘events.json’ saved [3487738/3487738]\n",
      "\n",
      "--2021-03-18 13:24:04--  https://raw.githubusercontent.com/statsbomb/open-data/master/data/lineups/9880.json\n",
      "Resolving raw.githubusercontent.com (raw.githubusercontent.com)... 185.199.108.133, 185.199.110.133, 185.199.111.133, ...\n",
      "Connecting to raw.githubusercontent.com (raw.githubusercontent.com)|185.199.108.133|:443... connected.\n",
      "HTTP request sent, awaiting response... 200 OK\n",
      "Length: 7624 (7,4K) [text/plain]\n",
      "Saving to: ‘lineup.json’\n",
      "\n",
      "lineup.json         100%[===================>]   7,45K  --.-KB/s    in 0s      \n",
      "\n",
      "2021-03-18 13:24:04 (14,9 MB/s) - ‘lineup.json’ saved [7624/7624]\n",
      "\n"
     ]
    }
   ],
   "source": [
    "!wget https://raw.githubusercontent.com/statsbomb/open-data/master/data/events/9880.json -O events.json\n",
    "!wget https://raw.githubusercontent.com/statsbomb/open-data/master/data/lineups/9880.json -O lineup.json"
   ]
  },
  {
   "cell_type": "markdown",
   "metadata": {
    "slideshow": {
     "slide_type": "subslide"
    }
   },
   "source": [
    "# Working with local data"
   ]
  },
  {
   "cell_type": "code",
   "execution_count": 39,
   "metadata": {
    "slideshow": {
     "slide_type": "fragment"
    }
   },
   "outputs": [],
   "source": [
    "from kloppy import load_statsbomb_event_data"
   ]
  },
  {
   "cell_type": "code",
   "execution_count": 40,
   "metadata": {
    "slideshow": {
     "slide_type": "fragment"
    }
   },
   "outputs": [],
   "source": [
    "dataset = load_statsbomb_event_data(\"events.json\", \"lineup.json\")"
   ]
  },
  {
   "cell_type": "code",
   "execution_count": 41,
   "metadata": {
    "slideshow": {
     "slide_type": "fragment"
    }
   },
   "outputs": [
    {
     "name": "stdout",
     "output_type": "stream",
     "text": [
      "Barcelona - Valencia\n"
     ]
    }
   ],
   "source": [
    "home_team, away_team = dataset.metadata.teams\n",
    "print(f\"{home_team} - {away_team}\")"
   ]
  },
  {
   "cell_type": "markdown",
   "metadata": {
    "slideshow": {
     "slide_type": "slide"
    }
   },
   "source": [
    "# All supported event data providers"
   ]
  },
  {
   "cell_type": "code",
   "execution_count": 42,
   "metadata": {
    "slideshow": {
     "slide_type": "fragment"
    }
   },
   "outputs": [],
   "source": [
    "from kloppy import (\n",
    "    load_metrica_json_event_data,\n",
    "    load_opta_event_data,\n",
    "    load_sportec_event_data,\n",
    "    load_statsbomb_event_data,\n",
    "    load_wyscout_event_data,\n",
    ")"
   ]
  },
  {
   "cell_type": "code",
   "execution_count": null,
   "metadata": {
    "slideshow": {
     "slide_type": "fragment"
    }
   },
   "outputs": [],
   "source": [
    "dataset = load_statsbomb_event_data(event_data_filename, lineup_data_filename)\n",
    "\n",
    "dataset = load_opta_event_data(f24_data_filename, f7_data_filename)\n",
    "\n",
    "dataset = load_metrica_json_event_data(raw_data_filename, metadata_filename)\n",
    "\n",
    "dataset = load_sportec_event_data(event_data_filename, match_data_filename)\n",
    "\n",
    "dataset = load_wyscout_event_data(event_data_filename)"
   ]
  },
  {
   "cell_type": "markdown",
   "metadata": {
    "slideshow": {
     "slide_type": "slide"
    }
   },
   "source": [
    "# Thanks for watching\n",
    "\n",
    "Find us:\n",
    "\n",
    "- twitter https://twitter.com/PySportOrg\n",
    "- discord: https://t.co/oRtc3ZBrDh\n",
    "- github: https://github.com/PySport\n",
    "- docs: https://kloppy.pysport.org"
   ]
  }
 ],
 "metadata": {
  "celltoolbar": "Slideshow",
  "kernelspec": {
   "display_name": "kloppy",
   "language": "python",
   "name": "kloppy"
  },
  "language_info": {
   "codemirror_mode": {
    "name": "ipython",
    "version": 3
   },
   "file_extension": ".py",
   "mimetype": "text/x-python",
   "name": "python",
   "nbconvert_exporter": "python",
   "pygments_lexer": "ipython3",
   "version": "3.7.6"
  }
 },
 "nbformat": 4,
 "nbformat_minor": 4
}
