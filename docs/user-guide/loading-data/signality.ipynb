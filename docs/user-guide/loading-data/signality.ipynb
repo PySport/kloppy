{
 "cells": [
  {
   "cell_type": "markdown",
   "id": "e3dcd271",
   "metadata": {},
   "source": [
    "# Signality\n",
    "\n",
    "Signality has the following raw data json files required for loading:\n",
    "- venue information\n",
    "- match meta data\n",
    "- raw tracking data (one file per period)\n",
    "\n",
    "# Loading signality data"
   ]
  },
  {
   "cell_type": "code",
   "execution_count": null,
   "id": "5666ceec",
   "metadata": {},
   "outputs": [],
   "source": [
    "from kloppy import signality\n",
    "\n",
    "dataset = signality.load(\n",
    "    meta_data=\"../../kloppy/tests/files/signality_meta_data.json\",\n",
    "    raw_data_feeds=[\n",
    "            \"../../kloppy/tests/files/signality_p1_raw_data_subset.json\",\n",
    "            \"../../kloppy/tests/signality_p2_raw_data_subset.json\",\n",
    "        ],\n",
    "    venue_information=\"../../kloppy/tests/files/signality_venue_information.json\",\n",
    "\n",
    "    # Optional arguments\n",
    "    sample_rate=1/10,\n",
    "    limit=100,\n",
    "    coordinates=\"signality\",\n",
    "    include_empty_frames=False\n",
    ")\n",
    "\n",
    "dataset.to_df().head()"
   ]
  }
 ],
 "metadata": {
  "kernelspec": {
   "display_name": ".venv",
   "language": "python",
   "name": "python3"
  },
  "language_info": {
   "name": "python",
   "version": "3.11.11"
  }
 },
 "nbformat": 4,
 "nbformat_minor": 5
}
