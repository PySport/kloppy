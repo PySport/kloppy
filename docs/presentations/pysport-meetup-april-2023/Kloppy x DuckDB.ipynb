{
 "cells": [
  {
   "cell_type": "markdown",
   "id": "0ffce355",
   "metadata": {
    "slideshow": {
     "slide_type": "slide"
    }
   },
   "source": [
    "<div style=\" text-align: center\">\n",
    "\n",
    "<div style=\"margin-bottom: -20px\">\n",
    "    <img style=\"display: inline; width: 200px\" src=\"https://www.saashub.com/images/app/service_logos/239/26gdror9vj3e/medium.png?1679110815\" />\n",
    "&nbsp;&nbsp;  <span style=\"font-weight: 100\">x</span>  &nbsp;&nbsp;&nbsp;&nbsp;\n",
    "    <img style=\"display: inline; width: 200px\" src=\"https://raw.githubusercontent.com/PySport/kloppy/master/docs/logo.png\" />\n",
    "        </div>\n",
    "<!--     <h1>Kloppy <span style=\"font-weight: 100\">x</span> DuckDB</h1> -->\n",
    "    <br />\n",
    "        <h6 style=\"width: 800px; margin: auto\">Unlocking Valuable Sports Insights: Analyzing SportsCode XML Files with DuckDB and Kloppy</h6>\n",
    "    <br />\n",
    "    <span style=\"font-size: 20px\">Koen Vossen - PySport Meetup Eindhoven - April 2023</span>\n",
    "    </div>"
   ]
  },
  {
   "cell_type": "markdown",
   "id": "ba2c5b7a",
   "metadata": {
    "slideshow": {
     "slide_type": "slide"
    }
   },
   "source": [
    "## Content\n",
    "\n",
    "- Introduction\n",
    "- DuckDB\n",
    "- Kloppy\n",
    "- Code\n",
    "- Conclusion"
   ]
  },
  {
   "cell_type": "markdown",
   "id": "2d05b1d6",
   "metadata": {
    "slideshow": {
     "slide_type": "slide"
    }
   },
   "source": [
    "# Introduction\n",
    "\n",
    "Multipurpose of video analytics data"
   ]
  },
  {
   "cell_type": "markdown",
   "id": "87376b7c",
   "metadata": {
    "slideshow": {
     "slide_type": "slide"
    }
   },
   "source": [
    "# DuckDB\n",
    "\n",
    "DuckDB is an in-process SQL OLAP database management system"
   ]
  },
  {
   "cell_type": "markdown",
   "id": "cccf5445",
   "metadata": {
    "slideshow": {
     "slide_type": "fragment"
    }
   },
   "source": [
    "<img src=\"duckdb.png\" style=\"width: 50%; margin: auto\" />"
   ]
  },
  {
   "cell_type": "markdown",
   "id": "16b6be53",
   "metadata": {
    "slideshow": {
     "slide_type": "subslide"
    }
   },
   "source": [
    "# In-process database vs External database"
   ]
  },
  {
   "cell_type": "markdown",
   "id": "e86f1f9c",
   "metadata": {
    "slideshow": {
     "slide_type": "subslide"
    }
   },
   "source": [
    "<img src=\"duckdb2.png?t=3\" style=\"width: 90%; margin: auto\" />"
   ]
  },
  {
   "cell_type": "markdown",
   "id": "d4a4d17c",
   "metadata": {
    "slideshow": {
     "slide_type": "subslide"
    }
   },
   "source": [
    "# In-process database: SQLite vs DuckDB"
   ]
  },
  {
   "cell_type": "markdown",
   "id": "8a580b7f",
   "metadata": {
    "slideshow": {
     "slide_type": "subslide"
    }
   },
   "source": [
    "<img src=\"sqlite-duckdb.png\" style=\"width: 90%; margin: auto\" />"
   ]
  },
  {
   "cell_type": "markdown",
   "id": "061dda64",
   "metadata": {
    "slideshow": {
     "slide_type": "slide"
    }
   },
   "source": [
    "# Kloppy\n",
    "\n",
    "Standardizing soccer tracking and event data"
   ]
  },
  {
   "cell_type": "markdown",
   "id": "419ba259",
   "metadata": {
    "slideshow": {
     "slide_type": "subslide"
    }
   },
   "source": [
    "#### Loading data\n",
    "\n",
    "- Load **public datasets** to get started right away\n",
    "- Understandable **standardized data models** for tracking and event data\n",
    "- Out-of-the-box **(de)serializing** tracking and event data from different vendors into standardized models and vice versa"
   ]
  },
  {
   "cell_type": "markdown",
   "id": "f5af1c93",
   "metadata": {
    "slideshow": {
     "slide_type": "fragment"
    }
   },
   "source": [
    "#### Processing data\n",
    "\n",
    "- Flexibly transform a dataset's **pitch dimensions** from one format to another (e.g., from OPTA's 100x100 to TRACAB meters)\n",
    "- Transform the **orientation** of a dataset (e.g., from TRACAB fixed orientation to \"Home Team\" orientation)"
   ]
  },
  {
   "cell_type": "markdown",
   "id": "da2b5d73",
   "metadata": {
    "slideshow": {
     "slide_type": "slide"
    }
   },
   "source": [
    "<img src=\"data-logger.jpeg\" style=\"width: 80%; margin: auto\" />"
   ]
  },
  {
   "cell_type": "markdown",
   "id": "d79bef89",
   "metadata": {
    "slideshow": {
     "slide_type": "slide"
    }
   },
   "source": [
    "<img src=\"what-kloppy-does.png\" style=\"width: 100%; margin: auto\" />"
   ]
  },
  {
   "cell_type": "markdown",
   "id": "4cb939f3",
   "metadata": {
    "slideshow": {
     "slide_type": "slide"
    }
   },
   "source": [
    "<img src=\"shapes.png\" style=\"width: 100%; margin: auto\" />"
   ]
  },
  {
   "cell_type": "markdown",
   "id": "41bd4669",
   "metadata": {
    "slideshow": {
     "slide_type": "slide"
    }
   },
   "source": [
    "# Code"
   ]
  },
  {
   "cell_type": "code",
   "execution_count": 4,
   "id": "dd7b4299",
   "metadata": {
    "slideshow": {
     "slide_type": "fragment"
    }
   },
   "outputs": [
    {
     "name": "stdout",
     "output_type": "stream",
     "text": [
      "Requirement already satisfied: kloppy in /Users/koen/Developer/Projects/PySport/kloppy/.venv/lib/python3.10/site-packages (3.10.0)\n",
      "Requirement already satisfied: pytz>=2020.1 in /Users/koen/Developer/Projects/PySport/kloppy/.venv/lib/python3.10/site-packages/pytz-2022.7.1-py3.10.egg (from kloppy) (2022.7.1)\n",
      "Requirement already satisfied: lxml<5,>=4.4.0 in /Users/koen/Developer/Projects/PySport/kloppy/.venv/lib/python3.10/site-packages/lxml-4.9.2-py3.10-macosx-12-arm64.egg (from kloppy) (4.9.2)\n",
      "Requirement already satisfied: python-dateutil<3,>=2.8.1 in /Users/koen/Developer/Projects/PySport/kloppy/.venv/lib/python3.10/site-packages/python_dateutil-2.8.2-py3.10.egg (from kloppy) (2.8.2)\n",
      "Requirement already satisfied: requests<3,>=2.0.0 in /Users/koen/Developer/Projects/PySport/kloppy/.venv/lib/python3.10/site-packages/requests-2.28.2-py3.10.egg (from kloppy) (2.28.2)\n",
      "Requirement already satisfied: six>=1.5 in /Users/koen/Developer/Projects/PySport/kloppy/.venv/lib/python3.10/site-packages/six-1.16.0-py3.10.egg (from python-dateutil<3,>=2.8.1->kloppy) (1.16.0)\n",
      "Requirement already satisfied: charset-normalizer<4,>=2 in /Users/koen/Developer/Projects/PySport/kloppy/.venv/lib/python3.10/site-packages/charset_normalizer-3.0.1-py3.10-macosx-12-arm64.egg (from requests<3,>=2.0.0->kloppy) (3.0.1)\n",
      "Requirement already satisfied: idna<4,>=2.5 in /Users/koen/Developer/Projects/PySport/kloppy/.venv/lib/python3.10/site-packages/idna-3.4-py3.10.egg (from requests<3,>=2.0.0->kloppy) (3.4)\n",
      "Requirement already satisfied: urllib3<1.27,>=1.21.1 in /Users/koen/Developer/Projects/PySport/kloppy/.venv/lib/python3.10/site-packages/urllib3-1.26.14-py3.10.egg (from requests<3,>=2.0.0->kloppy) (1.26.14)\n",
      "Requirement already satisfied: certifi>=2017.4.17 in /Users/koen/Developer/Projects/PySport/kloppy/.venv/lib/python3.10/site-packages/certifi-2022.12.7-py3.10.egg (from requests<3,>=2.0.0->kloppy) (2022.12.7)\n",
      "Note: you may need to restart the kernel to use updated packages.\n"
     ]
    }
   ],
   "source": [
    "%pip install kloppy"
   ]
  },
  {
   "cell_type": "code",
   "execution_count": 5,
   "id": "3a267bb5",
   "metadata": {
    "slideshow": {
     "slide_type": "slide"
    }
   },
   "outputs": [],
   "source": [
    "# Import sportscode deserializer\n",
    "from kloppy import sportscode"
   ]
  },
  {
   "cell_type": "code",
   "execution_count": 6,
   "id": "9408def6",
   "metadata": {
    "slideshow": {
     "slide_type": "fragment"
    }
   },
   "outputs": [],
   "source": [
    "# Load the XML file into a kloppy dataset\n",
    "dataset = sportscode.load(\"files/DBO - OR 2 (1).xml\")"
   ]
  },
  {
   "cell_type": "code",
   "execution_count": 7,
   "id": "fd99cf67",
   "metadata": {
    "slideshow": {
     "slide_type": "fragment"
    }
   },
   "outputs": [
    {
     "name": "stdout",
     "output_type": "stream",
     "text": [
      "Sander - 1 - 98.03999999999999\n",
      "Start Q - 1 - 101.02000000000001\n",
      "Start - 1 - 100.03517986699994\n",
      "Joep - 1 - 154.73000000000002\n",
      "Duel - - 1 - 159.88\n",
      "Gijs - 1 - 167.07999999999998\n",
      "David - 1 - 169.39\n",
      "Duel + - 1 - 171.55\n",
      "Sander - 1 - 185.12\n",
      "Gijs - 1 - 193.55\n",
      "Passing + - 1 - 199.14\n",
      "Jamie - 1 - 213.32\n",
      "Special Robert - 1 - 249.87\n",
      "Gijs - 1 - 255.37\n",
      "Sander - 1 - 256.8\n",
      "Duel + - 1 - 260.02\n",
      "Jelle - 1 - 262.36\n",
      "Thomas - 1 - 282.93\n",
      "Contact Lead + - 1 - 285.95\n",
      "Jamie - 1 - 290.08000000000004\n",
      "Contact Lead - - 1 - 295.58000000000004\n",
      "Sheldon - 1 - 298.66999999999996\n",
      "Jamie - 1 - 317.35\n",
      "Circle Possession + - 1 - 317.84\n",
      "Phil - 1 - 319.55\n",
      "Jamie - 1 - 322.94\n",
      "Joep - 1 - 325.28\n",
      "Gijs - 1 - 348.84\n",
      "Gijs - 1 - 356.96\n",
      "Jamie - 1 - 357.74\n",
      "Pirmin - 1 - 369.59\n",
      "Phil - 1 - 375.98\n",
      "Jelle - 1 - 378.46\n",
      "Passing + - 1 - 380.73\n",
      "Laurens - 1 - 385.23\n",
      "Thomas - 1 - 387.0\n",
      "Circle Possession + - 1 - 387.07\n",
      "Jelle - 1 - 390.95\n",
      "Special Robert - 1 - 442.64\n",
      "Sander - 1 - 459.14\n",
      "Duel - - 1 - 464.3\n",
      "David - 1 - 466.72\n",
      "Duel + - 1 - 472.97\n",
      "Pirmin - 1 - 486.38\n",
      "Pirmin - 1 - 540.3299999999999\n",
      "Joep - 1 - 540.78\n",
      "Pirmin - 1 - 548.46\n",
      "Joep - 1 - 549.03\n",
      "Duel + - 1 - 556.62\n",
      "Thibeau - 1 - 594.91\n",
      "Box + - 1 - 596.61\n",
      "Joep - 1 - 597.8\n",
      "Sander - 1 - 607.19\n",
      "Special Robert - 1 - 612.14\n",
      "Jelle - 1 - 631.57\n",
      "Duel + - 1 - 636.3\n",
      "Phil - 1 - 641.71\n",
      "Duel + - 1 - 647.51\n",
      "Pim - 1 - 701.98\n",
      "Duel - - 1 - 706.79\n",
      "Pirmin - 1 - 754.85\n",
      "Joep - 1 - 756.22\n",
      "Joep - 1 - 761.22\n",
      "Duel + - 1 - 765.56\n",
      "Pirmin - 1 - 772.27\n",
      "Pirmin - 1 - 777.05\n",
      "Pirmin - 1 - 820.97\n",
      "Joep - 1 - 821.76\n",
      "Pirmin - 1 - 826.55\n",
      "Joep - 1 - 852.66\n",
      "Snor - 1 - 860.62\n",
      "Snor - 1 - 866.26\n",
      "Passing + - 1 - 869.38\n",
      "Thibeau - 1 - 883.35\n",
      "Joep - 1 - 887.45\n",
      "Box + - 1 - 888.64\n",
      "Thomas - 1 - 891.51\n",
      "Contact Lead + - 1 - 896.41\n",
      "Circle Possession - - 1 - 916.55\n",
      "Thibeau - 1 - 939.53\n",
      "Box + - 1 - 946.27\n",
      "Joep - 1 - 966.59\n",
      "Gijs - 1 - 970.46\n",
      "Passing + - 1 - 972.24\n",
      "Gijs - 1 - 1016.11\n",
      "Duel + - 1 - 1020.61\n",
      "Sheldon - 1 - 1039.98\n",
      "Duel + - 1 - 1044.5700000000002\n",
      "Snor - 1 - 1053.7\n",
      "Joep - 1 - 1056.25\n",
      "Box + - 1 - 1058.71\n",
      "Sander - 1 - 1063.15\n",
      "Passing + - 1 - 1064.55\n",
      "Gijs - 1 - 1075.28\n",
      "Passing + - 1 - 1080.93\n",
      "Thomas - 1 - 1085.84\n",
      "Duel + - 1 - 1091.24\n",
      "Gijs - 1 - 1149.67\n",
      "Start Q - 1 - 1304.47\n",
      "Start - 1 - 1305.117859954\n",
      "Jelle - 1 - 1307.78\n",
      "Contact Lead + - 1 - 1312.72\n",
      "Sander - 1 - 1318.87\n",
      "Passing + - 1 - 1323.74\n",
      "Jelle - 1 - 1334.44\n",
      "Circle Possession + - 1 - 1336.24\n",
      "Laurens - 1 - 1337.93\n",
      "Box + - 1 - 1355.62\n",
      "Jelle - 1 - 1357.38\n",
      "Contact Lead + - 1 - 1362.62\n",
      "Sander - 1 - 1399.97\n",
      "Snor - 1 - 1401.65\n",
      "Passing - - 1 - 1404.8600000000001\n",
      "Joep - 1 - 1422.55\n",
      "Passing + - 1 - 1427.56\n",
      "Circle Possession + - 1 - 1428.92\n",
      "Jelle - 1 - 1433.54\n",
      "Gijs - 1 - 1434.96\n",
      "Thomas - 1 - 1436.29\n",
      "Laurens - 1 - 1437.32\n",
      "Circle Possession + - 1 - 1442.13\n",
      "Thomas - 1 - 1453.24\n",
      "Contact Lead + - 1 - 1457.8899999999999\n",
      "Gijs - 1 - 1476.8600000000001\n",
      "Duel + - 1 - 1482.43\n",
      "Snor - 1 - 1497.1\n",
      "Duel - - 1 - 1502.85\n",
      "Joep - 1 - 1520.98\n",
      "Jamie - 1 - 1525.12\n",
      "Contact Lead + - 1 - 1529.93\n",
      "Contact Lead - - 1 - 1530.8400000000001\n",
      "Jelle - 1 - 1536.23\n",
      "Contact Lead + - 1 - 1541.43\n",
      "Thibeau - 1 - 1553.97\n",
      "Gijs - 1 - 1558.04\n",
      "Dynamic Midfield + - 1 - 1559.1399999999999\n",
      "Thomas - 1 - 1560.47\n",
      "Passing + - 1 - 1562.94\n",
      "Jamie - 1 - 1566.1399999999999\n",
      "Jelle - 1 - 1566.55\n",
      "Circle Possession + - 1 - 1571.3\n",
      "Joep - 1 - 1580.08\n",
      "Joep - 1 - 1585.58\n",
      "Thomas - 1 - 1586.98\n",
      "Passing + - 1 - 1590.18\n",
      "Circle Possession + - 1 - 1592.56\n",
      "Thibeau - 1 - 1645.28\n",
      "Phil - 1 - 1661.56\n",
      "Box + - 1 - 1666.63\n",
      "Jelle - 1 - 1667.7\n",
      "Jelle - 1 - 1672.21\n",
      "Contact Lead - - 1 - 1673.18\n",
      "Contact Lead + - 1 - 1676.8600000000001\n",
      "Circle Possession + - 1 - 1691.75\n",
      "Joep - 1 - 1694.2\n",
      "Passing + - 1 - 1701.49\n",
      "Thomas - 1 - 1701.83\n",
      "Circle Possession + - 1 - 1709.25\n",
      "Joep - 1 - 1747.02\n",
      "Passing - - 1 - 1753.71\n",
      "Thibeau - 1 - 1758.13\n",
      "Jamie - 1 - 1807.46\n",
      "Contact Lead + - 1 - 1812.25\n",
      "Joep - 1 - 1821.56\n",
      "Gijs - 1 - 1825.94\n",
      "Passing + - 1 - 1826.42\n",
      "Sander - 1 - 1847.21\n",
      "Passing - - 1 - 1852.12\n",
      "Joep - 1 - 1852.3899999999999\n",
      "Duel + - 1 - 1856.97\n",
      "Snor - 1 - 1868.65\n",
      "Box + - 1 - 1873.29\n",
      "Jelle - 1 - 1882.6100000000001\n",
      "Contact Lead - - 1 - 1887.38\n",
      "Laurens - 1 - 1894.77\n",
      "Passing + - 1 - 1899.6799999999998\n",
      "Laurens - 1 - 1950.1\n",
      "Duel + - 1 - 1955.24\n",
      "David - 1 - 1970.35\n",
      "Duel + - 1 - 1975.6799999999998\n",
      "Joep - 1 - 1992.69\n",
      "Passing + - 1 - 1997.1599999999999\n",
      "Jelle - 1 - 1998.85\n",
      "Jelle - 1 - 2008.4\n",
      "Passing - - 1 - 2013.6399999999999\n",
      "Joep - 1 - 2035.22\n",
      "Snor - 1 - 2039.29\n",
      "Duel + - 1 - 2040.2\n",
      "Snor - 1 - 2058.44\n",
      "Dynamic Midfield + - 1 - 2063.17\n",
      "Special Robert - 1 - 2064.25\n",
      "Circle Possession - - 1 - 2071.55\n",
      "Pim - 1 - 2082.6\n",
      "Snor - 1 - 2096.6\n",
      "Duel + - 1 - 2102.9700000000003\n",
      "Snor - 1 - 2103.68\n",
      "Passing + - 1 - 2108.69\n",
      "Jelle - 1 - 2111.98\n",
      "Passing - - 1 - 2118.36\n",
      "Sander - 1 - 2125.08\n",
      "Duel + - 1 - 2130.24\n",
      "Jamie - 1 - 2130.37\n",
      "Snor - 1 - 2157.51\n",
      "Joep - 1 - 2164.6\n",
      "David - 1 - 2173.05\n",
      "David - 1 - 2177.5\n",
      "Duel - - 1 - 2178.5\n",
      "Sander - 1 - 2209.89\n",
      "Duel - - 1 - 2215.85\n",
      "Pirmin - 1 - 2279.76\n",
      "Joep - 1 - 2280.2799999999997\n",
      "Pirmin - 1 - 2287.08\n",
      "Pirmin - 1 - 2312.85\n",
      "Joep - 1 - 2313.6099999999997\n",
      "Pirmin - 1 - 2319.62\n",
      "Sander - 1 - 2344.37\n",
      "Phil - 1 - 2348.8900000000003\n",
      "Passing + - 1 - 2350.1800000000003\n",
      "Circle Possession + - 1 - 2361.0699999999997\n",
      "Jelle - 1 - 2361.48\n",
      "Joep - 1 - 2374.1400000000003\n",
      "Thomas - 1 - 2376.42\n",
      "Passing + - 1 - 2379.0299999999997\n",
      "Contact Lead + - 1 - 2381.94\n",
      "Circle Possession + - 1 - 2382.3900000000003\n",
      "Jelle - 1 - 2416.1800000000003\n",
      "Gijs - 1 - 2421.4300000000003\n",
      "Thibeau - 1 - 2426.6800000000003\n",
      "Contact Lead + - 1 - 2431.67\n",
      "Start - 1 - 2481.837018186\n",
      "Sander - 1 - 2516.36\n",
      "Jamie - 1 - 2518.05\n",
      "Passing + - 1 - 2521.4\n",
      "Jamie - 1 - 2525.01\n",
      "Contact Lead + - 1 - 2529.67\n",
      "Special Robert - 1 - 2531.91\n",
      "Joep - 1 - 2539.21\n",
      "Duel + - 1 - 2543.7200000000003\n",
      "Start Q - 1 - 2563.86\n",
      "Gijs - 1 - 2568.62\n",
      "Snor - 1 - 2570.2799999999997\n",
      "Duel + - 1 - 2573.73\n",
      "Phil - 1 - 2575.2799999999997\n",
      "Jamie - 1 - 2578.35\n",
      "Passing + - 1 - 2579.91\n",
      "Jelle - 1 - 2608.5699999999997\n",
      "Gijs - 1 - 2618.21\n",
      "Joep - 1 - 2622.4700000000003\n",
      "Duel - - 1 - 2622.65\n",
      "Joep - 1 - 2631.5699999999997\n",
      "Thomas - 1 - 2648.2200000000003\n",
      "David - 1 - 2657.26\n",
      "Sheldon - 1 - 2659.0699999999997\n",
      "Passing + - 1 - 2661.83\n",
      "Thomas - 1 - 2670.15\n",
      "Circle Possession + - 1 - 2674.52\n",
      "Gijs - 1 - 2679.29\n",
      "Duel + - 1 - 2683.98\n",
      "Sander - 1 - 2687.1\n",
      "Sheldon - 1 - 2699.3\n",
      "Duel + - 1 - 2704.0699999999997\n",
      "Phil - 1 - 2706.13\n",
      "Jamie - 1 - 2710.46\n",
      "Passing + - 1 - 2711.7200000000003\n",
      "Thomas - 1 - 2770.13\n",
      "Jelle - 1 - 2772.11\n",
      "Contact Lead + - 1 - 2776.96\n",
      "Sander - 1 - 2780.6800000000003\n",
      "Passing + - 1 - 2785.1\n",
      "Phil - 1 - 2797.5699999999997\n",
      "Duel + - 1 - 2803.87\n",
      "Phil - 1 - 2810.17\n",
      "Duel - - 1 - 2814.62\n",
      "Joep - 1 - 2831.84\n",
      "Duel + - 1 - 2836.24\n",
      "Thomas - 1 - 2845.01\n",
      "Jelle - 1 - 2848.39\n",
      "Contact Lead - - 1 - 2849.96\n",
      "Contact Lead + - 1 - 2853.09\n",
      "Laurens - 1 - 2865.3199999999997\n",
      "Duel + - 1 - 2869.77\n",
      "Sander - 1 - 2879.75\n",
      "Laurens - 1 - 2882.4\n",
      "Passing + - 1 - 2884.4\n",
      "Duel + - 1 - 2889.7\n",
      "Joep - 1 - 2939.58\n",
      "Duel + - 1 - 2944.54\n",
      "Laurens - 1 - 2953.67\n",
      "Phil - 1 - 2954.67\n",
      "Dynamic Midfield + - 1 - 2960.27\n",
      "Gijs - 1 - 2973.7799999999997\n",
      "Duel + - 1 - 2978.2200000000003\n",
      "Thomas - 1 - 2980.4\n",
      "Special Robert - 1 - 2981.12\n",
      "Jelle - 1 - 2983.79\n",
      "Joep - 1 - 2989.11\n",
      "Joep - 1 - 2997.06\n",
      "Passing + - 1 - 3001.89\n",
      "Jelle - 1 - 3026.25\n",
      "Contact Lead + - 1 - 3031.26\n",
      "David - 1 - 3043.6\n",
      "Sheldon - 1 - 3066.87\n",
      "Phil - 1 - 3067.7799999999997\n",
      "Dynamic Midfield - - 1 - 3073.19\n",
      "Gijs - 1 - 3084.14\n",
      "Duel + - 1 - 3088.58\n",
      "Laurens - 1 - 3101.7799999999997\n",
      "Duel + - 1 - 3106.63\n",
      "Laurens - 1 - 3116.45\n",
      "Duel + - 1 - 3121.39\n",
      "Gijs - 1 - 3121.93\n",
      "Passing + - 1 - 3126.43\n",
      "Jamie - 1 - 3131.18\n",
      "Joep - 1 - 3199.99\n",
      "Duel + - 1 - 3204.64\n",
      "Sander - 1 - 3215.99\n",
      "Sheldon - 1 - 3218.02\n",
      "Passing + - 1 - 3220.59\n",
      "Sheldon - 1 - 3222.4\n",
      "Laurens - 1 - 3228.32\n",
      "Phil - 1 - 3230.31\n",
      "Duel + - 1 - 3235.9700000000003\n",
      "Jelle - 1 - 3238.99\n",
      "Passing + - 1 - 3245.3\n",
      "Jamie - 1 - 3247.67\n",
      "Contact Lead - - 1 - 3253.33\n",
      "Sander - 1 - 3270.13\n",
      "Jelle - 1 - 3277.0299999999997\n",
      "Circle Possession + - 1 - 3282.84\n",
      "Jelle - 1 - 3291.81\n",
      "Snor - 1 - 3302.36\n",
      "Jelle - 1 - 3310.83\n",
      "Pim - 1 - 3316.1\n",
      "Snor - 1 - 3350.63\n",
      "Pim - 1 - 3355.09\n",
      "Passing + - 1 - 3355.17\n",
      "Duel + - 1 - 3359.41\n",
      "Jelle - 1 - 3360.11\n",
      "Jamie - 1 - 3360.8\n",
      "Circle Possession + - 1 - 3365.56\n",
      "Gijs - 1 - 3380.2200000000003\n",
      "Passing + - 1 - 3387.5299999999997\n",
      "Laurens - 1 - 3387.95\n",
      "Jamie - 1 - 3408.43\n",
      "Contact Lead - - 1 - 3413.04\n",
      "Phil - 1 - 3413.11\n",
      "Dynamic Midfield + - 1 - 3418.39\n",
      "Jamie - 1 - 3418.87\n",
      "Sheldon - 1 - 3482.38\n",
      "Pirmin - 1 - 3484.2200000000003\n",
      "Duel - - 1 - 3487.29\n",
      "Jamie - 1 - 3572.15\n",
      "Joep - 1 - 3583.0\n",
      "Duel + - 1 - 3587.45\n",
      "Gijs - 1 - 3603.31\n",
      "Passing + - 1 - 3607.79\n",
      "Gijs - 1 - 3745.5299999999997\n",
      "Duel + - 1 - 3750.41\n",
      "Sander - 1 - 3759.01\n",
      "Phil - 1 - 3763.45\n",
      "Dynamic Midfield + - 1 - 3765.38\n",
      "Passing + - 1 - 3766.45\n",
      "David - 1 - 3768.7200000000003\n",
      "Thomas - 1 - 3771.8599999999997\n",
      "Contact Lead + - 1 - 3776.49\n",
      "Start - 1 - 3744.595564886\n",
      "Thibeau - 1 - 3785.2200000000003\n",
      "Passing + - 1 - 3790.1099999999997\n",
      "Jamie - 1 - 3803.26\n",
      "Contact Lead + - 1 - 3807.84\n",
      "Sheldon - 1 - 3817.81\n",
      "Duel - - 1 - 3823.1800000000003\n",
      "Pirmin - 1 - 3836.21\n",
      "Sheldon - 1 - 3837.9700000000003\n",
      "Duel - - 1 - 3842.49\n",
      "Jelle - 1 - 3844.7200000000003\n",
      "Duel + - 1 - 3849.1800000000003\n",
      "Thibeau - 1 - 3874.25\n",
      "Thomas - 1 - 3875.0299999999997\n",
      "Joep - 1 - 3905.3900000000003\n",
      "Thomas - 1 - 3907.09\n",
      "Passing + - 1 - 3909.85\n",
      "Jelle - 1 - 3933.69\n",
      "Contact Lead + - 1 - 3938.67\n",
      "David - 1 - 3946.56\n",
      "Sheldon - 1 - 3957.59\n",
      "Passing + - 1 - 3962.1800000000003\n",
      "Joep - 1 - 4019.63\n",
      "Gijs - 1 - 4022.17\n",
      "Sander - 1 - 4085.2799999999997\n",
      "Sander - 1 - 4090.37\n",
      "Duel - - 1 - 4090.4\n",
      "Duel + - 1 - 4093.69\n",
      "Gijs - 1 - 4125.82\n",
      "Special Robert - 1 - 4130.83\n",
      "Sander - 1 - 4166.88\n",
      "Passing - - 1 - 4171.9400000000005\n",
      "Sander - 1 - 4171.95\n",
      "Sander - 1 - 4191.86\n",
      "Duel + - 1 - 4196.78\n",
      "Sander - 1 - 4210.82\n",
      "Joep - 1 - 4219.5\n",
      "Snor - 1 - 4222.49\n",
      "Sheldon - 1 - 4227.79\n",
      "Passing - - 1 - 4233.8099999999995\n",
      "Laurens - 1 - 4292.12\n",
      "Duel - - 1 - 4297.16\n",
      "Joep - 1 - 4316.01\n",
      "Laurens - 1 - 4327.04\n",
      "Contact Lead - - 1 - 4332.03\n",
      "Laurens - 1 - 4354.49\n",
      "Duel + - 1 - 4360.14\n",
      "Jelle - 1 - 4393.18\n",
      "Contact Lead + - 1 - 4397.71\n",
      "Gijs - 1 - 4397.74\n",
      "Duel - - 1 - 4402.15\n",
      "Sheldon - 1 - 4426.66\n",
      "Sheldon - 1 - 4432.22\n",
      "Passing - - 1 - 4438.82\n",
      "David - 1 - 4450.6900000000005\n",
      "Duel + - 1 - 4455.65\n",
      "Sander - 1 - 4469.63\n",
      "Thomas - 1 - 4475.88\n",
      "Passing - - 1 - 4480.41\n",
      "Gijs - 1 - 4489.73\n",
      "Duel - - 1 - 4496.29\n",
      "Sander - 1 - 4503.27\n",
      "Gijs - 1 - 4504.98\n",
      "Pirmin - 1 - 4506.6\n",
      "Sheldon - 1 - 4530.26\n",
      "Pirmin - 1 - 4628.49\n",
      "Joep - 1 - 4648.48\n",
      "Phil - 1 - 4651.17\n",
      "Duel + - 1 - 4653.1\n",
      "David - 1 - 4675.88\n",
      "Jelle - 1 - 4689.62\n",
      "Duel + - 1 - 4694.93\n",
      "Jamie - 1 - 4752.54\n",
      "Duel - - 1 - 4757.35\n",
      "Sander - 1 - 4774.889999999999\n",
      "Jamie - 1 - 4781.96\n",
      "Duel + - 1 - 4786.92\n",
      "Sheldon - 1 - 4835.26\n",
      "Thibeau - 1 - 4856.87\n",
      "Duel + - 1 - 4861.51\n",
      "Gijs - 1 - 4875.8\n",
      "Duel - - 1 - 4880.27\n"
     ]
    }
   ],
   "source": [
    "# Show all records within the dataset\n",
    "for record in dataset:\n",
    "    print(f\"{record.code} - {record.period.id} - {record.timestamp}\")"
   ]
  },
  {
   "cell_type": "markdown",
   "id": "3b10d869",
   "metadata": {
    "slideshow": {
     "slide_type": "slide"
    }
   },
   "source": [
    "# Lets do some pre processing"
   ]
  },
  {
   "cell_type": "code",
   "execution_count": 8,
   "id": "eb94a4da",
   "metadata": {
    "slideshow": {
     "slide_type": "subslide"
    }
   },
   "outputs": [],
   "source": [
    "from kloppy.domain import Period\n",
    "\n",
    "dataset = sportscode.load(\"files/DBO - OR 2 (1).xml\")\n",
    "\n",
    "period = None\n",
    "for record in dataset.records:\n",
    "    if record.code == \"Start\":\n",
    "        if period:\n",
    "            # End current period\n",
    "            period.end_timestamp = record.timestamp - 0.001\n",
    "\n",
    "        period = Period(id=period.id + 1 if period else 1, start_timestamp=record.timestamp, end_timestamp=None)\n",
    "\n",
    "    if not period:\n",
    "        # Data before first 'Period marker'\n",
    "        continue\n",
    "\n",
    "    record.period = period\n",
    "    record.timestamp -= period.start_timestamp"
   ]
  },
  {
   "cell_type": "code",
   "execution_count": 9,
   "id": "be036851",
   "metadata": {
    "slideshow": {
     "slide_type": "subslide"
    }
   },
   "outputs": [
    {
     "name": "stdout",
     "output_type": "stream",
     "text": [
      "Sander - 1 - 98.03999999999999\n",
      "Start Q - 1 - 101.02000000000001\n",
      "Start - 1 - 0.0\n",
      "Joep - 1 - 54.69482013300008\n",
      "Duel - - 1 - 59.844820133000056\n",
      "Gijs - 1 - 67.04482013300004\n",
      "David - 1 - 69.35482013300005\n",
      "Duel + - 1 - 71.51482013300007\n",
      "Sander - 1 - 85.08482013300006\n",
      "Gijs - 1 - 93.51482013300007\n",
      "Passing + - 1 - 99.10482013300005\n",
      "Jamie - 1 - 113.28482013300005\n",
      "Special Robert - 1 - 149.83482013300005\n",
      "Gijs - 1 - 155.33482013300005\n",
      "Sander - 1 - 156.76482013300006\n",
      "Duel + - 1 - 159.98482013300003\n",
      "Jelle - 1 - 162.32482013300006\n",
      "Thomas - 1 - 182.89482013300005\n",
      "Contact Lead + - 1 - 185.91482013300003\n",
      "Jamie - 1 - 190.0448201330001\n",
      "Contact Lead - - 1 - 195.5448201330001\n",
      "Sheldon - 1 - 198.634820133\n",
      "Jamie - 1 - 217.31482013300007\n",
      "Circle Possession + - 1 - 217.80482013300002\n",
      "Phil - 1 - 219.51482013300006\n",
      "Jamie - 1 - 222.90482013300004\n",
      "Joep - 1 - 225.24482013300002\n",
      "Gijs - 1 - 248.80482013300002\n",
      "Gijs - 1 - 256.924820133\n",
      "Jamie - 1 - 257.70482013300006\n",
      "Pirmin - 1 - 269.554820133\n",
      "Phil - 1 - 275.94482013300006\n",
      "Jelle - 1 - 278.424820133\n",
      "Passing + - 1 - 280.69482013300006\n",
      "Laurens - 1 - 285.19482013300006\n",
      "Thomas - 1 - 286.96482013300005\n",
      "Circle Possession + - 1 - 287.03482013300004\n",
      "Jelle - 1 - 290.91482013300003\n",
      "Special Robert - 1 - 342.60482013300003\n",
      "Sander - 1 - 359.10482013300003\n",
      "Duel - - 1 - 364.26482013300006\n",
      "David - 1 - 366.6848201330001\n",
      "Duel + - 1 - 372.9348201330001\n",
      "Pirmin - 1 - 386.34482013300004\n",
      "Pirmin - 1 - 440.294820133\n",
      "Joep - 1 - 440.744820133\n",
      "Pirmin - 1 - 448.4248201330001\n",
      "Joep - 1 - 448.994820133\n",
      "Duel + - 1 - 456.58482013300005\n",
      "Thibeau - 1 - 494.874820133\n",
      "Box + - 1 - 496.57482013300006\n",
      "Joep - 1 - 497.764820133\n",
      "Sander - 1 - 507.1548201330001\n",
      "Special Robert - 1 - 512.1048201330001\n",
      "Jelle - 1 - 531.5348201330002\n",
      "Duel + - 1 - 536.2648201330001\n",
      "Phil - 1 - 541.6748201330001\n",
      "Duel + - 1 - 547.4748201330001\n",
      "Pim - 1 - 601.9448201330001\n",
      "Duel - - 1 - 606.7548201330001\n",
      "Pirmin - 1 - 654.8148201330001\n",
      "Joep - 1 - 656.1848201330001\n",
      "Joep - 1 - 661.1848201330001\n",
      "Duel + - 1 - 665.524820133\n",
      "Pirmin - 1 - 672.2348201330001\n",
      "Pirmin - 1 - 677.0148201330001\n",
      "Pirmin - 1 - 720.9348201330001\n",
      "Joep - 1 - 721.7248201330001\n",
      "Pirmin - 1 - 726.5148201330001\n",
      "Joep - 1 - 752.6248201330001\n",
      "Snor - 1 - 760.5848201330001\n",
      "Snor - 1 - 766.2248201330001\n",
      "Passing + - 1 - 769.3448201330001\n",
      "Thibeau - 1 - 783.3148201330001\n",
      "Joep - 1 - 787.4148201330001\n",
      "Box + - 1 - 788.6048201330001\n",
      "Thomas - 1 - 791.4748201330001\n",
      "Contact Lead + - 1 - 796.3748201330001\n",
      "Circle Possession - - 1 - 816.5148201330001\n",
      "Thibeau - 1 - 839.4948201330001\n",
      "Box + - 1 - 846.2348201330001\n",
      "Joep - 1 - 866.5548201330001\n",
      "Gijs - 1 - 870.4248201330001\n",
      "Passing + - 1 - 872.2048201330001\n",
      "Gijs - 1 - 916.0748201330001\n",
      "Duel + - 1 - 920.5748201330001\n",
      "Sheldon - 1 - 939.9448201330001\n",
      "Duel + - 1 - 944.5348201330003\n",
      "Snor - 1 - 953.6648201330001\n",
      "Joep - 1 - 956.2148201330001\n",
      "Box + - 1 - 958.6748201330001\n",
      "Sander - 1 - 963.1148201330002\n",
      "Passing + - 1 - 964.5148201330001\n",
      "Gijs - 1 - 975.2448201330001\n",
      "Passing + - 1 - 980.8948201330002\n",
      "Thomas - 1 - 985.804820133\n",
      "Duel + - 1 - 991.2048201330001\n",
      "Gijs - 1 - 1049.6348201330002\n",
      "Start Q - 1 - 1204.4348201330001\n",
      "Start - 2 - 0.0\n",
      "Jelle - 2 - 2.6621400459998767\n",
      "Contact Lead + - 2 - 7.602140045999931\n",
      "Sander - 2 - 13.752140045999795\n",
      "Passing + - 2 - 18.622140045999913\n",
      "Jelle - 2 - 29.32214004599996\n",
      "Circle Possession + - 2 - 31.122140045999913\n",
      "Laurens - 2 - 32.81214004599997\n",
      "Box + - 2 - 50.502140045999795\n",
      "Jelle - 2 - 52.26214004600001\n",
      "Contact Lead + - 2 - 57.502140045999795\n",
      "Sander - 2 - 94.85214004599993\n",
      "Snor - 2 - 96.532140046\n",
      "Passing - - 2 - 99.74214004600003\n",
      "Joep - 2 - 117.43214004599986\n",
      "Passing + - 2 - 122.44214004599985\n",
      "Circle Possession + - 2 - 123.80214004599998\n",
      "Jelle - 2 - 128.42214004599987\n",
      "Gijs - 2 - 129.84214004599994\n",
      "Thomas - 2 - 131.17214004599987\n",
      "Laurens - 2 - 132.20214004599984\n",
      "Circle Possession + - 2 - 137.012140046\n",
      "Thomas - 2 - 148.1221400459999\n",
      "Contact Lead + - 2 - 152.77214004599978\n",
      "Gijs - 2 - 171.74214004600003\n",
      "Duel + - 2 - 177.31214004599997\n",
      "Snor - 2 - 191.9821400459998\n",
      "Duel - - 2 - 197.7321400459998\n",
      "Joep - 2 - 215.86214004599992\n",
      "Jamie - 2 - 220.0021400459998\n",
      "Contact Lead + - 2 - 224.81214004599997\n",
      "Contact Lead - - 2 - 225.72214004600005\n",
      "Jelle - 2 - 231.11214004599992\n",
      "Contact Lead + - 2 - 236.31214004599997\n",
      "Thibeau - 2 - 248.85214004599993\n",
      "Gijs - 2 - 252.92214004599987\n",
      "Dynamic Midfield + - 2 - 254.02214004599978\n",
      "Thomas - 2 - 255.35214004599993\n",
      "Passing + - 2 - 257.82214004599996\n",
      "Jamie - 2 - 261.0221400459998\n",
      "Jelle - 2 - 261.43214004599986\n",
      "Circle Possession + - 2 - 266.18214004599986\n",
      "Joep - 2 - 274.96214004599983\n",
      "Joep - 2 - 280.46214004599983\n",
      "Thomas - 2 - 281.8621400459999\n",
      "Passing + - 2 - 285.06214004599997\n",
      "Circle Possession + - 2 - 287.44214004599985\n",
      "Thibeau - 2 - 340.1621400459999\n",
      "Phil - 2 - 356.44214004599985\n",
      "Box + - 2 - 361.512140046\n",
      "Jelle - 2 - 362.58214004599995\n",
      "Jelle - 2 - 367.09214004599994\n",
      "Contact Lead - - 2 - 368.06214004599997\n",
      "Contact Lead + - 2 - 371.74214004600003\n",
      "Circle Possession + - 2 - 386.6321400459999\n",
      "Joep - 2 - 389.08214004599995\n",
      "Passing + - 2 - 396.3721400459999\n",
      "Thomas - 2 - 396.71214004599983\n",
      "Circle Possession + - 2 - 404.1321400459999\n",
      "Joep - 2 - 441.9021400459999\n",
      "Passing - - 2 - 448.59214004599994\n",
      "Thibeau - 2 - 453.012140046\n",
      "Jamie - 2 - 502.34214004599994\n",
      "Contact Lead + - 2 - 507.1321400459999\n",
      "Joep - 2 - 516.4421400459998\n",
      "Gijs - 2 - 520.822140046\n",
      "Passing + - 2 - 521.302140046\n",
      "Sander - 2 - 542.0921400459999\n",
      "Passing - - 2 - 547.0021400459998\n",
      "Joep - 2 - 547.2721400459998\n",
      "Duel + - 2 - 551.8521400459999\n",
      "Snor - 2 - 563.532140046\n",
      "Box + - 2 - 568.1721400459999\n",
      "Jelle - 2 - 577.492140046\n",
      "Contact Lead - - 2 - 582.262140046\n",
      "Laurens - 2 - 589.6521400459999\n",
      "Passing + - 2 - 594.5621400459997\n",
      "Laurens - 2 - 644.9821400459998\n",
      "Duel + - 2 - 650.1221400459999\n",
      "David - 2 - 665.2321400459998\n",
      "Duel + - 2 - 670.5621400459997\n",
      "Joep - 2 - 687.572140046\n",
      "Passing + - 2 - 692.0421400459998\n",
      "Jelle - 2 - 693.7321400459998\n",
      "Jelle - 2 - 703.282140046\n",
      "Passing - - 2 - 708.5221400459998\n",
      "Joep - 2 - 730.1021400459999\n",
      "Snor - 2 - 734.1721400459999\n",
      "Duel + - 2 - 735.082140046\n",
      "Snor - 2 - 753.322140046\n",
      "Dynamic Midfield + - 2 - 758.052140046\n",
      "Special Robert - 2 - 759.1321400459999\n",
      "Circle Possession - - 2 - 766.4321400460001\n",
      "Pim - 2 - 777.4821400459998\n",
      "Snor - 2 - 791.4821400459998\n",
      "Duel + - 2 - 797.8521400460002\n",
      "Snor - 2 - 798.5621400459997\n",
      "Passing + - 2 - 803.572140046\n",
      "Jelle - 2 - 806.8621400459999\n",
      "Passing - - 2 - 813.242140046\n",
      "Sander - 2 - 819.9621400459998\n",
      "Duel + - 2 - 825.1221400459997\n",
      "Jamie - 2 - 825.2521400459998\n",
      "Snor - 2 - 852.3921400460001\n",
      "Joep - 2 - 859.4821400459998\n",
      "David - 2 - 867.9321400460001\n",
      "David - 2 - 872.3821400459999\n",
      "Duel - - 2 - 873.3821400459999\n",
      "Sander - 2 - 904.7721400459998\n",
      "Duel - - 2 - 910.7321400459998\n",
      "Pirmin - 2 - 974.6421400460001\n",
      "Joep - 2 - 975.1621400459996\n",
      "Pirmin - 2 - 981.9621400459998\n",
      "Pirmin - 2 - 1007.7321400459998\n",
      "Joep - 2 - 1008.4921400459996\n",
      "Pirmin - 2 - 1014.5021400459998\n",
      "Sander - 2 - 1039.2521400459998\n",
      "Phil - 2 - 1043.7721400460002\n",
      "Passing + - 2 - 1045.0621400460002\n",
      "Circle Possession + - 2 - 1055.9521400459996\n",
      "Jelle - 2 - 1056.362140046\n",
      "Joep - 2 - 1069.0221400460002\n",
      "Thomas - 2 - 1071.302140046\n",
      "Passing + - 2 - 1073.9121400459996\n",
      "Contact Lead + - 2 - 1076.822140046\n",
      "Circle Possession + - 2 - 1077.2721400460002\n",
      "Jelle - 2 - 1111.0621400460002\n",
      "Gijs - 2 - 1116.3121400460002\n",
      "Thibeau - 2 - 1121.5621400460002\n",
      "Contact Lead + - 2 - 1126.552140046\n",
      "Start - 3 - 0.0\n",
      "Sander - 3 - 34.522981814000104\n",
      "Jamie - 3 - 36.21298181400016\n",
      "Passing + - 3 - 39.56298181400007\n",
      "Jamie - 3 - 43.172981814000195\n",
      "Contact Lead + - 3 - 47.83298181400005\n",
      "Special Robert - 3 - 50.07298181399983\n",
      "Joep - 3 - 57.37298181400001\n",
      "Duel + - 3 - 61.88298181400023\n",
      "Start Q - 3 - 82.0229818140001\n",
      "Gijs - 3 - 86.78298181399987\n",
      "Snor - 3 - 88.44298181399972\n",
      "Duel + - 3 - 91.892981814\n",
      "Phil - 3 - 93.44298181399972\n",
      "Jamie - 3 - 96.51298181399989\n",
      "Passing + - 3 - 98.07298181399983\n",
      "Jelle - 3 - 126.73298181399969\n",
      "Gijs - 3 - 136.372981814\n",
      "Joep - 3 - 140.63298181400023\n",
      "Duel - - 3 - 140.81298181400007\n",
      "Joep - 3 - 149.7329818139997\n",
      "Thomas - 3 - 166.38298181400023\n",
      "David - 3 - 175.4229818140002\n",
      "Sheldon - 3 - 177.2329818139997\n",
      "Passing + - 3 - 179.9929818139999\n",
      "Thomas - 3 - 188.31298181400007\n",
      "Circle Possession + - 3 - 192.68298181399996\n",
      "Gijs - 3 - 197.45298181399994\n",
      "Duel + - 3 - 202.142981814\n",
      "Sander - 3 - 205.2629818139999\n",
      "Sheldon - 3 - 217.46298181400016\n",
      "Duel + - 3 - 222.2329818139997\n",
      "Phil - 3 - 224.2929818140001\n",
      "Jamie - 3 - 228.622981814\n",
      "Passing + - 3 - 229.88298181400023\n",
      "Thomas - 3 - 288.2929818140001\n",
      "Jelle - 3 - 290.2729818140001\n",
      "Contact Lead + - 3 - 295.122981814\n",
      "Sander - 3 - 298.84298181400027\n",
      "Passing + - 3 - 303.2629818139999\n",
      "Phil - 3 - 315.7329818139997\n",
      "Duel + - 3 - 322.03298181399987\n",
      "Phil - 3 - 328.33298181400005\n",
      "Duel - - 3 - 332.78298181399987\n",
      "Joep - 3 - 350.0029818140001\n",
      "Duel + - 3 - 354.40298181399976\n",
      "Thomas - 3 - 363.1729818140002\n",
      "Jelle - 3 - 366.55298181399985\n",
      "Contact Lead - - 3 - 368.122981814\n",
      "Contact Lead + - 3 - 371.2529818140001\n",
      "Laurens - 3 - 383.4829818139997\n",
      "Duel + - 3 - 387.93298181399996\n",
      "Sander - 3 - 397.912981814\n",
      "Laurens - 3 - 400.56298181400007\n",
      "Passing + - 3 - 402.56298181400007\n",
      "Duel + - 3 - 407.8629818139998\n",
      "Joep - 3 - 457.7429818139999\n",
      "Duel + - 3 - 462.70298181399994\n",
      "Laurens - 3 - 471.83298181400005\n",
      "Phil - 3 - 472.83298181400005\n",
      "Dynamic Midfield + - 3 - 478.43298181399996\n",
      "Gijs - 3 - 491.9429818139997\n",
      "Duel + - 3 - 496.38298181400023\n",
      "Thomas - 3 - 498.56298181400007\n",
      "Special Robert - 3 - 499.28298181399987\n",
      "Jelle - 3 - 501.95298181399994\n",
      "Joep - 3 - 507.2729818140001\n",
      "Joep - 3 - 515.2229818139999\n",
      "Passing + - 3 - 520.0529818139998\n",
      "Jelle - 3 - 544.412981814\n",
      "Contact Lead + - 3 - 549.4229818140002\n",
      "David - 3 - 561.7629818139999\n",
      "Sheldon - 3 - 585.0329818139999\n",
      "Phil - 3 - 585.9429818139997\n",
      "Dynamic Midfield - - 3 - 591.352981814\n",
      "Gijs - 3 - 602.3029818139998\n",
      "Duel + - 3 - 606.7429818139999\n",
      "Laurens - 3 - 619.9429818139997\n",
      "Duel + - 3 - 624.7929818140001\n",
      "Laurens - 3 - 634.6129818139998\n",
      "Duel + - 3 - 639.5529818139998\n",
      "Gijs - 3 - 640.0929818139998\n",
      "Passing + - 3 - 644.5929818139998\n",
      "Jamie - 3 - 649.3429818139998\n",
      "Joep - 3 - 718.1529818139998\n",
      "Duel + - 3 - 722.8029818139998\n",
      "Sander - 3 - 734.1529818139998\n",
      "Sheldon - 3 - 736.182981814\n",
      "Passing + - 3 - 738.7529818140001\n",
      "Sheldon - 3 - 740.5629818140001\n",
      "Laurens - 3 - 746.4829818140001\n",
      "Phil - 3 - 748.4729818139999\n",
      "Duel + - 3 - 754.1329818140002\n",
      "Jelle - 3 - 757.1529818139998\n",
      "Passing + - 3 - 763.4629818140002\n",
      "Jamie - 3 - 765.832981814\n",
      "Contact Lead - - 3 - 771.4929818139999\n",
      "Sander - 3 - 788.2929818140001\n",
      "Jelle - 3 - 795.1929818139997\n",
      "Circle Possession + - 3 - 801.0029818140001\n",
      "Jelle - 3 - 809.9729818139999\n",
      "Snor - 3 - 820.5229818140001\n",
      "Jelle - 3 - 828.9929818139999\n",
      "Pim - 3 - 834.2629818139999\n",
      "Snor - 3 - 868.7929818140001\n",
      "Pim - 3 - 873.2529818140001\n",
      "Passing + - 3 - 873.332981814\n",
      "Duel + - 3 - 877.5729818139998\n",
      "Jelle - 3 - 878.2729818140001\n",
      "Jamie - 3 - 878.9629818140002\n",
      "Circle Possession + - 3 - 883.7229818139999\n",
      "Gijs - 3 - 898.3829818140002\n",
      "Passing + - 3 - 905.6929818139997\n",
      "Laurens - 3 - 906.1129818139998\n",
      "Jamie - 3 - 926.5929818139998\n",
      "Contact Lead - - 3 - 931.2029818139999\n",
      "Phil - 3 - 931.2729818140001\n",
      "Dynamic Midfield + - 3 - 936.5529818139998\n",
      "Jamie - 3 - 937.0329818139999\n",
      "Sheldon - 3 - 1000.5429818140001\n",
      "Pirmin - 3 - 1002.3829818140002\n",
      "Duel - - 3 - 1005.4529818139999\n",
      "Jamie - 3 - 1090.312981814\n",
      "Joep - 3 - 1101.162981814\n",
      "Duel + - 3 - 1105.6129818139998\n",
      "Gijs - 3 - 1121.472981814\n",
      "Passing + - 3 - 1125.952981814\n",
      "Gijs - 3 - 1263.6929818139997\n",
      "Duel + - 3 - 1268.5729818139998\n",
      "Sander - 3 - 1277.1729818140002\n",
      "Phil - 3 - 1281.6129818139998\n",
      "Dynamic Midfield + - 3 - 1283.542981814\n",
      "Passing + - 3 - 1284.6129818139998\n",
      "David - 3 - 1286.8829818140002\n",
      "Thomas - 3 - 1290.0229818139996\n",
      "Contact Lead + - 3 - 1294.6529818139998\n",
      "Start - 4 - 0.0\n",
      "Thibeau - 4 - 40.624435114000335\n",
      "Passing + - 4 - 45.51443511399975\n",
      "Jamie - 4 - 58.6644351140003\n",
      "Contact Lead + - 4 - 63.244435114000225\n",
      "Sheldon - 4 - 73.21443511400003\n",
      "Duel - - 4 - 78.58443511400037\n",
      "Pirmin - 4 - 91.61443511400012\n",
      "Sheldon - 4 - 93.37443511400033\n",
      "Duel - - 4 - 97.89443511399986\n",
      "Jelle - 4 - 100.12443511400033\n",
      "Duel + - 4 - 104.58443511400037\n",
      "Thibeau - 4 - 129.65443511400008\n",
      "Thomas - 4 - 130.43443511399983\n",
      "Joep - 4 - 160.7944351140004\n",
      "Thomas - 4 - 162.49443511400023\n",
      "Passing + - 4 - 165.254435114\n",
      "Jelle - 4 - 189.09443511400013\n",
      "Contact Lead + - 4 - 194.07443511400015\n",
      "David - 4 - 201.96443511400003\n",
      "Sheldon - 4 - 212.99443511400023\n",
      "Passing + - 4 - 217.58443511400037\n",
      "Joep - 4 - 275.0344351140002\n",
      "Gijs - 4 - 277.57443511400015\n",
      "Sander - 4 - 340.6844351139998\n",
      "Sander - 4 - 345.77443511399997\n",
      "Duel - - 4 - 345.80443511400017\n",
      "Duel + - 4 - 349.09443511400013\n",
      "Gijs - 4 - 381.2244351139998\n",
      "Special Robert - 4 - 386.234435114\n",
      "Sander - 4 - 422.2844351140002\n",
      "Passing - - 4 - 427.3444351140006\n",
      "Sander - 4 - 427.3544351139999\n",
      "Sander - 4 - 447.26443511399975\n",
      "Duel + - 4 - 452.1844351139998\n",
      "Sander - 4 - 466.2244351139998\n",
      "Joep - 4 - 474.9044351140001\n",
      "Snor - 4 - 477.89443511399986\n",
      "Sheldon - 4 - 483.19443511400004\n",
      "Passing - - 4 - 489.21443511399957\n",
      "Laurens - 4 - 547.524435114\n",
      "Duel - - 4 - 552.5644351139999\n",
      "Joep - 4 - 571.4144351140003\n",
      "Laurens - 4 - 582.444435114\n",
      "Contact Lead - - 4 - 587.4344351139998\n",
      "Laurens - 4 - 609.8944351139999\n",
      "Duel + - 4 - 615.5444351140004\n",
      "Jelle - 4 - 648.5844351140004\n",
      "Contact Lead + - 4 - 653.1144351140001\n",
      "Gijs - 4 - 653.1444351139999\n",
      "Duel - - 4 - 657.5544351139997\n",
      "Sheldon - 4 - 682.0644351139999\n",
      "Sheldon - 4 - 687.6244351140003\n",
      "Passing - - 4 - 694.2244351139998\n",
      "David - 4 - 706.0944351140006\n",
      "Duel + - 4 - 711.0544351139997\n",
      "Sander - 4 - 725.0344351140002\n",
      "Thomas - 4 - 731.2844351140002\n",
      "Passing - - 4 - 735.8144351139999\n",
      "Gijs - 4 - 745.1344351139996\n",
      "Duel - - 4 - 751.694435114\n",
      "Sander - 4 - 758.6744351140005\n",
      "Gijs - 4 - 760.3844351139996\n",
      "Pirmin - 4 - 762.0044351140004\n",
      "Sheldon - 4 - 785.6644351140003\n",
      "Pirmin - 4 - 883.8944351139999\n",
      "Joep - 4 - 903.8844351139996\n",
      "Phil - 4 - 906.5744351140002\n",
      "Duel + - 4 - 908.5044351140004\n",
      "David - 4 - 931.2844351140002\n",
      "Jelle - 4 - 945.024435114\n",
      "Duel + - 4 - 950.3344351140004\n",
      "Jamie - 4 - 1007.944435114\n",
      "Duel - - 4 - 1012.7544351140004\n",
      "Sander - 4 - 1030.2944351139995\n",
      "Jamie - 4 - 1037.3644351140001\n",
      "Duel + - 4 - 1042.3244351140002\n",
      "Sheldon - 4 - 1090.6644351140003\n",
      "Thibeau - 4 - 1112.274435114\n",
      "Duel + - 4 - 1116.9144351140003\n",
      "Gijs - 4 - 1131.2044351140003\n",
      "Duel - - 4 - 1135.6744351140005\n"
     ]
    }
   ],
   "source": [
    "for record in dataset:\n",
    "    print(f\"{record.code} - {record.period.id} - {record.timestamp}\")"
   ]
  },
  {
   "cell_type": "markdown",
   "id": "ded9e0e7",
   "metadata": {
    "slideshow": {
     "slide_type": "slide"
    }
   },
   "source": [
    "# Lets do some data cleaning"
   ]
  },
  {
   "cell_type": "code",
   "execution_count": 10,
   "id": "daab2016",
   "metadata": {
    "slideshow": {
     "slide_type": "subslide"
    }
   },
   "outputs": [],
   "source": [
    "PLAYERS = [\"Gijs\", \"Jamie\", \"Sander\", \"Jelle\", \"Sheldon\", \"Phil\"]\n",
    "\n",
    "players_dataset = dataset.filter(lambda item: item.code in PLAYERS)"
   ]
  },
  {
   "cell_type": "code",
   "execution_count": null,
   "id": "0c05e012",
   "metadata": {
    "slideshow": {
     "slide_type": "fragment"
    }
   },
   "outputs": [],
   "source": [
    "for record in players_dataset:\n",
    "    print(f\"{record.code} - {record.period.id} - {record.timestamp}\")"
   ]
  },
  {
   "cell_type": "code",
   "execution_count": 12,
   "id": "54cf5610",
   "metadata": {
    "slideshow": {
     "slide_type": "slide"
    }
   },
   "outputs": [
    {
     "data": {
      "text/html": [
       "<div>\n",
       "<style scoped>\n",
       "    .dataframe tbody tr th:only-of-type {\n",
       "        vertical-align: middle;\n",
       "    }\n",
       "\n",
       "    .dataframe tbody tr th {\n",
       "        vertical-align: top;\n",
       "    }\n",
       "\n",
       "    .dataframe thead th {\n",
       "        text-align: right;\n",
       "    }\n",
       "</style>\n",
       "<table border=\"1\" class=\"dataframe\">\n",
       "  <thead>\n",
       "    <tr style=\"text-align: right;\">\n",
       "      <th></th>\n",
       "      <th>code_id</th>\n",
       "      <th>period_id</th>\n",
       "      <th>timestamp</th>\n",
       "      <th>end_timestamp</th>\n",
       "      <th>code</th>\n",
       "      <th>Duel +</th>\n",
       "      <th>BW1</th>\n",
       "      <th>Passing +</th>\n",
       "      <th>BV3</th>\n",
       "      <th>Contact      Lead -</th>\n",
       "      <th>...</th>\n",
       "      <th>Duel -</th>\n",
       "      <th>Contact        Lead +</th>\n",
       "      <th>Passing -</th>\n",
       "      <th>Box +</th>\n",
       "      <th>BV2</th>\n",
       "      <th>Dynamic Midfield +</th>\n",
       "      <th>BW2</th>\n",
       "      <th>Dynamic Midfield -</th>\n",
       "      <th>BW3</th>\n",
       "      <th>BV1</th>\n",
       "    </tr>\n",
       "  </thead>\n",
       "  <tbody>\n",
       "    <tr>\n",
       "      <th>0</th>\n",
       "      <td>1</td>\n",
       "      <td>1</td>\n",
       "      <td>98.040000</td>\n",
       "      <td>112.05</td>\n",
       "      <td>Sander</td>\n",
       "      <td>None</td>\n",
       "      <td>None</td>\n",
       "      <td>None</td>\n",
       "      <td>None</td>\n",
       "      <td>None</td>\n",
       "      <td>...</td>\n",
       "      <td>None</td>\n",
       "      <td>None</td>\n",
       "      <td>None</td>\n",
       "      <td>None</td>\n",
       "      <td>None</td>\n",
       "      <td>None</td>\n",
       "      <td>None</td>\n",
       "      <td>None</td>\n",
       "      <td>None</td>\n",
       "      <td>None</td>\n",
       "    </tr>\n",
       "    <tr>\n",
       "      <th>1</th>\n",
       "      <td>6</td>\n",
       "      <td>1</td>\n",
       "      <td>67.044820</td>\n",
       "      <td>181.09</td>\n",
       "      <td>Gijs</td>\n",
       "      <td>True</td>\n",
       "      <td>None</td>\n",
       "      <td>None</td>\n",
       "      <td>None</td>\n",
       "      <td>None</td>\n",
       "      <td>...</td>\n",
       "      <td>None</td>\n",
       "      <td>None</td>\n",
       "      <td>None</td>\n",
       "      <td>None</td>\n",
       "      <td>None</td>\n",
       "      <td>None</td>\n",
       "      <td>None</td>\n",
       "      <td>None</td>\n",
       "      <td>None</td>\n",
       "      <td>None</td>\n",
       "    </tr>\n",
       "    <tr>\n",
       "      <th>2</th>\n",
       "      <td>9</td>\n",
       "      <td>1</td>\n",
       "      <td>85.084820</td>\n",
       "      <td>199.13</td>\n",
       "      <td>Sander</td>\n",
       "      <td>None</td>\n",
       "      <td>True</td>\n",
       "      <td>None</td>\n",
       "      <td>None</td>\n",
       "      <td>None</td>\n",
       "      <td>...</td>\n",
       "      <td>None</td>\n",
       "      <td>None</td>\n",
       "      <td>None</td>\n",
       "      <td>None</td>\n",
       "      <td>None</td>\n",
       "      <td>None</td>\n",
       "      <td>None</td>\n",
       "      <td>None</td>\n",
       "      <td>None</td>\n",
       "      <td>None</td>\n",
       "    </tr>\n",
       "    <tr>\n",
       "      <th>3</th>\n",
       "      <td>10</td>\n",
       "      <td>1</td>\n",
       "      <td>93.514820</td>\n",
       "      <td>207.55</td>\n",
       "      <td>Gijs</td>\n",
       "      <td>None</td>\n",
       "      <td>None</td>\n",
       "      <td>True</td>\n",
       "      <td>None</td>\n",
       "      <td>None</td>\n",
       "      <td>...</td>\n",
       "      <td>None</td>\n",
       "      <td>None</td>\n",
       "      <td>None</td>\n",
       "      <td>None</td>\n",
       "      <td>None</td>\n",
       "      <td>None</td>\n",
       "      <td>None</td>\n",
       "      <td>None</td>\n",
       "      <td>None</td>\n",
       "      <td>None</td>\n",
       "    </tr>\n",
       "    <tr>\n",
       "      <th>4</th>\n",
       "      <td>12</td>\n",
       "      <td>1</td>\n",
       "      <td>113.284820</td>\n",
       "      <td>227.32</td>\n",
       "      <td>Jamie</td>\n",
       "      <td>None</td>\n",
       "      <td>None</td>\n",
       "      <td>None</td>\n",
       "      <td>True</td>\n",
       "      <td>None</td>\n",
       "      <td>...</td>\n",
       "      <td>None</td>\n",
       "      <td>None</td>\n",
       "      <td>None</td>\n",
       "      <td>None</td>\n",
       "      <td>None</td>\n",
       "      <td>None</td>\n",
       "      <td>None</td>\n",
       "      <td>None</td>\n",
       "      <td>None</td>\n",
       "      <td>None</td>\n",
       "    </tr>\n",
       "    <tr>\n",
       "      <th>...</th>\n",
       "      <td>...</td>\n",
       "      <td>...</td>\n",
       "      <td>...</td>\n",
       "      <td>...</td>\n",
       "      <td>...</td>\n",
       "      <td>...</td>\n",
       "      <td>...</td>\n",
       "      <td>...</td>\n",
       "      <td>...</td>\n",
       "      <td>...</td>\n",
       "      <td>...</td>\n",
       "      <td>...</td>\n",
       "      <td>...</td>\n",
       "      <td>...</td>\n",
       "      <td>...</td>\n",
       "      <td>...</td>\n",
       "      <td>...</td>\n",
       "      <td>...</td>\n",
       "      <td>...</td>\n",
       "      <td>...</td>\n",
       "      <td>...</td>\n",
       "    </tr>\n",
       "    <tr>\n",
       "      <th>137</th>\n",
       "      <td>438</td>\n",
       "      <td>4</td>\n",
       "      <td>1007.944435</td>\n",
       "      <td>4766.55</td>\n",
       "      <td>Jamie</td>\n",
       "      <td>None</td>\n",
       "      <td>None</td>\n",
       "      <td>None</td>\n",
       "      <td>None</td>\n",
       "      <td>None</td>\n",
       "      <td>...</td>\n",
       "      <td>True</td>\n",
       "      <td>None</td>\n",
       "      <td>None</td>\n",
       "      <td>None</td>\n",
       "      <td>None</td>\n",
       "      <td>None</td>\n",
       "      <td>None</td>\n",
       "      <td>None</td>\n",
       "      <td>None</td>\n",
       "      <td>None</td>\n",
       "    </tr>\n",
       "    <tr>\n",
       "      <th>138</th>\n",
       "      <td>440</td>\n",
       "      <td>4</td>\n",
       "      <td>1030.294435</td>\n",
       "      <td>4788.90</td>\n",
       "      <td>Sander</td>\n",
       "      <td>None</td>\n",
       "      <td>True</td>\n",
       "      <td>None</td>\n",
       "      <td>None</td>\n",
       "      <td>None</td>\n",
       "      <td>...</td>\n",
       "      <td>None</td>\n",
       "      <td>None</td>\n",
       "      <td>None</td>\n",
       "      <td>None</td>\n",
       "      <td>None</td>\n",
       "      <td>None</td>\n",
       "      <td>None</td>\n",
       "      <td>None</td>\n",
       "      <td>None</td>\n",
       "      <td>None</td>\n",
       "    </tr>\n",
       "    <tr>\n",
       "      <th>139</th>\n",
       "      <td>441</td>\n",
       "      <td>4</td>\n",
       "      <td>1037.364435</td>\n",
       "      <td>4795.96</td>\n",
       "      <td>Jamie</td>\n",
       "      <td>True</td>\n",
       "      <td>None</td>\n",
       "      <td>None</td>\n",
       "      <td>None</td>\n",
       "      <td>None</td>\n",
       "      <td>...</td>\n",
       "      <td>None</td>\n",
       "      <td>None</td>\n",
       "      <td>None</td>\n",
       "      <td>None</td>\n",
       "      <td>None</td>\n",
       "      <td>None</td>\n",
       "      <td>None</td>\n",
       "      <td>None</td>\n",
       "      <td>None</td>\n",
       "      <td>None</td>\n",
       "    </tr>\n",
       "    <tr>\n",
       "      <th>140</th>\n",
       "      <td>443</td>\n",
       "      <td>4</td>\n",
       "      <td>1090.664435</td>\n",
       "      <td>4849.27</td>\n",
       "      <td>Sheldon</td>\n",
       "      <td>None</td>\n",
       "      <td>None</td>\n",
       "      <td>None</td>\n",
       "      <td>None</td>\n",
       "      <td>None</td>\n",
       "      <td>...</td>\n",
       "      <td>None</td>\n",
       "      <td>None</td>\n",
       "      <td>None</td>\n",
       "      <td>None</td>\n",
       "      <td>None</td>\n",
       "      <td>None</td>\n",
       "      <td>None</td>\n",
       "      <td>None</td>\n",
       "      <td>None</td>\n",
       "      <td>None</td>\n",
       "    </tr>\n",
       "    <tr>\n",
       "      <th>141</th>\n",
       "      <td>446</td>\n",
       "      <td>4</td>\n",
       "      <td>1131.204435</td>\n",
       "      <td>4889.81</td>\n",
       "      <td>Gijs</td>\n",
       "      <td>None</td>\n",
       "      <td>None</td>\n",
       "      <td>None</td>\n",
       "      <td>None</td>\n",
       "      <td>None</td>\n",
       "      <td>...</td>\n",
       "      <td>True</td>\n",
       "      <td>None</td>\n",
       "      <td>None</td>\n",
       "      <td>None</td>\n",
       "      <td>None</td>\n",
       "      <td>None</td>\n",
       "      <td>None</td>\n",
       "      <td>None</td>\n",
       "      <td>None</td>\n",
       "      <td>None</td>\n",
       "    </tr>\n",
       "  </tbody>\n",
       "</table>\n",
       "<p>142 rows × 22 columns</p>\n",
       "</div>"
      ],
      "text/plain": [
       "    code_id  period_id    timestamp  end_timestamp     code Duel +   BW1   \n",
       "0         1          1    98.040000         112.05   Sander   None  None  \\\n",
       "1         6          1    67.044820         181.09     Gijs   True  None   \n",
       "2         9          1    85.084820         199.13   Sander   None  True   \n",
       "3        10          1    93.514820         207.55     Gijs   None  None   \n",
       "4        12          1   113.284820         227.32    Jamie   None  None   \n",
       "..      ...        ...          ...            ...      ...    ...   ...   \n",
       "137     438          4  1007.944435        4766.55    Jamie   None  None   \n",
       "138     440          4  1030.294435        4788.90   Sander   None  True   \n",
       "139     441          4  1037.364435        4795.96    Jamie   True  None   \n",
       "140     443          4  1090.664435        4849.27  Sheldon   None  None   \n",
       "141     446          4  1131.204435        4889.81     Gijs   None  None   \n",
       "\n",
       "    Passing +   BV3 Contact      Lead -  ... Duel - Contact        Lead +   \n",
       "0        None  None                None  ...   None                  None  \\\n",
       "1        None  None                None  ...   None                  None   \n",
       "2        None  None                None  ...   None                  None   \n",
       "3        True  None                None  ...   None                  None   \n",
       "4        None  True                None  ...   None                  None   \n",
       "..        ...   ...                 ...  ...    ...                   ...   \n",
       "137      None  None                None  ...   True                  None   \n",
       "138      None  None                None  ...   None                  None   \n",
       "139      None  None                None  ...   None                  None   \n",
       "140      None  None                None  ...   None                  None   \n",
       "141      None  None                None  ...   True                  None   \n",
       "\n",
       "    Passing - Box +   BV2 Dynamic Midfield +   BW2 Dynamic Midfield -   BW3   \n",
       "0        None  None  None               None  None               None  None  \\\n",
       "1        None  None  None               None  None               None  None   \n",
       "2        None  None  None               None  None               None  None   \n",
       "3        None  None  None               None  None               None  None   \n",
       "4        None  None  None               None  None               None  None   \n",
       "..        ...   ...   ...                ...   ...                ...   ...   \n",
       "137      None  None  None               None  None               None  None   \n",
       "138      None  None  None               None  None               None  None   \n",
       "139      None  None  None               None  None               None  None   \n",
       "140      None  None  None               None  None               None  None   \n",
       "141      None  None  None               None  None               None  None   \n",
       "\n",
       "      BV1  \n",
       "0    None  \n",
       "1    None  \n",
       "2    None  \n",
       "3    None  \n",
       "4    None  \n",
       "..    ...  \n",
       "137  None  \n",
       "138  None  \n",
       "139  None  \n",
       "140  None  \n",
       "141  None  \n",
       "\n",
       "[142 rows x 22 columns]"
      ]
     },
     "execution_count": 12,
     "metadata": {},
     "output_type": "execute_result"
    }
   ],
   "source": [
    "# Convert kloppy Dataset into Pandas Dataframe\n",
    "players_data = players_dataset.to_df()\n",
    "players_data"
   ]
  },
  {
   "cell_type": "markdown",
   "id": "c7e1ecac",
   "metadata": {
    "slideshow": {
     "slide_type": "slide"
    }
   },
   "source": [
    "# Lets use DuckDB"
   ]
  },
  {
   "cell_type": "code",
   "execution_count": 13,
   "id": "ff3bcf41",
   "metadata": {
    "slideshow": {
     "slide_type": "subslide"
    }
   },
   "outputs": [
    {
     "name": "stdout",
     "output_type": "stream",
     "text": [
      "Requirement already satisfied: duckdb==0.7.2.dev1381 in /Users/koen/Developer/Projects/PySport/kloppy/.venv/lib/python3.10/site-packages (0.7.2.dev1381)\n",
      "Note: you may need to restart the kernel to use updated packages.\n"
     ]
    }
   ],
   "source": [
    "# This requires DuckDB 0.7.2 (preview release)\n",
    "%pip install duckdb==0.7.2.dev1381"
   ]
  },
  {
   "cell_type": "code",
   "execution_count": 14,
   "id": "4f1f9513",
   "metadata": {
    "slideshow": {
     "slide_type": "subslide"
    }
   },
   "outputs": [
    {
     "data": {
      "text/plain": [
       "<duckdb.DuckDBPyConnection at 0x1384bfe70>"
      ]
     },
     "execution_count": 14,
     "metadata": {},
     "output_type": "execute_result"
    }
   ],
   "source": [
    "import duckdb\n",
    "\n",
    "con = duckdb.connect()\n",
    "con"
   ]
  },
  {
   "cell_type": "code",
   "execution_count": 15,
   "id": "b3da6de1",
   "metadata": {
    "slideshow": {
     "slide_type": "fragment"
    }
   },
   "outputs": [
    {
     "data": {
      "text/plain": [
       "┌────────────────────┬─────────┬─────────┬─────────┐\n",
       "│     timestamp      │  code   │ Duel +  │ Duel -  │\n",
       "│       double       │ varchar │ boolean │ boolean │\n",
       "├────────────────────┼─────────┼─────────┼─────────┤\n",
       "│  67.04482013300004 │ Gijs    │ true    │ NULL    │\n",
       "│ 155.33482013300005 │ Gijs    │ true    │ NULL    │\n",
       "│ 156.76482013300006 │ Sander  │ true    │ NULL    │\n",
       "│ 359.10482013300003 │ Sander  │ NULL    │ true    │\n",
       "│  531.5348201330002 │ Jelle   │ true    │ NULL    │\n",
       "│  541.6748201330001 │ Phil    │ true    │ NULL    │\n",
       "│  916.0748201330001 │ Gijs    │ true    │ NULL    │\n",
       "│  939.9448201330001 │ Sheldon │ true    │ NULL    │\n",
       "│ 171.74214004600003 │ Gijs    │ true    │ NULL    │\n",
       "│  819.9621400459998 │ Sander  │ true    │ NULL    │\n",
       "├────────────────────┴─────────┴─────────┴─────────┤\n",
       "│ 10 rows                                4 columns │\n",
       "└──────────────────────────────────────────────────┘"
      ]
     },
     "execution_count": 15,
     "metadata": {},
     "output_type": "execute_result"
    }
   ],
   "source": [
    "con.query(\n",
    "    'SELECT timestamp, code, \"Duel +\", \"Duel -\" FROM players_data WHERE \"Duel +\" OR \"Duel -\" ORDER BY period_id, timestamp LIMIT 10'\n",
    ")"
   ]
  },
  {
   "cell_type": "code",
   "execution_count": 16,
   "id": "96f27336",
   "metadata": {
    "slideshow": {
     "slide_type": "subslide"
    }
   },
   "outputs": [
    {
     "data": {
      "text/plain": [
       "┌─────────┬───────────┬─────────────────┬─────────────────┐\n",
       "│  code   │ period_id │ count(\"Duel +\") │ count(\"Duel -\") │\n",
       "│ varchar │   int64   │      int64      │      int64      │\n",
       "├─────────┼───────────┼─────────────────┼─────────────────┤\n",
       "│ Gijs    │         1 │               3 │               0 │\n",
       "│ Gijs    │         2 │               1 │               0 │\n",
       "│ Gijs    │         3 │               5 │               1 │\n",
       "│ Gijs    │         4 │               0 │               3 │\n",
       "│ Jamie   │         2 │               1 │               0 │\n",
       "│ Jamie   │         4 │               1 │               1 │\n",
       "│ Jelle   │         1 │               1 │               0 │\n",
       "│ Jelle   │         4 │               2 │               0 │\n",
       "│ Phil    │         1 │               1 │               0 │\n",
       "│ Phil    │         3 │               2 │               1 │\n",
       "│ Phil    │         4 │               1 │               0 │\n",
       "│ Sander  │         1 │               1 │               1 │\n",
       "│ Sander  │         2 │               1 │               1 │\n",
       "│ Sander  │         3 │               1 │               0 │\n",
       "│ Sander  │         4 │               2 │               1 │\n",
       "│ Sheldon │         1 │               1 │               0 │\n",
       "│ Sheldon │         3 │               1 │               1 │\n",
       "│ Sheldon │         4 │               0 │               2 │\n",
       "├─────────┴───────────┴─────────────────┴─────────────────┤\n",
       "│ 18 rows                                       4 columns │\n",
       "└─────────────────────────────────────────────────────────┘"
      ]
     },
     "execution_count": 16,
     "metadata": {},
     "output_type": "execute_result"
    }
   ],
   "source": [
    "con.query(\"\"\"\n",
    "    SELECT \n",
    "        code, period_id, COUNT(\"Duel +\"), COUNT(\"Duel -\") \n",
    "    FROM players_data WHERE \"Duel +\" OR \"Duel -\" GROUP BY ALL ORDER BY code\n",
    "\n",
    "\"\"\")"
   ]
  },
  {
   "cell_type": "markdown",
   "id": "3d81df74",
   "metadata": {
    "slideshow": {
     "slide_type": "slide"
    }
   },
   "source": [
    "# Some more data cleaning"
   ]
  },
  {
   "cell_type": "code",
   "execution_count": 17,
   "id": "7d9319e4",
   "metadata": {
    "slideshow": {
     "slide_type": "subslide"
    }
   },
   "outputs": [],
   "source": [
    "PLAYERS = [\"Gijs\", \"Jamie\", \"Sander\", \"Jelle\", \"Sheldon\", \"Phil\"]\n",
    "\n",
    "players_dataset = dataset.filter(lambda item: item.code in PLAYERS)\n",
    "\n",
    "\n",
    "def onehot_to_cat(labels, mapping):\n",
    "    for label_name, category in mapping.items():\n",
    "        if labels.get(label_name):\n",
    "            return category\n",
    "\n",
    "\n",
    "def duel_encoder(record):\n",
    "    return onehot_to_cat(record.labels, {\"Duel +\": \"won\", \"Duel -\": \"lost\"})\n",
    "\n",
    "\n",
    "players_data_cat = players_dataset.to_df(\"period_id\", player=lambda record: record.code, duel=duel_encoder)"
   ]
  },
  {
   "cell_type": "code",
   "execution_count": 18,
   "id": "e004b2f5",
   "metadata": {
    "slideshow": {
     "slide_type": "subslide"
    }
   },
   "outputs": [
    {
     "data": {
      "text/html": [
       "<div>\n",
       "<style scoped>\n",
       "    .dataframe tbody tr th:only-of-type {\n",
       "        vertical-align: middle;\n",
       "    }\n",
       "\n",
       "    .dataframe tbody tr th {\n",
       "        vertical-align: top;\n",
       "    }\n",
       "\n",
       "    .dataframe thead th {\n",
       "        text-align: right;\n",
       "    }\n",
       "</style>\n",
       "<table border=\"1\" class=\"dataframe\">\n",
       "  <thead>\n",
       "    <tr style=\"text-align: right;\">\n",
       "      <th></th>\n",
       "      <th>period_id</th>\n",
       "      <th>player</th>\n",
       "      <th>duel</th>\n",
       "    </tr>\n",
       "  </thead>\n",
       "  <tbody>\n",
       "    <tr>\n",
       "      <th>0</th>\n",
       "      <td>1</td>\n",
       "      <td>Sander</td>\n",
       "      <td>None</td>\n",
       "    </tr>\n",
       "    <tr>\n",
       "      <th>1</th>\n",
       "      <td>1</td>\n",
       "      <td>Gijs</td>\n",
       "      <td>won</td>\n",
       "    </tr>\n",
       "    <tr>\n",
       "      <th>2</th>\n",
       "      <td>1</td>\n",
       "      <td>Sander</td>\n",
       "      <td>None</td>\n",
       "    </tr>\n",
       "    <tr>\n",
       "      <th>3</th>\n",
       "      <td>1</td>\n",
       "      <td>Gijs</td>\n",
       "      <td>None</td>\n",
       "    </tr>\n",
       "    <tr>\n",
       "      <th>4</th>\n",
       "      <td>1</td>\n",
       "      <td>Jamie</td>\n",
       "      <td>None</td>\n",
       "    </tr>\n",
       "    <tr>\n",
       "      <th>...</th>\n",
       "      <td>...</td>\n",
       "      <td>...</td>\n",
       "      <td>...</td>\n",
       "    </tr>\n",
       "    <tr>\n",
       "      <th>137</th>\n",
       "      <td>4</td>\n",
       "      <td>Jamie</td>\n",
       "      <td>lost</td>\n",
       "    </tr>\n",
       "    <tr>\n",
       "      <th>138</th>\n",
       "      <td>4</td>\n",
       "      <td>Sander</td>\n",
       "      <td>None</td>\n",
       "    </tr>\n",
       "    <tr>\n",
       "      <th>139</th>\n",
       "      <td>4</td>\n",
       "      <td>Jamie</td>\n",
       "      <td>won</td>\n",
       "    </tr>\n",
       "    <tr>\n",
       "      <th>140</th>\n",
       "      <td>4</td>\n",
       "      <td>Sheldon</td>\n",
       "      <td>None</td>\n",
       "    </tr>\n",
       "    <tr>\n",
       "      <th>141</th>\n",
       "      <td>4</td>\n",
       "      <td>Gijs</td>\n",
       "      <td>lost</td>\n",
       "    </tr>\n",
       "  </tbody>\n",
       "</table>\n",
       "<p>142 rows × 3 columns</p>\n",
       "</div>"
      ],
      "text/plain": [
       "     period_id   player  duel\n",
       "0            1   Sander  None\n",
       "1            1     Gijs   won\n",
       "2            1   Sander  None\n",
       "3            1     Gijs  None\n",
       "4            1    Jamie  None\n",
       "..         ...      ...   ...\n",
       "137          4    Jamie  lost\n",
       "138          4   Sander  None\n",
       "139          4    Jamie   won\n",
       "140          4  Sheldon  None\n",
       "141          4     Gijs  lost\n",
       "\n",
       "[142 rows x 3 columns]"
      ]
     },
     "execution_count": 18,
     "metadata": {},
     "output_type": "execute_result"
    }
   ],
   "source": [
    "players_data_cat"
   ]
  },
  {
   "cell_type": "code",
   "execution_count": 20,
   "id": "6c8df59a",
   "metadata": {
    "slideshow": {
     "slide_type": "slide"
    }
   },
   "outputs": [
    {
     "data": {
      "text/plain": [
       "┌─────────┬───────────┬──────────┐\n",
       "│ player  │ period_id │ duel_won │\n",
       "│ varchar │   int64   │  int64   │\n",
       "├─────────┼───────────┼──────────┤\n",
       "│ Gijs    │         1 │        3 │\n",
       "│ Gijs    │         2 │        1 │\n",
       "│ Gijs    │         3 │        5 │\n",
       "│ Gijs    │         4 │        0 │\n",
       "│ Jamie   │         2 │        1 │\n",
       "│ Jamie   │         4 │        1 │\n",
       "│ Jelle   │         1 │        1 │\n",
       "│ Jelle   │         4 │        2 │\n",
       "│ Phil    │         1 │        1 │\n",
       "│ Phil    │         3 │        2 │\n",
       "│ Phil    │         4 │        1 │\n",
       "│ Sander  │         1 │        1 │\n",
       "│ Sander  │         2 │        1 │\n",
       "│ Sander  │         3 │        1 │\n",
       "│ Sander  │         4 │        2 │\n",
       "│ Sheldon │         1 │        1 │\n",
       "│ Sheldon │         3 │        1 │\n",
       "│ Sheldon │         4 │        0 │\n",
       "├─────────┴───────────┴──────────┤\n",
       "│ 18 rows              3 columns │\n",
       "└────────────────────────────────┘"
      ]
     },
     "execution_count": 20,
     "metadata": {},
     "output_type": "execute_result"
    }
   ],
   "source": [
    "con.query(\"\"\"\n",
    "    SELECT \n",
    "        player, period_id, \n",
    "        COUNT(*) FILTER(duel = 'won') as duel_won\n",
    "    FROM players_data_cat WHERE duel IN('won', 'lost') GROUP BY ALL ORDER BY player\n",
    "\n",
    "\"\"\")"
   ]
  },
  {
   "cell_type": "code",
   "execution_count": 21,
   "id": "689081c4",
   "metadata": {
    "slideshow": {
     "slide_type": "subslide"
    }
   },
   "outputs": [
    {
     "data": {
      "text/plain": [
       "┌─────────┬───────────┬────────────────┐\n",
       "│ player  │ period_id │ won_percentage │\n",
       "│ varchar │   int64   │    varchar     │\n",
       "├─────────┼───────────┼────────────────┤\n",
       "│ Gijs    │         1 │ 100.0%         │\n",
       "│ Sander  │         1 │ 50.0%          │\n",
       "│ Jelle   │         1 │ 100.0%         │\n",
       "│ Phil    │         1 │ 100.0%         │\n",
       "│ Sheldon │         1 │ 100.0%         │\n",
       "│ Gijs    │         2 │ 100.0%         │\n",
       "│ Sander  │         2 │ 50.0%          │\n",
       "│ Jamie   │         2 │ 100.0%         │\n",
       "│ Gijs    │         3 │ 83.3%          │\n",
       "│ Sander  │         3 │ 100.0%         │\n",
       "│ Sheldon │         3 │ 50.0%          │\n",
       "│ Phil    │         3 │ 66.7%          │\n",
       "│ Jelle   │         4 │ 100.0%         │\n",
       "│ Sander  │         4 │ 66.7%          │\n",
       "│ Phil    │         4 │ 100.0%         │\n",
       "│ Jamie   │         4 │ 50.0%          │\n",
       "│ Sheldon │         4 │ 0.0%           │\n",
       "│ Gijs    │         4 │ 0.0%           │\n",
       "├─────────┴───────────┴────────────────┤\n",
       "│ 18 rows                    3 columns │\n",
       "└──────────────────────────────────────┘"
      ]
     },
     "execution_count": 21,
     "metadata": {},
     "output_type": "execute_result"
    }
   ],
   "source": [
    "con.query(\"\"\"\n",
    "    SELECT\n",
    "        \n",
    "        player, period_id,\n",
    "        printf('%.1f%%', (COUNT(*) FILTER(duel='won'))::DECIMAL / COUNT(*) * 100) as won_percentage,\n",
    "    FROM players_data_cat\n",
    "    WHERE duel IN ('won', 'lost')\n",
    "    GROUP BY ALL \n",
    "\"\"\")"
   ]
  },
  {
   "cell_type": "code",
   "execution_count": 22,
   "id": "947053c3",
   "metadata": {
    "slideshow": {
     "slide_type": "subslide"
    }
   },
   "outputs": [
    {
     "data": {
      "text/plain": [
       "┌─────────┬─────────┬─────────┬─────────┬─────────┐\n",
       "│ player  │    1    │    2    │    3    │    4    │\n",
       "│ varchar │ varchar │ varchar │ varchar │ varchar │\n",
       "├─────────┼─────────┼─────────┼─────────┼─────────┤\n",
       "│ Gijs    │ 100.0%  │ 100.0%  │ 83.3%   │ 0.0%    │\n",
       "│ Sander  │ 50.0%   │ 50.0%   │ 100.0%  │ 66.7%   │\n",
       "│ Jelle   │ 100.0%  │ NULL    │ NULL    │ 100.0%  │\n",
       "│ Phil    │ 100.0%  │ NULL    │ 66.7%   │ 100.0%  │\n",
       "│ Sheldon │ 100.0%  │ NULL    │ 50.0%   │ 0.0%    │\n",
       "│ Jamie   │ NULL    │ 100.0%  │ NULL    │ 50.0%   │\n",
       "└─────────┴─────────┴─────────┴─────────┴─────────┘"
      ]
     },
     "execution_count": 22,
     "metadata": {},
     "output_type": "execute_result"
    }
   ],
   "source": [
    "con.query(\"\"\"\n",
    "WITH players AS (\n",
    "    SELECT\n",
    "        player, \n",
    "        period_id,\n",
    "        printf('%.1f%%', (COUNT(*) FILTER(duel='won'))::DECIMAL / COUNT(*) * 100) as duel_percentage\n",
    "    FROM players_data_cat \n",
    "    WHERE duel IN ('won', 'lost')\n",
    "    GROUP BY ALL\n",
    ")\n",
    "PIVOT \n",
    "    players\n",
    "ON period_id\n",
    "USING FIRST(duel_percentage)\n",
    "GROUP BY player\n",
    "\"\"\")"
   ]
  },
  {
   "cell_type": "markdown",
   "id": "0003a64b",
   "metadata": {
    "slideshow": {
     "slide_type": "slide"
    }
   },
   "source": [
    "# Read from multiple matches"
   ]
  },
  {
   "cell_type": "code",
   "execution_count": 23,
   "id": "10bcf586",
   "metadata": {
    "slideshow": {
     "slide_type": "slide"
    }
   },
   "outputs": [],
   "source": [
    "import os\n",
    "\n",
    "PLAYERS = [\"Gijs\", \"Jamie\", \"Sander\", \"Jelle\", \"Sheldon\", \"Phil\"]\n",
    "\n",
    "\n",
    "def onehot_to_cat(labels, mapping):\n",
    "    for label_name, category in mapping.items():\n",
    "        if labels.get(label_name):\n",
    "            return category\n",
    "\n",
    "\n",
    "def duel_encoder(record):\n",
    "    return onehot_to_cat(record.labels, {\"Duel +\": \"won\", \"Duel -\": \"lost\"})"
   ]
  },
  {
   "cell_type": "code",
   "execution_count": 24,
   "id": "3fbc56c6",
   "metadata": {
    "slideshow": {
     "slide_type": "subslide"
    }
   },
   "outputs": [],
   "source": [
    "def load_file(filename):\n",
    "    dataset = sportscode.load(filename)\n",
    "\n",
    "    period = None\n",
    "    for record in dataset.records:\n",
    "        if record.code == \"Start\":\n",
    "            if period:\n",
    "                # End current period\n",
    "                period.end_timestamp = record.timestamp - 0.001\n",
    "\n",
    "            period = Period(id=period.id + 1 if period else 1, start_timestamp=record.timestamp, end_timestamp=None)\n",
    "\n",
    "        if not period:\n",
    "            # Data before first 'Period marker'\n",
    "            continue\n",
    "\n",
    "        record.period = period\n",
    "        record.timestamp -= period.start_timestamp\n",
    "\n",
    "    players_dataset = dataset.filter(lambda item: item.code in PLAYERS)\n",
    "\n",
    "    match = os.path.basename(filename).split(\" 2\")[0]\n",
    "\n",
    "    return players_dataset.to_df(\"period_id\", match=match, player=lambda record: record.code, duel=duel_encoder)"
   ]
  },
  {
   "cell_type": "code",
   "execution_count": 25,
   "id": "0eb33ff7",
   "metadata": {
    "slideshow": {
     "slide_type": "slide"
    }
   },
   "outputs": [
    {
     "data": {
      "text/plain": [
       "['files/OR - SCHC 2.xml', 'files/DBO - OR 2 (1).xml', 'files/KZ - OR 2.xml']"
      ]
     },
     "execution_count": 25,
     "metadata": {},
     "output_type": "execute_result"
    }
   ],
   "source": [
    "import glob\n",
    "\n",
    "files = glob.glob(\"files/* 2*.xml\")\n",
    "files"
   ]
  },
  {
   "cell_type": "code",
   "execution_count": 26,
   "id": "69df8fef",
   "metadata": {
    "slideshow": {
     "slide_type": "subslide"
    }
   },
   "outputs": [
    {
     "data": {
      "text/html": [
       "<div>\n",
       "<style scoped>\n",
       "    .dataframe tbody tr th:only-of-type {\n",
       "        vertical-align: middle;\n",
       "    }\n",
       "\n",
       "    .dataframe tbody tr th {\n",
       "        vertical-align: top;\n",
       "    }\n",
       "\n",
       "    .dataframe thead th {\n",
       "        text-align: right;\n",
       "    }\n",
       "</style>\n",
       "<table border=\"1\" class=\"dataframe\">\n",
       "  <thead>\n",
       "    <tr style=\"text-align: right;\">\n",
       "      <th></th>\n",
       "      <th>period_id</th>\n",
       "      <th>match</th>\n",
       "      <th>player</th>\n",
       "      <th>duel</th>\n",
       "    </tr>\n",
       "  </thead>\n",
       "  <tbody>\n",
       "    <tr>\n",
       "      <th>0</th>\n",
       "      <td>1</td>\n",
       "      <td>OR - SCHC</td>\n",
       "      <td>Gijs</td>\n",
       "      <td>None</td>\n",
       "    </tr>\n",
       "    <tr>\n",
       "      <th>1</th>\n",
       "      <td>1</td>\n",
       "      <td>OR - SCHC</td>\n",
       "      <td>Phil</td>\n",
       "      <td>None</td>\n",
       "    </tr>\n",
       "    <tr>\n",
       "      <th>2</th>\n",
       "      <td>1</td>\n",
       "      <td>OR - SCHC</td>\n",
       "      <td>Jamie</td>\n",
       "      <td>lost</td>\n",
       "    </tr>\n",
       "    <tr>\n",
       "      <th>3</th>\n",
       "      <td>1</td>\n",
       "      <td>OR - SCHC</td>\n",
       "      <td>Phil</td>\n",
       "      <td>None</td>\n",
       "    </tr>\n",
       "    <tr>\n",
       "      <th>4</th>\n",
       "      <td>1</td>\n",
       "      <td>OR - SCHC</td>\n",
       "      <td>Jelle</td>\n",
       "      <td>None</td>\n",
       "    </tr>\n",
       "    <tr>\n",
       "      <th>...</th>\n",
       "      <td>...</td>\n",
       "      <td>...</td>\n",
       "      <td>...</td>\n",
       "      <td>...</td>\n",
       "    </tr>\n",
       "    <tr>\n",
       "      <th>131</th>\n",
       "      <td>1</td>\n",
       "      <td>KZ - OR</td>\n",
       "      <td>Jelle</td>\n",
       "      <td>lost</td>\n",
       "    </tr>\n",
       "    <tr>\n",
       "      <th>132</th>\n",
       "      <td>1</td>\n",
       "      <td>KZ - OR</td>\n",
       "      <td>Gijs</td>\n",
       "      <td>won</td>\n",
       "    </tr>\n",
       "    <tr>\n",
       "      <th>133</th>\n",
       "      <td>1</td>\n",
       "      <td>KZ - OR</td>\n",
       "      <td>Gijs</td>\n",
       "      <td>None</td>\n",
       "    </tr>\n",
       "    <tr>\n",
       "      <th>134</th>\n",
       "      <td>1</td>\n",
       "      <td>KZ - OR</td>\n",
       "      <td>Phil</td>\n",
       "      <td>None</td>\n",
       "    </tr>\n",
       "    <tr>\n",
       "      <th>135</th>\n",
       "      <td>1</td>\n",
       "      <td>KZ - OR</td>\n",
       "      <td>Phil</td>\n",
       "      <td>None</td>\n",
       "    </tr>\n",
       "  </tbody>\n",
       "</table>\n",
       "<p>402 rows × 4 columns</p>\n",
       "</div>"
      ],
      "text/plain": [
       "     period_id      match player  duel\n",
       "0            1  OR - SCHC   Gijs  None\n",
       "1            1  OR - SCHC   Phil  None\n",
       "2            1  OR - SCHC  Jamie  lost\n",
       "3            1  OR - SCHC   Phil  None\n",
       "4            1  OR - SCHC  Jelle  None\n",
       "..         ...        ...    ...   ...\n",
       "131          1    KZ - OR  Jelle  lost\n",
       "132          1    KZ - OR   Gijs   won\n",
       "133          1    KZ - OR   Gijs  None\n",
       "134          1    KZ - OR   Phil  None\n",
       "135          1    KZ - OR   Phil  None\n",
       "\n",
       "[402 rows x 4 columns]"
      ]
     },
     "execution_count": 26,
     "metadata": {},
     "output_type": "execute_result"
    }
   ],
   "source": [
    "import pandas as pd\n",
    "\n",
    "df = pd.concat([load_file(file) for file in files])\n",
    "df"
   ]
  },
  {
   "cell_type": "code",
   "execution_count": 27,
   "id": "82227fdd",
   "metadata": {
    "slideshow": {
     "slide_type": "subslide"
    }
   },
   "outputs": [
    {
     "data": {
      "text/plain": [
       "┌───────────┬───────────┬───────┬───────┐\n",
       "│   match   │ period_id │  won  │ lost  │\n",
       "│  varchar  │   int64   │ int64 │ int64 │\n",
       "├───────────┼───────────┼───────┼───────┤\n",
       "│ DBO - OR  │         1 │     7 │     1 │\n",
       "│ DBO - OR  │         2 │     3 │     1 │\n",
       "│ DBO - OR  │         3 │     9 │     3 │\n",
       "│ DBO - OR  │         4 │     6 │     7 │\n",
       "│ KZ - OR   │         1 │    23 │     7 │\n",
       "│ OR - SCHC │         1 │     1 │     1 │\n",
       "│ OR - SCHC │         2 │     6 │     0 │\n",
       "│ OR - SCHC │         3 │     4 │     0 │\n",
       "│ OR - SCHC │         4 │     6 │     0 │\n",
       "└───────────┴───────────┴───────┴───────┘"
      ]
     },
     "execution_count": 27,
     "metadata": {},
     "output_type": "execute_result"
    }
   ],
   "source": [
    "con.query(\"\"\"\n",
    "SELECT \n",
    "    match, \n",
    "    period_id, \n",
    "    COUNT(*) FILTER (duel='won') as won,\n",
    "    COUNT(*) FILTER (duel='lost') as lost\n",
    "FROM df WHERE duel IN ('won', 'lost')\n",
    "GROUP BY ALL\n",
    "ORDER BY match, period_id\n",
    "\"\"\")"
   ]
  },
  {
   "cell_type": "markdown",
   "id": "55bac5b4",
   "metadata": {
    "slideshow": {
     "slide_type": "slide"
    }
   },
   "source": [
    "# Using football event data"
   ]
  },
  {
   "cell_type": "code",
   "execution_count": 28,
   "id": "9c1fbb70",
   "metadata": {
    "slideshow": {
     "slide_type": "slide"
    }
   },
   "outputs": [
    {
     "name": "stderr",
     "output_type": "stream",
     "text": [
      "/Users/koen/Developer/Projects/PySport/kloppy/.venv/lib/python3.10/site-packages/kloppy/_providers/statsbomb.py:67: UserWarning: \n",
      "\n",
      "You are about to use StatsBomb public data.\n",
      "By using this data, you are agreeing to the user agreement. \n",
      "The user agreement can be found here: https://github.com/statsbomb/open-data/blob/master/LICENSE.pdf\n",
      "\n",
      "  warnings.warn(\n"
     ]
    }
   ],
   "source": [
    "from kloppy import statsbomb\n",
    "\n",
    "dataset = statsbomb.load_open_data()\n",
    "\n",
    "df = dataset.filter(\"pass\").to_df(\n",
    "    \"team\",\n",
    "    \"player\",\n",
    "    \"result\",\n",
    ")"
   ]
  },
  {
   "cell_type": "code",
   "execution_count": 29,
   "id": "daf7aa12",
   "metadata": {
    "slideshow": {
     "slide_type": "subslide"
    }
   },
   "outputs": [
    {
     "data": {
      "text/html": [
       "<div>\n",
       "<style scoped>\n",
       "    .dataframe tbody tr th:only-of-type {\n",
       "        vertical-align: middle;\n",
       "    }\n",
       "\n",
       "    .dataframe tbody tr th {\n",
       "        vertical-align: top;\n",
       "    }\n",
       "\n",
       "    .dataframe thead th {\n",
       "        text-align: right;\n",
       "    }\n",
       "</style>\n",
       "<table border=\"1\" class=\"dataframe\">\n",
       "  <thead>\n",
       "    <tr style=\"text-align: right;\">\n",
       "      <th></th>\n",
       "      <th>team</th>\n",
       "      <th>player</th>\n",
       "      <th>result</th>\n",
       "    </tr>\n",
       "  </thead>\n",
       "  <tbody>\n",
       "    <tr>\n",
       "      <th>0</th>\n",
       "      <td>Deportivo Alavés</td>\n",
       "      <td>Jonathan Rodríguez Menéndez</td>\n",
       "      <td>COMPLETE</td>\n",
       "    </tr>\n",
       "    <tr>\n",
       "      <th>1</th>\n",
       "      <td>Deportivo Alavés</td>\n",
       "      <td>Guillermo Alfonso Maripán Loaysa</td>\n",
       "      <td>INCOMPLETE</td>\n",
       "    </tr>\n",
       "    <tr>\n",
       "      <th>2</th>\n",
       "      <td>Barcelona</td>\n",
       "      <td>Sergio Busquets i Burgos</td>\n",
       "      <td>COMPLETE</td>\n",
       "    </tr>\n",
       "    <tr>\n",
       "      <th>3</th>\n",
       "      <td>Barcelona</td>\n",
       "      <td>Ivan Rakitić</td>\n",
       "      <td>COMPLETE</td>\n",
       "    </tr>\n",
       "    <tr>\n",
       "      <th>4</th>\n",
       "      <td>Barcelona</td>\n",
       "      <td>Ousmane Dembélé</td>\n",
       "      <td>COMPLETE</td>\n",
       "    </tr>\n",
       "    <tr>\n",
       "      <th>...</th>\n",
       "      <td>...</td>\n",
       "      <td>...</td>\n",
       "      <td>...</td>\n",
       "    </tr>\n",
       "    <tr>\n",
       "      <th>1127</th>\n",
       "      <td>Barcelona</td>\n",
       "      <td>Sergi Roberto Carnicer</td>\n",
       "      <td>COMPLETE</td>\n",
       "    </tr>\n",
       "    <tr>\n",
       "      <th>1128</th>\n",
       "      <td>Barcelona</td>\n",
       "      <td>Arturo Erasmo Vidal Pardo</td>\n",
       "      <td>COMPLETE</td>\n",
       "    </tr>\n",
       "    <tr>\n",
       "      <th>1129</th>\n",
       "      <td>Barcelona</td>\n",
       "      <td>Ivan Rakitić</td>\n",
       "      <td>COMPLETE</td>\n",
       "    </tr>\n",
       "    <tr>\n",
       "      <th>1130</th>\n",
       "      <td>Barcelona</td>\n",
       "      <td>Jordi Alba Ramos</td>\n",
       "      <td>COMPLETE</td>\n",
       "    </tr>\n",
       "    <tr>\n",
       "      <th>1131</th>\n",
       "      <td>Barcelona</td>\n",
       "      <td>Luis Alberto Suárez Díaz</td>\n",
       "      <td>COMPLETE</td>\n",
       "    </tr>\n",
       "  </tbody>\n",
       "</table>\n",
       "<p>1132 rows × 3 columns</p>\n",
       "</div>"
      ],
      "text/plain": [
       "                  team                            player      result\n",
       "0     Deportivo Alavés       Jonathan Rodríguez Menéndez    COMPLETE\n",
       "1     Deportivo Alavés  Guillermo Alfonso Maripán Loaysa  INCOMPLETE\n",
       "2            Barcelona          Sergio Busquets i Burgos    COMPLETE\n",
       "3            Barcelona                      Ivan Rakitić    COMPLETE\n",
       "4            Barcelona                   Ousmane Dembélé    COMPLETE\n",
       "...                ...                               ...         ...\n",
       "1127         Barcelona            Sergi Roberto Carnicer    COMPLETE\n",
       "1128         Barcelona         Arturo Erasmo Vidal Pardo    COMPLETE\n",
       "1129         Barcelona                      Ivan Rakitić    COMPLETE\n",
       "1130         Barcelona                  Jordi Alba Ramos    COMPLETE\n",
       "1131         Barcelona          Luis Alberto Suárez Díaz    COMPLETE\n",
       "\n",
       "[1132 rows x 3 columns]"
      ]
     },
     "execution_count": 29,
     "metadata": {},
     "output_type": "execute_result"
    }
   ],
   "source": [
    "df"
   ]
  },
  {
   "cell_type": "code",
   "execution_count": 30,
   "id": "6cf5c93c",
   "metadata": {
    "slideshow": {
     "slide_type": "subslide"
    }
   },
   "outputs": [
    {
     "data": {
      "text/plain": [
       "┌────────────────────────────────────────┬────────────┬──────────────┐\n",
       "│                 player                 │   result   │ count_star() │\n",
       "│                varchar                 │  varchar   │    int64     │\n",
       "├────────────────────────────────────────┼────────────┼──────────────┤\n",
       "│ Adrián Marín Gómez                     │ COMPLETE   │            4 │\n",
       "│ Adrián Marín Gómez                     │ INCOMPLETE │            1 │\n",
       "│ Adrián Marín Gómez                     │ OUT        │            1 │\n",
       "│ Arthur Henrique Ramos de Oliveira Melo │ NULL       │            1 │\n",
       "│ Arthur Henrique Ramos de Oliveira Melo │ COMPLETE   │           16 │\n",
       "│ Arthur Henrique Ramos de Oliveira Melo │ OFFSIDE    │            1 │\n",
       "│ Arturo Erasmo Vidal Pardo              │ COMPLETE   │            7 │\n",
       "│ Borja González Tomás                   │ COMPLETE   │            5 │\n",
       "│ Borja González Tomás                   │ INCOMPLETE │            1 │\n",
       "│ Borja González Tomás                   │ OUT        │            1 │\n",
       "│         ·                              │  ·         │            · │\n",
       "│         ·                              │  ·         │            · │\n",
       "│         ·                              │  ·         │            · │\n",
       "│ Samuel Yves Umtiti                     │ COMPLETE   │           61 │\n",
       "│ Samuel Yves Umtiti                     │ INCOMPLETE │            2 │\n",
       "│ Sergi Roberto Carnicer                 │ COMPLETE   │           76 │\n",
       "│ Sergi Roberto Carnicer                 │ INCOMPLETE │            6 │\n",
       "│ Sergi Roberto Carnicer                 │ OFFSIDE    │            1 │\n",
       "│ Sergi Roberto Carnicer                 │ OUT        │            2 │\n",
       "│ Sergio Busquets i Burgos               │ COMPLETE   │           73 │\n",
       "│ Sergio Busquets i Burgos               │ INCOMPLETE │            6 │\n",
       "│ Víctor Laguardia Cisneros              │ COMPLETE   │            6 │\n",
       "│ Víctor Laguardia Cisneros              │ INCOMPLETE │            5 │\n",
       "├────────────────────────────────────────┴────────────┴──────────────┤\n",
       "│ 76 rows (20 shown)                                       3 columns │\n",
       "└────────────────────────────────────────────────────────────────────┘"
      ]
     },
     "execution_count": 30,
     "metadata": {},
     "output_type": "execute_result"
    }
   ],
   "source": [
    "con.query(\"\"\"\n",
    "SELECT player, result, COUNT(*) FROM df GROUP BY ALL ORDER BY ALL\n",
    "\"\"\")"
   ]
  },
  {
   "cell_type": "code",
   "execution_count": 31,
   "id": "9d745e2f",
   "metadata": {
    "slideshow": {
     "slide_type": "slide"
    }
   },
   "outputs": [
    {
     "data": {
      "text/plain": [
       "┌──────────────────┬──────────┬────────────┬─────────┬───────┐\n",
       "│       team       │ COMPLETE │ INCOMPLETE │ OFFSIDE │  OUT  │\n",
       "│     varchar      │  int64   │   int64    │  int64  │ int64 │\n",
       "├──────────────────┼──────────┼────────────┼─────────┼───────┤\n",
       "│ Deportivo Alavés │      161 │         65 │       0 │    15 │\n",
       "│ Barcelona        │      792 │         85 │       4 │     5 │\n",
       "└──────────────────┴──────────┴────────────┴─────────┴───────┘"
      ]
     },
     "execution_count": 31,
     "metadata": {},
     "output_type": "execute_result"
    }
   ],
   "source": [
    "con.query(\"PIVOT df ON result GROUP BY team\")"
   ]
  },
  {
   "cell_type": "code",
   "execution_count": 32,
   "id": "4d2b8fc1",
   "metadata": {
    "slideshow": {
     "slide_type": "subslide"
    }
   },
   "outputs": [
    {
     "data": {
      "text/plain": [
       "┌──────────────────┬────────────────────────────────┬─────────┬───────┬────────────┬───────┬───────┐\n",
       "│       team       │             player             │ BLOCKED │ GOAL  │ OFF_TARGET │ POST  │ SAVED │\n",
       "│     varchar      │            varchar             │  int64  │ int64 │   int64    │ int64 │ int64 │\n",
       "├──────────────────┼────────────────────────────────┼─────────┼───────┼────────────┼───────┼───────┤\n",
       "│ Barcelona        │ Lionel Andrés Messi Cuccittini │       0 │     2 │          2 │     2 │     2 │\n",
       "│ Barcelona        │ Jordi Alba Ramos               │       1 │     0 │          1 │     0 │     1 │\n",
       "│ Deportivo Alavés │ Rubén Sobrino Pozuelo          │       0 │     0 │          1 │     0 │     0 │\n",
       "│ Barcelona        │ Luis Alberto Suárez Díaz       │       1 │     0 │          2 │     0 │     1 │\n",
       "│ Barcelona        │ Ousmane Dembélé                │       0 │     0 │          2 │     0 │     1 │\n",
       "│ Barcelona        │ Ivan Rakitić                   │       1 │     0 │          1 │     0 │     0 │\n",
       "│ Barcelona        │ Gerard Piqué Bernabéu          │       0 │     0 │          1 │     0 │     0 │\n",
       "│ Deportivo Alavés │ Mubarak Wakaso                 │       1 │     0 │          0 │     0 │     0 │\n",
       "│ Barcelona        │ Philippe Coutinho Correia      │       2 │     1 │          0 │     0 │     1 │\n",
       "│ Deportivo Alavés │ Adrián Marín Gómez             │       0 │     0 │          1 │     0 │     0 │\n",
       "├──────────────────┴────────────────────────────────┴─────────┴───────┴────────────┴───────┴───────┤\n",
       "│ 10 rows                                                                                7 columns │\n",
       "└──────────────────────────────────────────────────────────────────────────────────────────────────┘"
      ]
     },
     "execution_count": 32,
     "metadata": {},
     "output_type": "execute_result"
    }
   ],
   "source": [
    "df_shot = dataset.filter(\"shot\").to_df(\n",
    "    \"team\",\n",
    "    \"player\",\n",
    "    \"result\",\n",
    ")\n",
    "results = con.query(\"PIVOT df_shot ON result GROUP BY team, player\")\n",
    "results"
   ]
  },
  {
   "cell_type": "markdown",
   "id": "ec8d2268",
   "metadata": {
    "slideshow": {
     "slide_type": "slide"
    }
   },
   "source": [
    "# Export to excel 😎"
   ]
  },
  {
   "cell_type": "code",
   "execution_count": 33,
   "id": "d24d0f2b",
   "metadata": {
    "slideshow": {
     "slide_type": "subslide"
    }
   },
   "outputs": [
    {
     "name": "stdout",
     "output_type": "stream",
     "text": [
      "Requirement already satisfied: openpyxl in /Users/koen/Developer/Projects/PySport/kloppy/.venv/lib/python3.10/site-packages (3.1.2)\n",
      "Requirement already satisfied: et-xmlfile in /Users/koen/Developer/Projects/PySport/kloppy/.venv/lib/python3.10/site-packages (from openpyxl) (1.1.0)\n",
      "Note: you may need to restart the kernel to use updated packages.\n"
     ]
    }
   ],
   "source": [
    "%pip install openpyxl"
   ]
  },
  {
   "cell_type": "code",
   "execution_count": 34,
   "id": "1206b8fd",
   "metadata": {
    "slideshow": {
     "slide_type": "fragment"
    }
   },
   "outputs": [],
   "source": [
    "results.df().to_excel(\"output.xlsx\", index=False)"
   ]
  },
  {
   "cell_type": "code",
   "execution_count": 35,
   "id": "194ae3f4",
   "metadata": {
    "slideshow": {
     "slide_type": "fragment"
    }
   },
   "outputs": [
    {
     "data": {
      "text/plain": [
       "0"
      ]
     },
     "execution_count": 35,
     "metadata": {},
     "output_type": "execute_result"
    }
   ],
   "source": [
    "import subprocess\n",
    "\n",
    "subprocess.call([\"open\", \"output.xlsx\"])"
   ]
  },
  {
   "cell_type": "markdown",
   "id": "0564273d",
   "metadata": {
    "slideshow": {
     "slide_type": "slide"
    }
   },
   "source": [
    "# Conclusion\n",
    "\n",
    "- kloppy can be used to read sportscode xml files\n",
    "- data cleaning/transformation can be done in a few lines of code\n",
    "- cleaned kloppy dataset can be transformed into pandas DataFrame\n",
    "- DuckDB can query pandas DataFrame directly"
   ]
  },
  {
   "cell_type": "markdown",
   "id": "2a70446a",
   "metadata": {
    "slideshow": {
     "slide_type": "slide"
    }
   },
   "source": [
    "# Questions?"
   ]
  }
 ],
 "metadata": {
  "celltoolbar": "Slideshow",
  "kernelspec": {
   "display_name": "kloppy-venv",
   "language": "python",
   "name": "kloppy-venv"
  },
  "language_info": {
   "codemirror_mode": {
    "name": "ipython",
    "version": 3
   },
   "file_extension": ".py",
   "mimetype": "text/x-python",
   "name": "python",
   "nbconvert_exporter": "python",
   "pygments_lexer": "ipython3",
   "version": "3.10.6"
  }
 },
 "nbformat": 4,
 "nbformat_minor": 5
}
