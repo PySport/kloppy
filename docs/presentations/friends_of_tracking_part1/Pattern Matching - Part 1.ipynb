{
 "cells": [
  {
   "cell_type": "markdown",
   "metadata": {
    "slideshow": {
     "slide_type": "slide"
    }
   },
   "source": [
    "# Introduction to pattern matching\n",
    "<img src=\"assets/pattern.png\" style=\"width: 80%\" />"
   ]
  },
  {
   "cell_type": "markdown",
   "metadata": {
    "slideshow": {
     "slide_type": "slide"
    }
   },
   "source": [
    "# Contents\n",
    "\n",
    "<ul>\n",
    "    <li>Introduction to regular expressions</li>\n",
    "    <li>Event data</li>\n",
    "    <li>Applying regular expressions to event data</li>\n",
    "    <li>Finding the assist</li>\n",
    "    <li>Introducing zones</li>\n",
    "    <li>Plotting the results</li>\n",
    "</ul>"
   ]
  },
  {
   "cell_type": "markdown",
   "metadata": {
    "slideshow": {
     "slide_type": "slide"
    }
   },
   "source": [
    "# Intro: matching a string"
   ]
  },
  {
   "cell_type": "code",
   "execution_count": 32,
   "metadata": {
    "slideshow": {
     "slide_type": "fragment"
    }
   },
   "outputs": [
    {
     "name": "stdout",
     "output_type": "stream",
     "text": [
      "match\n"
     ]
    }
   ],
   "source": [
    "import re\n",
    "\n",
    "string = \"1234AB\"\n",
    "\n",
    "if re.match(\"([0-9]{4}[A-Z]{2})\", string):\n",
    "    print(\"match\")\n",
    "else:\n",
    "    print(\"no match\")"
   ]
  },
  {
   "cell_type": "code",
   "execution_count": 33,
   "metadata": {
    "slideshow": {
     "slide_type": "fragment"
    }
   },
   "outputs": [
    {
     "name": "stdout",
     "output_type": "stream",
     "text": [
      "no match\n"
     ]
    }
   ],
   "source": [
    "string = \"12345AB\"\n",
    "\n",
    "if re.match(\"([0-9]{4}[A-Z]{2})\", string):\n",
    "    print(\"match\")\n",
    "else:\n",
    "    print(\"no match\")"
   ]
  },
  {
   "cell_type": "markdown",
   "metadata": {
    "slideshow": {
     "slide_type": "slide"
    }
   },
   "source": [
    "# Intro: searching for patterns"
   ]
  },
  {
   "cell_type": "code",
   "execution_count": 34,
   "metadata": {
    "slideshow": {
     "slide_type": "fragment"
    }
   },
   "outputs": [
    {
     "data": {
      "text/plain": [
       "['1234AB', '0000BB', '0987ZZ', '9999AA']"
      ]
     },
     "execution_count": 34,
     "metadata": {},
     "output_type": "execute_result"
    }
   ],
   "source": [
    "import re\n",
    "\n",
    "string = \"Koen 1234AB Henk 123P8 Kees 0000BB 817 0987ZZ 9999AA\"\n",
    "\n",
    "results = re.findall(\"([0-9]{4}[A-Z]{2})\", string)\n",
    "results"
   ]
  },
  {
   "cell_type": "markdown",
   "metadata": {
    "slideshow": {
     "slide_type": "slide"
    }
   },
   "source": [
    "# Event data"
   ]
  },
  {
   "cell_type": "code",
   "execution_count": 4,
   "metadata": {
    "slideshow": {
     "slide_type": "fragment"
    }
   },
   "outputs": [
    {
     "name": "stdout",
     "output_type": "stream",
     "text": [
      "Barcelona - Deportivo Alavés\n"
     ]
    },
    {
     "name": "stderr",
     "output_type": "stream",
     "text": [
      "/usr/local/lib/python3.8/site-packages/kloppy-1.4.3-py3.8.egg/kloppy/infra/datasets/event/statsbomb.py:11: UserWarning: \n",
      "\n",
      "You are about to use StatsBomb public data.\n",
      "By using this data, you are agreeing to the user agreement. \n",
      "The user agreement can be found here: https://github.com/statsbomb/open-data/blob/master/LICENSE.pdf\n",
      "\n",
      "  warnings.warn(\n"
     ]
    }
   ],
   "source": [
    "from kloppy import datasets\n",
    "\n",
    "dataset = datasets.load(\"statsbomb\")\n",
    "print(f\"{dataset.metadata.teams[0]} - {dataset.metadata.teams[1]}\")"
   ]
  },
  {
   "cell_type": "markdown",
   "metadata": {
    "slideshow": {
     "slide_type": "slide"
    }
   },
   "source": [
    "# Event data"
   ]
  },
  {
   "cell_type": "code",
   "execution_count": 5,
   "metadata": {
    "slideshow": {
     "slide_type": "fragment"
    }
   },
   "outputs": [
    {
     "name": "stdout",
     "output_type": "stream",
     "text": [
      "period              : Period(id=1, start_timestamp=0.0, end_timestamp=2705.267, attacking_direction=<AttackingDirection.NOT_SET: 'not-set'>)\n",
      "timestamp           : 24.687\n",
      "ball_owning_team    : Barcelona\n",
      "ball_state          : BallState.ALIVE\n",
      "event_id            : 126756d5-bfe3-44a7-a2c3-d36fb4d0a548\n",
      "team                : Deportivo Alavés\n",
      "player              : Víctor Laguardia Cisneros\n",
      "coordinates         : Point(x=35.5, y=68.5)\n",
      "result              : PassResult.INCOMPLETE\n",
      "state               : {}\n",
      "qualifiers          : []\n",
      "receive_timestamp   : 28.826\n",
      "receiver_player     : None\n",
      "receiver_coordinates: Point(x=107.5, y=54.5)\n",
      "event_type          : EventType.PASS\n",
      "event_name          : pass\n"
     ]
    }
   ],
   "source": [
    "import dataclasses\n",
    "\n",
    "\n",
    "def print_event(event):\n",
    "    for field in dataclasses.fields(event):\n",
    "        if field.name == \"raw_event\":\n",
    "            continue\n",
    "        print(f\"{field.name: <20}: {str(getattr(event, field.name))}\")\n",
    "\n",
    "\n",
    "print_event(dataset.events[21])"
   ]
  },
  {
   "cell_type": "markdown",
   "metadata": {
    "slideshow": {
     "slide_type": "slide"
    }
   },
   "source": [
    "# Applying regular expressions to event data"
   ]
  },
  {
   "cell_type": "markdown",
   "metadata": {
    "slideshow": {
     "slide_type": "-"
    }
   },
   "source": [
    "<img src=\"assets/encode_event.png\" style=\"width: 80%\"/>"
   ]
  },
  {
   "cell_type": "markdown",
   "metadata": {
    "slideshow": {
     "slide_type": "subslide"
    }
   },
   "source": [
    "<img src=\"assets/encode_event2.png\" style=\"width: 80%\"/>"
   ]
  },
  {
   "cell_type": "markdown",
   "metadata": {
    "slideshow": {
     "slide_type": "subslide"
    }
   },
   "source": [
    "<img src=\"assets/encode_event3.png\" style=\"width: 80%\"/>"
   ]
  },
  {
   "cell_type": "markdown",
   "metadata": {
    "slideshow": {
     "slide_type": "slide"
    }
   },
   "source": [
    "# Encoder"
   ]
  },
  {
   "cell_type": "code",
   "execution_count": 7,
   "metadata": {
    "slideshow": {
     "slide_type": "fragment"
    }
   },
   "outputs": [],
   "source": [
    "from kloppy.domain import Event\n",
    "\n",
    "\n",
    "def encoder(event: Event):\n",
    "    if event.event_name == \"pass\":\n",
    "        return \"P\"\n",
    "    elif event.event_name == \"shot\":\n",
    "        return \"S\""
   ]
  },
  {
   "cell_type": "markdown",
   "metadata": {
    "slideshow": {
     "slide_type": "fragment"
    }
   },
   "source": [
    "```python\n",
    "encoded_str = \"PPPPPPPPPPPPPPPPPPPPPPPSPPPPPPPPPPPPPPPPPPPPPPPPPPPPPPPPP\"\n",
    "```"
   ]
  },
  {
   "cell_type": "markdown",
   "metadata": {
    "slideshow": {
     "slide_type": "slide"
    }
   },
   "source": [
    "# Matcher"
   ]
  },
  {
   "cell_type": "code",
   "execution_count": 8,
   "metadata": {
    "slideshow": {
     "slide_type": "fragment"
    }
   },
   "outputs": [],
   "source": [
    "import re\n",
    "from dataclasses import dataclass\n",
    "from typing import Callable, List\n",
    "\n",
    "from kloppy.domain import EventDataset\n",
    "\n",
    "\n",
    "@dataclass\n",
    "class IndexEntry:\n",
    "    start_pos: int\n",
    "    end_pos: int\n",
    "    event: Event\n",
    "\n",
    "\n",
    "class Matcher:\n",
    "    def __init__(self, encoder: Callable[[Event], str]):\n",
    "        self.encoder = encoder\n",
    "\n",
    "    def search(self, dataset: EventDataset, pattern: str) -> List[List[Event]]:\n",
    "        # Step 1: encode events and build index\n",
    "        index = []\n",
    "        encoded_str = \"\"\n",
    "        for event in dataset.events:\n",
    "            encoded_event = self.encoder(event)\n",
    "            if not encoded_event:\n",
    "                continue\n",
    "\n",
    "            current_pos = len(encoded_str)\n",
    "            index_entry = IndexEntry(start_pos=current_pos, end_pos=current_pos + len(encoded_event), event=event)\n",
    "            index.append(index_entry)\n",
    "\n",
    "            encoded_str += encoded_event\n",
    "\n",
    "        # Step 2: Search using regular expression\n",
    "        results = re.finditer(pattern, encoded_str)\n",
    "\n",
    "        # Step 3: Decode back to match (List of Events)\n",
    "        matches = []\n",
    "        index_pos = 0\n",
    "        index_length = len(index)\n",
    "        for result in results:\n",
    "            start_pos, end_pos = result.span()\n",
    "\n",
    "            match = []\n",
    "            for i in range(index_pos, index_length):\n",
    "                index_entry = index[i]\n",
    "\n",
    "                if index_entry.start_pos >= end_pos:\n",
    "                    index_pos = i\n",
    "                    break\n",
    "                elif index_entry.start_pos >= start_pos:\n",
    "                    match.append(index_entry.event)\n",
    "\n",
    "            matches.append(match)\n",
    "\n",
    "        return matches"
   ]
  },
  {
   "cell_type": "markdown",
   "metadata": {
    "slideshow": {
     "slide_type": "slide"
    }
   },
   "source": [
    "# Searching"
   ]
  },
  {
   "cell_type": "code",
   "execution_count": 9,
   "metadata": {
    "slideshow": {
     "slide_type": "fragment"
    }
   },
   "outputs": [
    {
     "name": "stdout",
     "output_type": "stream",
     "text": [
      "search took: 4.55ms \n",
      "Results: 27\n",
      "\n"
     ]
    }
   ],
   "source": [
    "from kloppy.utils import performance_logging\n",
    "\n",
    "\n",
    "def encoder(event: Event):\n",
    "    if event.event_name == \"pass\":\n",
    "        return \"P\"\n",
    "    elif event.event_name == \"shot\":\n",
    "        return \"S\"\n",
    "\n",
    "\n",
    "matcher = Matcher(encoder)\n",
    "\n",
    "with performance_logging(\"search\"):\n",
    "    results = matcher.search(dataset, pattern=\"PS\")\n",
    "\n",
    "print(f\"Results: {len(results)}\\n\")"
   ]
  },
  {
   "cell_type": "markdown",
   "metadata": {
    "slideshow": {
     "slide_type": "slide"
    }
   },
   "source": [
    "# The results"
   ]
  },
  {
   "cell_type": "code",
   "execution_count": 14,
   "metadata": {
    "slideshow": {
     "slide_type": "fragment"
    }
   },
   "outputs": [
    {
     "name": "stdout",
     "output_type": "stream",
     "text": [
      "                               event_id event_type      result  success  period_id  timestamp  end_timestamp ball_state ball_owning_team team_id player_id  coordinates_x  coordinates_y  end_coordinates_x  end_coordinates_y receiver_player_id\n",
      "0  b96db2cb-9123-4596-9bfc-537a645c5991       PASS    COMPLETE     True          1    144.126        147.565      alive              217     217      5470          49.50          25.50              111.5               50.5               5503\n",
      "1  65f16e50-7c5d-4293-b2fc-d20887a772f9       SHOT  OFF_TARGET    False          1    149.094            NaN      alive              217     217      5503         111.65          51.65                NaN                NaN                NaN\n"
     ]
    }
   ],
   "source": [
    "from kloppy import to_pandas\n",
    "\n",
    "print(to_pandas(results[0]))"
   ]
  },
  {
   "cell_type": "markdown",
   "metadata": {
    "slideshow": {
     "slide_type": "slide"
    }
   },
   "source": [
    "# The results"
   ]
  },
  {
   "cell_type": "code",
   "execution_count": 13,
   "metadata": {},
   "outputs": [],
   "source": [
    "from kloppy import to_pandas\n",
    "\n",
    "import pandas as pd\n",
    "\n",
    "pd.set_option(\"display.max_colwidth\", None)\n",
    "pd.set_option(\"display.max_columns\", None)\n",
    "pd.set_option(\"display.max_rows\", None)\n",
    "pd.set_option(\"display.width\", 2000)\n",
    "\n",
    "\n",
    "def print_results(results, limit=100):\n",
    "    for i, result in enumerate(results[:limit]):\n",
    "        df = to_pandas(\n",
    "            result,\n",
    "            additional_columns={\n",
    "                \"player_name\": lambda event: event.player.full_name,\n",
    "                \"team_name\": lambda event: str(event.team),\n",
    "                \"x\": lambda event: event.coordinates.x,\n",
    "                \"y\": lambda event: event.coordinates.y,\n",
    "            },\n",
    "        )\n",
    "        print(f\"Result {i}:\")\n",
    "        print(df[[\"timestamp\", \"team_name\", \"player_name\", \"event_type\", \"result\", \"x\", \"y\"]])\n",
    "        print(\"\")"
   ]
  },
  {
   "cell_type": "code",
   "execution_count": 15,
   "metadata": {
    "slideshow": {
     "slide_type": "slide"
    }
   },
   "outputs": [
    {
     "name": "stdout",
     "output_type": "stream",
     "text": [
      "Result 0:\n",
      "   timestamp  team_name                     player_name event_type      result       x      y\n",
      "0    144.126  Barcelona                    Ivan Rakitić       PASS    COMPLETE   49.50  25.50\n",
      "1    149.094  Barcelona  Lionel Andrés Messi Cuccittini       SHOT  OFF_TARGET  111.65  51.65\n",
      "\n",
      "Result 1:\n",
      "   timestamp  team_name                     player_name event_type      result       x      y\n",
      "0    337.369  Barcelona  Lionel Andrés Messi Cuccittini       PASS    COMPLETE   92.50  56.50\n",
      "1    339.239  Barcelona                Jordi Alba Ramos       SHOT  OFF_TARGET  113.95  26.95\n",
      "\n",
      "Result 2:\n",
      "   timestamp         team_name                     player_name event_type    result      x      y\n",
      "0    924.984  Deportivo Alavés            Rubén Duarte Sánchez       PASS  COMPLETE  23.50  33.50\n",
      "1    928.625         Barcelona  Lionel Andrés Messi Cuccittini       SHOT     SAVED  91.95  34.45\n",
      "\n",
      "Result 3:\n",
      "   timestamp         team_name                      player_name event_type      result       x      y\n",
      "0    978.568  Deportivo Alavés  Manuel Alejandro García Sánchez       PASS    COMPLETE   99.50  15.50\n",
      "1    979.616  Deportivo Alavés            Rubén Sobrino Pozuelo       SHOT  OFF_TARGET  109.05  38.65\n",
      "\n",
      "Result 4:\n",
      "   timestamp  team_name               player_name event_type      result       x      y\n",
      "0   1091.428  Barcelona           Ousmane Dembélé       PASS  INCOMPLETE  109.50  58.50\n",
      "1   1095.914  Barcelona  Luis Alberto Suárez Díaz       SHOT  OFF_TARGET  106.95  24.95\n",
      "\n",
      "Result 5:\n",
      "   timestamp  team_name               player_name event_type      result       x      y\n",
      "0   1840.205  Barcelona  Luis Alberto Suárez Díaz       PASS    COMPLETE   88.50  26.50\n",
      "1   1842.287  Barcelona           Ousmane Dembélé       SHOT  OFF_TARGET  108.05  27.35\n",
      "\n",
      "Result 6:\n",
      "   timestamp  team_name                     player_name event_type      result       x      y\n",
      "0   2103.972  Barcelona  Lionel Andrés Messi Cuccittini       PASS    COMPLETE  102.50  62.50\n",
      "1   2104.861  Barcelona                    Ivan Rakitić       SHOT  OFF_TARGET  111.95  43.65\n",
      "\n",
      "Result 7:\n",
      "   timestamp  team_name                     player_name event_type result      x      y\n",
      "0   2174.936  Barcelona  Lionel Andrés Messi Cuccittini       PASS   None  95.50  54.50\n",
      "1   2248.168  Barcelona  Lionel Andrés Messi Cuccittini       SHOT   POST  96.95  53.95\n",
      "\n",
      "Result 8:\n",
      "   timestamp  team_name                     player_name event_type    result       x      y\n",
      "0   2305.600  Barcelona  Lionel Andrés Messi Cuccittini       PASS  COMPLETE   77.50  41.50\n",
      "1   2308.083  Barcelona                 Ousmane Dembélé       SHOT     SAVED  102.45  29.15\n",
      "\n",
      "Result 9:\n",
      "   timestamp  team_name               player_name event_type      result       x      y\n",
      "0   2431.179  Barcelona          Jordi Alba Ramos       PASS    COMPLETE   60.50   3.50\n",
      "1   2434.592  Barcelona  Luis Alberto Suárez Díaz       SHOT  OFF_TARGET  109.25  29.65\n",
      "\n",
      "Result 10:\n",
      "   timestamp  team_name       player_name event_type      result       x      y\n",
      "0   2610.041  Barcelona  Jordi Alba Ramos       PASS    COMPLETE  111.50  21.50\n",
      "1   2610.612  Barcelona   Ousmane Dembélé       SHOT  OFF_TARGET  106.45  33.45\n",
      "\n",
      "Result 11:\n",
      "   timestamp  team_name       player_name event_type    result       x      y\n",
      "0    156.575  Barcelona   Ousmane Dembélé       PASS  COMPLETE   99.50  30.50\n",
      "1    159.524  Barcelona  Jordi Alba Ramos       SHOT     SAVED  116.85  31.15\n",
      "\n",
      "Result 12:\n",
      "   timestamp         team_name            player_name event_type      result       x      y\n",
      "0    365.421         Barcelona  Gerard Piqué Bernabéu       PASS  INCOMPLETE    2.50  67.50\n",
      "1    367.400  Deportivo Alavés         Mubarak Wakaso       SHOT     BLOCKED  105.95  22.95\n",
      "\n",
      "Result 13:\n",
      "   timestamp  team_name               player_name event_type      result       x      y\n",
      "0    527.828  Barcelona          Jordi Alba Ramos       PASS  INCOMPLETE  116.50  26.50\n",
      "1    534.355  Barcelona  Luis Alberto Suárez Díaz       SHOT     BLOCKED  111.05  24.05\n",
      "\n",
      "Result 14:\n",
      "   timestamp  team_name                player_name event_type    result       x      y\n",
      "0    593.181  Barcelona           Jordi Alba Ramos       PASS  COMPLETE  111.50  13.50\n",
      "1    596.388  Barcelona  Philippe Coutinho Correia       SHOT   BLOCKED   94.35  24.45\n",
      "\n",
      "Result 15:\n",
      "   timestamp  team_name       player_name event_type    result       x      y\n",
      "0    633.054  Barcelona   Ousmane Dembélé       PASS  COMPLETE  105.50  31.50\n",
      "1    634.490  Barcelona  Jordi Alba Ramos       SHOT   BLOCKED  107.35  25.85\n",
      "\n",
      "Result 16:\n",
      "   timestamp  team_name                     player_name event_type      result       x      y\n",
      "0    738.448  Barcelona       Philippe Coutinho Correia       PASS    COMPLETE  104.50  59.50\n",
      "1    740.847  Barcelona  Lionel Andrés Messi Cuccittini       SHOT  OFF_TARGET  100.05  58.05\n",
      "\n",
      "Result 17:\n",
      "   timestamp  team_name                player_name event_type    result       x      y\n",
      "0    932.676  Barcelona  Philippe Coutinho Correia       PASS  COMPLETE   94.50  11.50\n",
      "1    936.156  Barcelona  Philippe Coutinho Correia       SHOT   BLOCKED  100.15  27.65\n",
      "\n",
      "Result 18:\n",
      "   timestamp  team_name                     player_name event_type    result      x      y\n",
      "0   1018.492  Barcelona                    Ivan Rakitić       PASS  COMPLETE  94.50  59.50\n",
      "1   1091.954  Barcelona  Lionel Andrés Messi Cuccittini       SHOT      GOAL  96.05  45.05\n",
      "\n",
      "Result 19:\n",
      "   timestamp  team_name                     player_name event_type    result       x      y\n",
      "0   1240.630  Barcelona        Luis Alberto Suárez Díaz       PASS  COMPLETE  109.50  60.50\n",
      "1   1243.588  Barcelona  Lionel Andrés Messi Cuccittini       SHOT      POST  106.05  47.05\n",
      "\n",
      "Result 20:\n",
      "   timestamp  team_name         player_name event_type    result      x      y\n",
      "0   1403.314  Barcelona  Samuel Yves Umtiti       PASS  COMPLETE  50.50  20.50\n",
      "1   1413.375  Barcelona        Ivan Rakitić       SHOT   BLOCKED  88.65  42.75\n",
      "\n",
      "Result 21:\n",
      "   timestamp         team_name               player_name event_type      result       x      y\n",
      "0   1644.990  Deportivo Alavés        Jorge Franco Alviz       PASS  INCOMPLETE   28.50  55.50\n",
      "1   1647.492         Barcelona  Luis Alberto Suárez Díaz       SHOT       SAVED  109.05  30.05\n",
      "\n",
      "Result 22:\n",
      "   timestamp         team_name         player_name event_type      result       x      y\n",
      "0   1995.725  Deportivo Alavés    Ibai Gómez Pérez       PASS    COMPLETE   83.50  64.50\n",
      "1   1997.679  Deportivo Alavés  Adrián Marín Gómez       SHOT  OFF_TARGET  113.35  33.45\n",
      "\n",
      "Result 23:\n",
      "   timestamp  team_name                     player_name event_type    result       x      y\n",
      "0   2189.648  Barcelona  Lionel Andrés Messi Cuccittini       PASS  COMPLETE   93.50  44.50\n",
      "1   2191.606  Barcelona       Philippe Coutinho Correia       SHOT     SAVED  113.35  31.05\n",
      "\n",
      "Result 24:\n",
      "   timestamp  team_name                             player_name event_type    result       x      y\n",
      "0   2257.255  Barcelona  Arthur Henrique Ramos de Oliveira Melo       PASS  COMPLETE   85.50  34.50\n",
      "1   2261.578  Barcelona               Philippe Coutinho Correia       SHOT      GOAL  105.05  31.05\n",
      "\n",
      "Result 25:\n",
      "   timestamp  team_name                     player_name event_type    result       x      y\n",
      "0   2659.241  Barcelona          Sergi Roberto Carnicer       PASS  COMPLETE   98.50  59.50\n",
      "1   2662.638  Barcelona  Lionel Andrés Messi Cuccittini       SHOT     SAVED  106.05  46.05\n",
      "\n",
      "Result 26:\n",
      "   timestamp  team_name                     player_name event_type    result       x      y\n",
      "0   2798.906  Barcelona        Luis Alberto Suárez Díaz       PASS  COMPLETE   83.50  27.50\n",
      "1   2802.770  Barcelona  Lionel Andrés Messi Cuccittini       SHOT      GOAL  111.95  34.55\n",
      "\n"
     ]
    }
   ],
   "source": [
    "print_results(results)"
   ]
  },
  {
   "cell_type": "code",
   "execution_count": 16,
   "metadata": {
    "slideshow": {
     "slide_type": "subslide"
    }
   },
   "outputs": [
    {
     "name": "stdout",
     "output_type": "stream",
     "text": [
      "Result 0:\n",
      "   timestamp         team_name                     player_name event_type    result      x      y\n",
      "0    924.984  Deportivo Alavés            Rubén Duarte Sánchez       PASS  COMPLETE  23.50  33.50\n",
      "1    928.625         Barcelona  Lionel Andrés Messi Cuccittini       SHOT     SAVED  91.95  34.45\n",
      "\n",
      "Result 0:\n",
      "   timestamp         team_name            player_name event_type      result       x      y\n",
      "0    365.421         Barcelona  Gerard Piqué Bernabéu       PASS  INCOMPLETE    2.50  67.50\n",
      "1    367.400  Deportivo Alavés         Mubarak Wakaso       SHOT     BLOCKED  105.95  22.95\n",
      "\n",
      "Result 0:\n",
      "   timestamp         team_name               player_name event_type      result       x      y\n",
      "0   1644.990  Deportivo Alavés        Jorge Franco Alviz       PASS  INCOMPLETE   28.50  55.50\n",
      "1   1647.492         Barcelona  Luis Alberto Suárez Díaz       SHOT       SAVED  109.05  30.05\n",
      "\n"
     ]
    }
   ],
   "source": [
    "print_results(results[2:3])\n",
    "print_results(results[12:13])\n",
    "print_results(results[21:22])"
   ]
  },
  {
   "cell_type": "markdown",
   "metadata": {
    "slideshow": {
     "slide_type": "slide"
    }
   },
   "source": [
    "# Add teams"
   ]
  },
  {
   "cell_type": "code",
   "execution_count": 27,
   "metadata": {
    "slideshow": {
     "slide_type": "fragment"
    }
   },
   "outputs": [],
   "source": [
    "from kloppy.domain import Ground\n",
    "\n",
    "\n",
    "def encoder_with_team(event: Event):\n",
    "    if event.event_name == \"pass\":\n",
    "        encoded_str = \"P\"\n",
    "    elif event.event_name == \"shot\":\n",
    "        encoded_str = \"S\"\n",
    "    else:\n",
    "        return None\n",
    "\n",
    "    encoded_str += \"H\" if event.team.ground == Ground.HOME else \"A\"\n",
    "\n",
    "    return encoded_str\n",
    "\n",
    "\n",
    "matcher_with_team = Matcher(encoder_with_team)"
   ]
  },
  {
   "cell_type": "code",
   "execution_count": 18,
   "metadata": {
    "slideshow": {
     "slide_type": "subslide"
    }
   },
   "outputs": [
    {
     "name": "stdout",
     "output_type": "stream",
     "text": [
      "search took: 4.43ms \n",
      "Result 0:\n",
      "   timestamp  team_name                     player_name event_type      result       x      y\n",
      "0    144.126  Barcelona                    Ivan Rakitić       PASS    COMPLETE   49.50  25.50\n",
      "1    149.094  Barcelona  Lionel Andrés Messi Cuccittini       SHOT  OFF_TARGET  111.65  51.65\n",
      "\n",
      "Result 1:\n",
      "   timestamp  team_name                     player_name event_type      result       x      y\n",
      "0    337.369  Barcelona  Lionel Andrés Messi Cuccittini       PASS    COMPLETE   92.50  56.50\n",
      "1    339.239  Barcelona                Jordi Alba Ramos       SHOT  OFF_TARGET  113.95  26.95\n",
      "\n",
      "Result 2:\n",
      "   timestamp         team_name                      player_name event_type      result       x      y\n",
      "0    978.568  Deportivo Alavés  Manuel Alejandro García Sánchez       PASS    COMPLETE   99.50  15.50\n",
      "1    979.616  Deportivo Alavés            Rubén Sobrino Pozuelo       SHOT  OFF_TARGET  109.05  38.65\n",
      "\n",
      "Result 3:\n",
      "   timestamp  team_name               player_name event_type      result       x      y\n",
      "0   1091.428  Barcelona           Ousmane Dembélé       PASS  INCOMPLETE  109.50  58.50\n",
      "1   1095.914  Barcelona  Luis Alberto Suárez Díaz       SHOT  OFF_TARGET  106.95  24.95\n",
      "\n",
      "Result 4:\n",
      "   timestamp  team_name               player_name event_type      result       x      y\n",
      "0   1840.205  Barcelona  Luis Alberto Suárez Díaz       PASS    COMPLETE   88.50  26.50\n",
      "1   1842.287  Barcelona           Ousmane Dembélé       SHOT  OFF_TARGET  108.05  27.35\n",
      "\n",
      "Result 5:\n",
      "   timestamp  team_name                     player_name event_type      result       x      y\n",
      "0   2103.972  Barcelona  Lionel Andrés Messi Cuccittini       PASS    COMPLETE  102.50  62.50\n",
      "1   2104.861  Barcelona                    Ivan Rakitić       SHOT  OFF_TARGET  111.95  43.65\n",
      "\n",
      "Result 6:\n",
      "   timestamp  team_name                     player_name event_type result      x      y\n",
      "0   2174.936  Barcelona  Lionel Andrés Messi Cuccittini       PASS   None  95.50  54.50\n",
      "1   2248.168  Barcelona  Lionel Andrés Messi Cuccittini       SHOT   POST  96.95  53.95\n",
      "\n",
      "Result 7:\n",
      "   timestamp  team_name                     player_name event_type    result       x      y\n",
      "0   2305.600  Barcelona  Lionel Andrés Messi Cuccittini       PASS  COMPLETE   77.50  41.50\n",
      "1   2308.083  Barcelona                 Ousmane Dembélé       SHOT     SAVED  102.45  29.15\n",
      "\n",
      "Result 8:\n",
      "   timestamp  team_name               player_name event_type      result       x      y\n",
      "0   2431.179  Barcelona          Jordi Alba Ramos       PASS    COMPLETE   60.50   3.50\n",
      "1   2434.592  Barcelona  Luis Alberto Suárez Díaz       SHOT  OFF_TARGET  109.25  29.65\n",
      "\n",
      "Result 9:\n",
      "   timestamp  team_name       player_name event_type      result       x      y\n",
      "0   2610.041  Barcelona  Jordi Alba Ramos       PASS    COMPLETE  111.50  21.50\n",
      "1   2610.612  Barcelona   Ousmane Dembélé       SHOT  OFF_TARGET  106.45  33.45\n",
      "\n",
      "Result 10:\n",
      "   timestamp  team_name       player_name event_type    result       x      y\n",
      "0    156.575  Barcelona   Ousmane Dembélé       PASS  COMPLETE   99.50  30.50\n",
      "1    159.524  Barcelona  Jordi Alba Ramos       SHOT     SAVED  116.85  31.15\n",
      "\n",
      "Result 11:\n",
      "   timestamp  team_name               player_name event_type      result       x      y\n",
      "0    527.828  Barcelona          Jordi Alba Ramos       PASS  INCOMPLETE  116.50  26.50\n",
      "1    534.355  Barcelona  Luis Alberto Suárez Díaz       SHOT     BLOCKED  111.05  24.05\n",
      "\n",
      "Result 12:\n",
      "   timestamp  team_name                player_name event_type    result       x      y\n",
      "0    593.181  Barcelona           Jordi Alba Ramos       PASS  COMPLETE  111.50  13.50\n",
      "1    596.388  Barcelona  Philippe Coutinho Correia       SHOT   BLOCKED   94.35  24.45\n",
      "\n",
      "Result 13:\n",
      "   timestamp  team_name       player_name event_type    result       x      y\n",
      "0    633.054  Barcelona   Ousmane Dembélé       PASS  COMPLETE  105.50  31.50\n",
      "1    634.490  Barcelona  Jordi Alba Ramos       SHOT   BLOCKED  107.35  25.85\n",
      "\n",
      "Result 14:\n",
      "   timestamp  team_name                     player_name event_type      result       x      y\n",
      "0    738.448  Barcelona       Philippe Coutinho Correia       PASS    COMPLETE  104.50  59.50\n",
      "1    740.847  Barcelona  Lionel Andrés Messi Cuccittini       SHOT  OFF_TARGET  100.05  58.05\n",
      "\n",
      "Result 15:\n",
      "   timestamp  team_name                player_name event_type    result       x      y\n",
      "0    932.676  Barcelona  Philippe Coutinho Correia       PASS  COMPLETE   94.50  11.50\n",
      "1    936.156  Barcelona  Philippe Coutinho Correia       SHOT   BLOCKED  100.15  27.65\n",
      "\n",
      "Result 16:\n",
      "   timestamp  team_name                     player_name event_type    result      x      y\n",
      "0   1018.492  Barcelona                    Ivan Rakitić       PASS  COMPLETE  94.50  59.50\n",
      "1   1091.954  Barcelona  Lionel Andrés Messi Cuccittini       SHOT      GOAL  96.05  45.05\n",
      "\n",
      "Result 17:\n",
      "   timestamp  team_name                     player_name event_type    result       x      y\n",
      "0   1240.630  Barcelona        Luis Alberto Suárez Díaz       PASS  COMPLETE  109.50  60.50\n",
      "1   1243.588  Barcelona  Lionel Andrés Messi Cuccittini       SHOT      POST  106.05  47.05\n",
      "\n",
      "Result 18:\n",
      "   timestamp  team_name         player_name event_type    result      x      y\n",
      "0   1403.314  Barcelona  Samuel Yves Umtiti       PASS  COMPLETE  50.50  20.50\n",
      "1   1413.375  Barcelona        Ivan Rakitić       SHOT   BLOCKED  88.65  42.75\n",
      "\n",
      "Result 19:\n",
      "   timestamp         team_name         player_name event_type      result       x      y\n",
      "0   1995.725  Deportivo Alavés    Ibai Gómez Pérez       PASS    COMPLETE   83.50  64.50\n",
      "1   1997.679  Deportivo Alavés  Adrián Marín Gómez       SHOT  OFF_TARGET  113.35  33.45\n",
      "\n",
      "Result 20:\n",
      "   timestamp  team_name                     player_name event_type    result       x      y\n",
      "0   2189.648  Barcelona  Lionel Andrés Messi Cuccittini       PASS  COMPLETE   93.50  44.50\n",
      "1   2191.606  Barcelona       Philippe Coutinho Correia       SHOT     SAVED  113.35  31.05\n",
      "\n",
      "Result 21:\n",
      "   timestamp  team_name                             player_name event_type    result       x      y\n",
      "0   2257.255  Barcelona  Arthur Henrique Ramos de Oliveira Melo       PASS  COMPLETE   85.50  34.50\n",
      "1   2261.578  Barcelona               Philippe Coutinho Correia       SHOT      GOAL  105.05  31.05\n",
      "\n",
      "Result 22:\n",
      "   timestamp  team_name                     player_name event_type    result       x      y\n",
      "0   2659.241  Barcelona          Sergi Roberto Carnicer       PASS  COMPLETE   98.50  59.50\n",
      "1   2662.638  Barcelona  Lionel Andrés Messi Cuccittini       SHOT     SAVED  106.05  46.05\n",
      "\n",
      "Result 23:\n",
      "   timestamp  team_name                     player_name event_type    result       x      y\n",
      "0   2798.906  Barcelona        Luis Alberto Suárez Díaz       PASS  COMPLETE   83.50  27.50\n",
      "1   2802.770  Barcelona  Lionel Andrés Messi Cuccittini       SHOT      GOAL  111.95  34.55\n",
      "\n"
     ]
    }
   ],
   "source": [
    "with performance_logging(\"search\"):\n",
    "    results = matcher_with_team.search(dataset, pattern=r\"P([AH])S(\\1)\")\n",
    "\n",
    "print_results(results)"
   ]
  },
  {
   "cell_type": "code",
   "execution_count": 19,
   "metadata": {
    "slideshow": {
     "slide_type": "subslide"
    }
   },
   "outputs": [
    {
     "name": "stdout",
     "output_type": "stream",
     "text": [
      "search took: 3.90ms \n",
      "Result 0:\n",
      "   timestamp         team_name                     player_name event_type    result      x      y\n",
      "0    924.984  Deportivo Alavés            Rubén Duarte Sánchez       PASS  COMPLETE  23.50  33.50\n",
      "1    928.625         Barcelona  Lionel Andrés Messi Cuccittini       SHOT     SAVED  91.95  34.45\n",
      "\n",
      "Result 1:\n",
      "   timestamp         team_name            player_name event_type      result       x      y\n",
      "0    365.421         Barcelona  Gerard Piqué Bernabéu       PASS  INCOMPLETE    2.50  67.50\n",
      "1    367.400  Deportivo Alavés         Mubarak Wakaso       SHOT     BLOCKED  105.95  22.95\n",
      "\n",
      "Result 2:\n",
      "   timestamp         team_name               player_name event_type      result       x      y\n",
      "0   1644.990  Deportivo Alavés        Jorge Franco Alviz       PASS  INCOMPLETE   28.50  55.50\n",
      "1   1647.492         Barcelona  Luis Alberto Suárez Díaz       SHOT       SAVED  109.05  30.05\n",
      "\n"
     ]
    }
   ],
   "source": [
    "with performance_logging(\"search\"):\n",
    "    results = matcher_with_team.search(dataset, pattern=r\"P([AH])S(?!\\1)\")\n",
    "\n",
    "print_results(results)"
   ]
  },
  {
   "cell_type": "markdown",
   "metadata": {
    "slideshow": {
     "slide_type": "slide"
    }
   },
   "source": [
    "# Add zones"
   ]
  },
  {
   "cell_type": "markdown",
   "metadata": {
    "slideshow": {
     "slide_type": "subslide"
    }
   },
   "source": [
    "<img src=\"assets/pitch.png\" style=\"width: 65%; margin: auto\"/>"
   ]
  },
  {
   "cell_type": "markdown",
   "metadata": {
    "slideshow": {
     "slide_type": "subslide"
    }
   },
   "source": [
    "<img src=\"assets/pitch2.png?2\" style=\"width: 65%; margin: auto\"/>"
   ]
  },
  {
   "cell_type": "code",
   "execution_count": 20,
   "metadata": {
    "slideshow": {
     "slide_type": "subslide"
    }
   },
   "outputs": [],
   "source": [
    "zones = {\n",
    "    1: ((50, 0), (120, 18)),\n",
    "    2: ((50, 18), (102, 32)),\n",
    "    3: ((50, 32), (102, 48)),\n",
    "    4: ((50, 48), (102, 62)),\n",
    "    5: ((50, 62), (120, 80)),\n",
    "    6: ((102, 18), (120, 62)),\n",
    "    7: ((0, 0), (60, 80)),\n",
    "}"
   ]
  },
  {
   "cell_type": "code",
   "execution_count": 21,
   "metadata": {
    "slideshow": {
     "slide_type": "slide"
    }
   },
   "outputs": [],
   "source": [
    "def encoder_with_zone(event: Event):\n",
    "    if event.event_name == \"pass\":\n",
    "        encoded_str = \"P\"\n",
    "    elif event.event_name == \"shot\":\n",
    "        encoded_str = \"S\"\n",
    "    else:\n",
    "        return None\n",
    "\n",
    "    encoded_str += \"H\" if event.team.ground == Ground.HOME else \"A\"\n",
    "\n",
    "    zone_id = None\n",
    "    for zone_id_, ((topleft_x, topleft_y), (bottomright_x, bottomright_y)) in zones.items():\n",
    "        if topleft_x <= event.coordinates.x < bottomright_x and topleft_y <= event.coordinates.y < bottomright_y:\n",
    "            zone_id = zone_id_\n",
    "            break\n",
    "\n",
    "    if not zone_id:\n",
    "        return None\n",
    "\n",
    "    encoded_str += str(zone_id)\n",
    "\n",
    "    return encoded_str\n",
    "\n",
    "\n",
    "matcher_with_zone = Matcher(encoder_with_zone)"
   ]
  },
  {
   "cell_type": "code",
   "execution_count": 22,
   "metadata": {
    "slideshow": {
     "slide_type": "slide"
    }
   },
   "outputs": [
    {
     "name": "stdout",
     "output_type": "stream",
     "text": [
      "search took: 7.37ms \n",
      "Result 0:\n",
      "   timestamp  team_name               player_name event_type      result       x      y\n",
      "0   2431.179  Barcelona          Jordi Alba Ramos       PASS    COMPLETE   60.50   3.50\n",
      "1   2434.592  Barcelona  Luis Alberto Suárez Díaz       SHOT  OFF_TARGET  109.25  29.65\n",
      "\n",
      "Result 1:\n",
      "   timestamp  team_name                player_name event_type    result       x      y\n",
      "0    588.139  Barcelona  Philippe Coutinho Correia       PASS  COMPLETE   76.50  15.50\n",
      "1    593.181  Barcelona           Jordi Alba Ramos       PASS  COMPLETE  111.50  13.50\n",
      "2    596.388  Barcelona  Philippe Coutinho Correia       SHOT   BLOCKED   94.35  24.45\n",
      "\n",
      "Result 2:\n",
      "   timestamp  team_name                player_name event_type    result       x      y\n",
      "0    925.128  Barcelona           Jordi Alba Ramos       PASS  COMPLETE   66.50  13.50\n",
      "1    927.669  Barcelona            Ousmane Dembélé       PASS  COMPLETE   82.50   7.50\n",
      "2    930.049  Barcelona           Jordi Alba Ramos       PASS  COMPLETE   76.50  12.50\n",
      "3    932.676  Barcelona  Philippe Coutinho Correia       PASS  COMPLETE   94.50  11.50\n",
      "4    936.156  Barcelona  Philippe Coutinho Correia       SHOT   BLOCKED  100.15  27.65\n",
      "\n"
     ]
    }
   ],
   "source": [
    "with performance_logging(\"search\"):\n",
    "    results = matcher_with_zone.search(dataset, pattern=r\"(PH1)+SH\")\n",
    "\n",
    "print_results(results)"
   ]
  },
  {
   "cell_type": "code",
   "execution_count": 38,
   "metadata": {
    "slideshow": {
     "slide_type": "subslide"
    }
   },
   "outputs": [
    {
     "name": "stdout",
     "output_type": "stream",
     "text": [
      "search took: 10.83ms \n",
      "Result 0:\n",
      "   timestamp  team_name                     player_name event_type      result       x      y\n",
      "0    337.369  Barcelona  Lionel Andrés Messi Cuccittini       PASS    COMPLETE   92.50  56.50\n",
      "1    339.239  Barcelona                Jordi Alba Ramos       SHOT  OFF_TARGET  113.95  26.95\n",
      "\n",
      "Result 1:\n",
      "   timestamp  team_name               player_name event_type      result       x      y\n",
      "0   1840.205  Barcelona  Luis Alberto Suárez Díaz       PASS    COMPLETE   88.50  26.50\n",
      "1   1842.287  Barcelona           Ousmane Dembélé       SHOT  OFF_TARGET  108.05  27.35\n",
      "\n",
      "Result 2:\n",
      "   timestamp  team_name                     player_name event_type    result       x      y\n",
      "0   2305.600  Barcelona  Lionel Andrés Messi Cuccittini       PASS  COMPLETE   77.50  41.50\n",
      "1   2308.083  Barcelona                 Ousmane Dembélé       SHOT     SAVED  102.45  29.15\n",
      "\n",
      "Result 3:\n",
      "   timestamp  team_name       player_name event_type    result       x      y\n",
      "0    156.575  Barcelona   Ousmane Dembélé       PASS  COMPLETE   99.50  30.50\n",
      "1    159.524  Barcelona  Jordi Alba Ramos       SHOT     SAVED  116.85  31.15\n",
      "\n",
      "Result 4:\n",
      "   timestamp  team_name                     player_name event_type    result       x      y\n",
      "0   2189.648  Barcelona  Lionel Andrés Messi Cuccittini       PASS  COMPLETE   93.50  44.50\n",
      "1   2191.606  Barcelona       Philippe Coutinho Correia       SHOT     SAVED  113.35  31.05\n",
      "\n",
      "Result 5:\n",
      "   timestamp  team_name                             player_name event_type    result       x      y\n",
      "0   2257.255  Barcelona  Arthur Henrique Ramos de Oliveira Melo       PASS  COMPLETE   85.50  34.50\n",
      "1   2261.578  Barcelona               Philippe Coutinho Correia       SHOT      GOAL  105.05  31.05\n",
      "\n",
      "Result 6:\n",
      "   timestamp  team_name                     player_name event_type    result       x      y\n",
      "0   2659.241  Barcelona          Sergi Roberto Carnicer       PASS  COMPLETE   98.50  59.50\n",
      "1   2662.638  Barcelona  Lionel Andrés Messi Cuccittini       SHOT     SAVED  106.05  46.05\n",
      "\n",
      "Result 7:\n",
      "   timestamp  team_name                     player_name event_type    result       x      y\n",
      "0   2798.906  Barcelona        Luis Alberto Suárez Díaz       PASS  COMPLETE   83.50  27.50\n",
      "1   2802.770  Barcelona  Lionel Andrés Messi Cuccittini       SHOT      GOAL  111.95  34.55\n",
      "\n"
     ]
    }
   ],
   "source": [
    "with performance_logging(\"search\"):\n",
    "    #    results = matcher_with_team.search(dataset, pattern=r\"PH[234](PH[15])+SH\")\n",
    "    results = matcher_with_zone.search(dataset, pattern=r\"PH[234]SH6\")\n",
    "\n",
    "print_results(results)"
   ]
  },
  {
   "cell_type": "markdown",
   "metadata": {
    "slideshow": {
     "slide_type": "slide"
    }
   },
   "source": [
    "# Plotting the results"
   ]
  },
  {
   "cell_type": "code",
   "execution_count": 24,
   "metadata": {
    "slideshow": {
     "slide_type": "subslide"
    }
   },
   "outputs": [],
   "source": [
    "from mplsoccer.pitch import Pitch\n",
    "\n",
    "\n",
    "def plot_results(results):\n",
    "    pitch = Pitch(\n",
    "        pitch_type=\"statsbomb\",\n",
    "        orientation=\"horizontal\",\n",
    "        pitch_color=\"#22312b\",\n",
    "        line_color=\"#c7d5cc\",\n",
    "        figsize=(16, 11),\n",
    "        constrained_layout=True,\n",
    "        tight_layout=False,\n",
    "    )\n",
    "\n",
    "    fig, ax = pitch.draw()\n",
    "\n",
    "    passes = []\n",
    "    for result in results:\n",
    "        for i in range(len(result) - 1):\n",
    "            passes.append(\n",
    "                (\n",
    "                    result[i].coordinates.x,\n",
    "                    result[i].coordinates.y,\n",
    "                    result[i + 1].coordinates.x,\n",
    "                    result[i + 1].coordinates.y,\n",
    "                )\n",
    "            )\n",
    "\n",
    "    x1, y1, x2, y2 = zip(*passes)\n",
    "\n",
    "    pitch.arrows(x1, y1, x2, y2, width=2, headwidth=10, headlength=10, color=\"#ad993c\", ax=ax, label=\"completed passes\")"
   ]
  },
  {
   "cell_type": "code",
   "execution_count": 41,
   "metadata": {
    "slideshow": {
     "slide_type": "subslide"
    }
   },
   "outputs": [
    {
     "data": {
      "image/png": "[encoded data removed]",
      "text/plain": [
       "<Figure size 1152x792 with 1 Axes>"
      ]
     },
     "metadata": {},
     "output_type": "display_data"
    }
   ],
   "source": [
    "results = matcher_with_zone.search(dataset, pattern=r\"(PH1)+SH\")\n",
    "plot_results(results)"
   ]
  },
  {
   "cell_type": "markdown",
   "metadata": {
    "slideshow": {
     "slide_type": "slide"
    }
   },
   "source": [
    "# Playing around with the plot"
   ]
  },
  {
   "cell_type": "code",
   "execution_count": 46,
   "metadata": {
    "slideshow": {
     "slide_type": "subslide"
    }
   },
   "outputs": [
    {
     "data": {
      "image/png": "[encoded data removed]",
      "text/plain": [
       "<Figure size 1152x792 with 1 Axes>"
      ]
     },
     "metadata": {},
     "output_type": "display_data"
    }
   ],
   "source": [
    "results = matcher_with_zone.search(dataset, pattern=r\"PA.SA\")\n",
    "plot_results(results)"
   ]
  },
  {
   "cell_type": "markdown",
   "metadata": {
    "slideshow": {
     "slide_type": "slide"
    }
   },
   "source": [
    "# Thanks for watching\n",
    "\n",
    "Find us:\n",
    "- twitter https://twitter.com/PySportOrg\n",
    "- discord: https://t.co/oRtc3ZBrDh\n",
    "- github: https://github.com/PySport\n",
    "- docs: https://kloppy.pysport.org"
   ]
  }
 ],
 "metadata": {
  "celltoolbar": "Slideshow",
  "kernelspec": {
   "display_name": "Python 3",
   "language": "python",
   "name": "python3"
  },
  "language_info": {
   "codemirror_mode": {
    "name": "ipython",
    "version": 3
   },
   "file_extension": ".py",
   "mimetype": "text/x-python",
   "name": "python",
   "nbconvert_exporter": "python",
   "pygments_lexer": "ipython3",
   "version": "3.8.6"
  }
 },
 "nbformat": 4,
 "nbformat_minor": 4
}
