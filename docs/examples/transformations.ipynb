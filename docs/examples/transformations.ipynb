{
 "cells": [
  {
   "cell_type": "markdown",
   "metadata": {},
   "source": [
    "# Transformations\n",
    "This guide explains how to transform events with a specific coordinate system and orientation."
   ]
  },
  {
   "cell_type": "markdown",
   "metadata": {},
   "source": [
    "### Setup\n",
    "Start by loading some event data using the Kloppy module. For the sake of this demonstration, we will use Statsbomb Open Event Data.\n",
    "Initially we will load the dataset using Statsbomb's original co-ordinate system."
   ]
  },
  {
   "cell_type": "code",
   "execution_count": null,
   "metadata": {},
   "outputs": [],
   "source": [
    "from kloppy import statsbomb\n",
    "from kloppy.domain import SportVUCoordinateSystem\n",
    "\n",
    "dataset = statsbomb.load_open_data(\n",
    "    match_id=15946,\n",
    "    # Optional arguments\n",
    "    coordinates=\"statsbomb\",\n",
    ")"
   ]
  },
  {
   "cell_type": "markdown",
   "metadata": {},
   "source": [
    "### Filter by shots and convert to Polars DataFrame"
   ]
  },
  {
   "cell_type": "code",
   "execution_count": 7,
   "metadata": {},
   "outputs": [
    {
     "data": {
      "text/html": [
       "<div><style>\n",
       ".dataframe > thead > tr,\n",
       ".dataframe > tbody > tr {\n",
       "  text-align: right;\n",
       "  white-space: pre-wrap;\n",
       "}\n",
       "</style>\n",
       "<small>shape: (28, 3)</small><table border=\"1\" class=\"dataframe\"><thead><tr><th>team_name</th><th>coordinates_x</th><th>coordinates_y</th></tr><tr><td>str</td><td>f64</td><td>f64</td></tr></thead><tbody><tr><td>&quot;Barcelona&quot;</td><td>111.45</td><td>52.85</td></tr><tr><td>&quot;Barcelona&quot;</td><td>113.85</td><td>26.35</td></tr><tr><td>&quot;Barcelona&quot;</td><td>93.65</td><td>34.65</td></tr><tr><td>&quot;Deportivo Alavés&quot;</td><td>109.15</td><td>39.05</td></tr><tr><td>&quot;Barcelona&quot;</td><td>107.75</td><td>24.65</td></tr><tr><td>&hellip;</td><td>&hellip;</td><td>&hellip;</td></tr><tr><td>&quot;Deportivo Alavés&quot;</td><td>114.45</td><td>32.75</td></tr><tr><td>&quot;Barcelona&quot;</td><td>113.15</td><td>31.35</td></tr><tr><td>&quot;Barcelona&quot;</td><td>105.25</td><td>33.35</td></tr><tr><td>&quot;Barcelona&quot;</td><td>106.55</td><td>46.75</td></tr><tr><td>&quot;Barcelona&quot;</td><td>111.45</td><td>36.15</td></tr></tbody></table></div>"
      ],
      "text/plain": [
       "shape: (28, 3)\n",
       "┌──────────────────┬───────────────┬───────────────┐\n",
       "│ team_name        ┆ coordinates_x ┆ coordinates_y │\n",
       "│ ---              ┆ ---           ┆ ---           │\n",
       "│ str              ┆ f64           ┆ f64           │\n",
       "╞══════════════════╪═══════════════╪═══════════════╡\n",
       "│ Barcelona        ┆ 111.45        ┆ 52.85         │\n",
       "│ Barcelona        ┆ 113.85        ┆ 26.35         │\n",
       "│ Barcelona        ┆ 93.65         ┆ 34.65         │\n",
       "│ Deportivo Alavés ┆ 109.15        ┆ 39.05         │\n",
       "│ Barcelona        ┆ 107.75        ┆ 24.65         │\n",
       "│ …                ┆ …             ┆ …             │\n",
       "│ Deportivo Alavés ┆ 114.45        ┆ 32.75         │\n",
       "│ Barcelona        ┆ 113.15        ┆ 31.35         │\n",
       "│ Barcelona        ┆ 105.25        ┆ 33.35         │\n",
       "│ Barcelona        ┆ 106.55        ┆ 46.75         │\n",
       "│ Barcelona        ┆ 111.45        ┆ 36.15         │\n",
       "└──────────────────┴───────────────┴───────────────┘"
      ]
     },
     "execution_count": 7,
     "metadata": {},
     "output_type": "execute_result"
    }
   ],
   "source": [
    "# Only keep shots\n",
    "shots = dataset.filter(\"shot\")\n",
    "\n",
    "# Convert Kloppy dataset to Polars DataFrame\n",
    "shots.to_df(\n",
    "    lambda event: {\"team_name\": str(event.ball_owning_team)},\n",
    "    \"coordinates_*\",\n",
    "    engine=\"polars\",\n",
    ")"
   ]
  },
  {
   "cell_type": "markdown",
   "metadata": {},
   "source": [
    "### Transform Shots Data to a New Coordinate System and Orientation\n",
    "This step transforms the shot events into a new coordinate system - `SportVUCoordinateSystem` with a pitch length of 105 and width of 68. Please refer the Kloppy User Guide to see other available coordinate systems that are currently supported.\n",
    "\n",
    "In this case, we set the orientation to `STATIC_HOME_AWAY` which sets the home team to play from left to right in both periods.\n",
    "\n",
    "Avialble orientations are as follows:\n",
    "- `BALL_OWNING_TEAM`: The team that is currently in possession of the ball\n",
    "            plays from left to right.\n",
    "- `ACTION_EXECUTING_TEAM`: The team that executes the action\n",
    "    plays from left to right. Used in event stream data only. Equivalent\n",
    "    to \"BALL_OWNING_TEAM\" for tracking data.\n",
    "- `HOME_AWAY`: The home team plays from left to right in the first period.\n",
    "    The away team plays from left to right in the second period.\n",
    "- `AWAY_HOME`: The away team plays from left to right in the first period.\n",
    "    The home team plays from left to right in the second period.\n",
    "- `STATIC_HOME_AWAY`: The home team plays from left to right in both periods.\n",
    "- `STATIC_AWAY_HOME`: The away team plays from left to right in both periods."
   ]
  },
  {
   "cell_type": "code",
   "execution_count": 17,
   "metadata": {},
   "outputs": [
    {
     "data": {
      "text/html": [
       "<div><style>\n",
       ".dataframe > thead > tr,\n",
       ".dataframe > tbody > tr {\n",
       "  text-align: right;\n",
       "  white-space: pre-wrap;\n",
       "}\n",
       "</style>\n",
       "<small>shape: (28, 4)</small><table border=\"1\" class=\"dataframe\"><thead><tr><th>team_name</th><th>ground</th><th>coordinates_x</th><th>coordinates_y</th></tr><tr><td>str</td><td>enum</td><td>f64</td><td>f64</td></tr></thead><tbody><tr><td>&quot;Barcelona&quot;</td><td>&quot;home&quot;</td><td>97.1625</td><td>45.7725</td></tr><tr><td>&quot;Barcelona&quot;</td><td>&quot;home&quot;</td><td>99.3625</td><td>21.494167</td></tr><tr><td>&quot;Barcelona&quot;</td><td>&quot;home&quot;</td><td>81.245714</td><td>29.1025</td></tr><tr><td>&quot;Deportivo Alavés&quot;</td><td>&quot;away&quot;</td><td>9.945833</td><td>34.86925</td></tr><tr><td>&quot;Barcelona&quot;</td><td>&quot;home&quot;</td><td>93.770833</td><td>19.935833</td></tr><tr><td>&hellip;</td><td>&hellip;</td><td>&hellip;</td><td>&hellip;</td></tr><tr><td>&quot;Deportivo Alavés&quot;</td><td>&quot;away&quot;</td><td>5.0875</td><td>40.639167</td></tr><tr><td>&quot;Barcelona&quot;</td><td>&quot;home&quot;</td><td>98.720833</td><td>26.0775</td></tr><tr><td>&quot;Barcelona&quot;</td><td>&quot;home&quot;</td><td>91.479167</td><td>27.910833</td></tr><tr><td>&quot;Barcelona&quot;</td><td>&quot;home&quot;</td><td>92.670833</td><td>40.180833</td></tr><tr><td>&quot;Barcelona&quot;</td><td>&quot;home&quot;</td><td>97.1625</td><td>30.47725</td></tr></tbody></table></div>"
      ],
      "text/plain": [
       "shape: (28, 4)\n",
       "┌──────────────────┬────────┬───────────────┬───────────────┐\n",
       "│ team_name        ┆ ground ┆ coordinates_x ┆ coordinates_y │\n",
       "│ ---              ┆ ---    ┆ ---           ┆ ---           │\n",
       "│ str              ┆ enum   ┆ f64           ┆ f64           │\n",
       "╞══════════════════╪════════╪═══════════════╪═══════════════╡\n",
       "│ Barcelona        ┆ home   ┆ 97.1625       ┆ 45.7725       │\n",
       "│ Barcelona        ┆ home   ┆ 99.3625       ┆ 21.494167     │\n",
       "│ Barcelona        ┆ home   ┆ 81.245714     ┆ 29.1025       │\n",
       "│ Deportivo Alavés ┆ away   ┆ 9.945833      ┆ 34.86925      │\n",
       "│ Barcelona        ┆ home   ┆ 93.770833     ┆ 19.935833     │\n",
       "│ …                ┆ …      ┆ …             ┆ …             │\n",
       "│ Deportivo Alavés ┆ away   ┆ 5.0875        ┆ 40.639167     │\n",
       "│ Barcelona        ┆ home   ┆ 98.720833     ┆ 26.0775       │\n",
       "│ Barcelona        ┆ home   ┆ 91.479167     ┆ 27.910833     │\n",
       "│ Barcelona        ┆ home   ┆ 92.670833     ┆ 40.180833     │\n",
       "│ Barcelona        ┆ home   ┆ 97.1625       ┆ 30.47725      │\n",
       "└──────────────────┴────────┴───────────────┴───────────────┘"
      ]
     },
     "execution_count": 17,
     "metadata": {},
     "output_type": "execute_result"
    }
   ],
   "source": [
    "shots_transformed = shots.transform(\n",
    "    to_coordinate_system=SportVUCoordinateSystem(pitch_length=105, pitch_width=68),\n",
    "    to_orientation=\"STATIC_HOME_AWAY\",\n",
    ")\n",
    "\n",
    "shots_transformed_polars = shots_transformed.to_df(\n",
    "    lambda event: {\"team_name\": str(event.team), \"ground\": event.team.ground},\n",
    "    \"coordinates_*\",\n",
    "    engine=\"polars\",\n",
    ")\n",
    "\n",
    "shots_transformed_polars"
   ]
  }
 ],
 "metadata": {
  "kernelspec": {
   "display_name": "gemini-sports",
   "language": "python",
   "name": "python3"
  },
  "language_info": {
   "codemirror_mode": {
    "name": "ipython",
    "version": 3
   },
   "file_extension": ".py",
   "mimetype": "text/x-python",
   "name": "python",
   "nbconvert_exporter": "python",
   "pygments_lexer": "ipython3",
   "version": "3.9.13"
  }
 },
 "nbformat": 4,
 "nbformat_minor": 2
}
