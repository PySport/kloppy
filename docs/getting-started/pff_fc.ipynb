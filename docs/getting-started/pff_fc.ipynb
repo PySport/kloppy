{
 "cells": [
  {
   "cell_type": "markdown",
   "id": "eb7a4c5f",
   "metadata": {},
   "source": [
    "# PFF FC Tracking Data\n",
    "\n",
    "## Load local files"
   ]
  },
  {
   "cell_type": "code",
   "execution_count": null,
   "id": "71e23535",
   "metadata": {},
   "outputs": [],
   "source": [
    "from kloppy import pff_fc\n",
    "\n",
    "dataset = pff_fc.load_tracking(meta_data=\"../../kloppy/tests/files/PFF_FC/metadata.csv\",\n",
    "                     players_meta_data= \"../../kloppy/tests/files/PFF_FC/rosters.csv\",\n",
    "                     raw_data = \"../../kloppy/tests/files/PFF_FC/10517.jsonl.bz2\",\n",
    "                     # Optional Parameters\n",
    "                     sample_rate = 1/10,\n",
    "                     limit = 100)\n",
    "\n",
    "dataset.to_df().head()"
   ]
  }
 ],
 "metadata": {
  "kernelspec": {
   "display_name": "gemini-sports",
   "language": "python",
   "name": "python3"
  },
  "language_info": {
   "codemirror_mode": {
    "name": "ipython",
    "version": 3
   },
   "file_extension": ".py",
   "mimetype": "text/x-python",
   "name": "python",
   "nbconvert_exporter": "python",
   "pygments_lexer": "ipython3",
   "version": "3.9.13"
  }
 },
 "nbformat": 4,
 "nbformat_minor": 5
}
