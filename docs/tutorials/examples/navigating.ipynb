{
 "cells": [
  {
   "cell_type": "markdown",
   "id": "d5e58e18",
   "metadata": {},
   "source": [
    "# Navigating\n",
    "\n",
    "Kloppy 3.2 adds some powerfull tools to navigate through you event data. In this tutorial you will learn how to use them.\n",
    "\n",
    "\n",
    "## Dataset\n",
    "\n",
    "On dataset level it's possible to use `filter`, `find` and `find_all`. All these functions access the same argument for finding the right events.\n",
    "You can pass a string or a function. In case of a string is must be either 'event_type', 'event_type.result' or '.result'. Some examples: 'shot.goal', 'pass' or '.complete'.\n",
    "\n",
    "Lets have a look at how these work.\n",
    "\n",
    "\n"
   ]
  },
  {
   "cell_type": "code",
   "execution_count": 1,
   "id": "c910dd35",
   "metadata": {},
   "outputs": [
    {
     "name": "stderr",
     "output_type": "stream",
     "text": [
      "/Users/koen/Developer/Projects/PySport/kloppy/.venv/lib/python3.10/site-packages/kloppy-3.7.1-py3.10.egg/kloppy/_providers/statsbomb.py:67: UserWarning: \n",
      "\n",
      "You are about to use StatsBomb public data.\n",
      "By using this data, you are agreeing to the user agreement. \n",
      "The user agreement can be found here: https://github.com/statsbomb/open-data/blob/master/LICENSE.pdf\n",
      "\n",
      "  warnings.warn(\n"
     ]
    },
    {
     "data": {
      "text/html": [
       "<div>\n",
       "<style scoped>\n",
       "    .dataframe tbody tr th:only-of-type {\n",
       "        vertical-align: middle;\n",
       "    }\n",
       "\n",
       "    .dataframe tbody tr th {\n",
       "        vertical-align: top;\n",
       "    }\n",
       "\n",
       "    .dataframe thead th {\n",
       "        text-align: right;\n",
       "    }\n",
       "</style>\n",
       "<table border=\"1\" class=\"dataframe\">\n",
       "  <thead>\n",
       "    <tr style=\"text-align: right;\">\n",
       "      <th></th>\n",
       "      <th>event_id</th>\n",
       "      <th>event_type</th>\n",
       "      <th>result</th>\n",
       "      <th>success</th>\n",
       "      <th>period_id</th>\n",
       "      <th>timestamp</th>\n",
       "      <th>end_timestamp</th>\n",
       "      <th>ball_state</th>\n",
       "      <th>ball_owning_team</th>\n",
       "      <th>team_id</th>\n",
       "      <th>player_id</th>\n",
       "      <th>coordinates_x</th>\n",
       "      <th>coordinates_y</th>\n",
       "      <th>end_coordinates_x</th>\n",
       "      <th>end_coordinates_y</th>\n",
       "      <th>body_part_type</th>\n",
       "    </tr>\n",
       "  </thead>\n",
       "  <tbody>\n",
       "    <tr>\n",
       "      <th>0</th>\n",
       "      <td>4c7c4ab1-6b9f-4504-a237-249c2e0c549f</td>\n",
       "      <td>SHOT</td>\n",
       "      <td>GOAL</td>\n",
       "      <td>True</td>\n",
       "      <td>2</td>\n",
       "      <td>1091.954</td>\n",
       "      <td>None</td>\n",
       "      <td>alive</td>\n",
       "      <td>217</td>\n",
       "      <td>217</td>\n",
       "      <td>5503</td>\n",
       "      <td>0.800417</td>\n",
       "      <td>0.563125</td>\n",
       "      <td>None</td>\n",
       "      <td>None</td>\n",
       "      <td>LEFT_FOOT</td>\n",
       "    </tr>\n",
       "    <tr>\n",
       "      <th>1</th>\n",
       "      <td>683c6752-13bc-4892-94ed-22e1c938f1f7</td>\n",
       "      <td>SHOT</td>\n",
       "      <td>GOAL</td>\n",
       "      <td>True</td>\n",
       "      <td>2</td>\n",
       "      <td>2261.578</td>\n",
       "      <td>None</td>\n",
       "      <td>alive</td>\n",
       "      <td>217</td>\n",
       "      <td>217</td>\n",
       "      <td>3501</td>\n",
       "      <td>0.875417</td>\n",
       "      <td>0.388125</td>\n",
       "      <td>None</td>\n",
       "      <td>None</td>\n",
       "      <td>RIGHT_FOOT</td>\n",
       "    </tr>\n",
       "    <tr>\n",
       "      <th>2</th>\n",
       "      <td>55d71847-9511-4417-aea9-6f415e279011</td>\n",
       "      <td>SHOT</td>\n",
       "      <td>GOAL</td>\n",
       "      <td>True</td>\n",
       "      <td>2</td>\n",
       "      <td>2802.770</td>\n",
       "      <td>None</td>\n",
       "      <td>alive</td>\n",
       "      <td>217</td>\n",
       "      <td>217</td>\n",
       "      <td>5503</td>\n",
       "      <td>0.932917</td>\n",
       "      <td>0.431875</td>\n",
       "      <td>None</td>\n",
       "      <td>None</td>\n",
       "      <td>LEFT_FOOT</td>\n",
       "    </tr>\n",
       "  </tbody>\n",
       "</table>\n",
       "</div>"
      ],
      "text/plain": [
       "                               event_id event_type result  success  period_id  \\\n",
       "0  4c7c4ab1-6b9f-4504-a237-249c2e0c549f       SHOT   GOAL     True          2   \n",
       "1  683c6752-13bc-4892-94ed-22e1c938f1f7       SHOT   GOAL     True          2   \n",
       "2  55d71847-9511-4417-aea9-6f415e279011       SHOT   GOAL     True          2   \n",
       "\n",
       "   timestamp end_timestamp ball_state ball_owning_team team_id player_id  \\\n",
       "0   1091.954          None      alive              217     217      5503   \n",
       "1   2261.578          None      alive              217     217      3501   \n",
       "2   2802.770          None      alive              217     217      5503   \n",
       "\n",
       "   coordinates_x  coordinates_y end_coordinates_x end_coordinates_y  \\\n",
       "0       0.800417       0.563125              None              None   \n",
       "1       0.875417       0.388125              None              None   \n",
       "2       0.932917       0.431875              None              None   \n",
       "\n",
       "  body_part_type  \n",
       "0      LEFT_FOOT  \n",
       "1     RIGHT_FOOT  \n",
       "2      LEFT_FOOT  "
      ]
     },
     "execution_count": 1,
     "metadata": {},
     "output_type": "execute_result"
    }
   ],
   "source": [
    "from kloppy import statsbomb\n",
    "\n",
    "# Load a Statsbomb open data dataset\n",
    "dataset = statsbomb.load_open_data()\n",
    "\n",
    "# Create a new dataset which contains all goals\n",
    "filtered_dataset = dataset.filter('shot.goal')\n",
    "\n",
    "# Show the results\n",
    "filtered_dataset.to_df()"
   ]
  },
  {
   "cell_type": "markdown",
   "id": "6fe919e7",
   "metadata": {},
   "source": [
    "The filtered dataset doesn't contain any events other than goals. Lets validate that. When we try to find all passes we should get an empty list"
   ]
  },
  {
   "cell_type": "code",
   "execution_count": 2,
   "id": "57aac560",
   "metadata": {},
   "outputs": [
    {
     "data": {
      "text/plain": [
       "0"
      ]
     },
     "execution_count": 2,
     "metadata": {},
     "output_type": "execute_result"
    }
   ],
   "source": [
    "passes = filtered_dataset.find_all('pass')\n",
    "len(passes)"
   ]
  },
  {
   "cell_type": "markdown",
   "id": "4cd3edb8",
   "metadata": {},
   "source": [
    "The original dataset does contain passes, right?"
   ]
  },
  {
   "cell_type": "code",
   "execution_count": 3,
   "id": "45de2f06",
   "metadata": {},
   "outputs": [
    {
     "data": {
      "text/plain": [
       "1132"
      ]
     },
     "execution_count": 3,
     "metadata": {},
     "output_type": "execute_result"
    }
   ],
   "source": [
    "passes = dataset.find_all('pass')\n",
    "len(passes)"
   ]
  },
  {
   "cell_type": "markdown",
   "id": "3239a684",
   "metadata": {},
   "source": [
    "Now we already touched the `find_all` method. This method accepts the same argument. The difference is that `find_all` returns a list of events, where `filter` returns a new Dataset. The `find` method return the first matching event or None when it cannot find one."
   ]
  },
  {
   "cell_type": "code",
   "execution_count": 4,
   "id": "2df283f7",
   "metadata": {},
   "outputs": [
    {
     "data": {
      "text/plain": [
       "<StatsBombShotEvent event_id='65f16e50-7c5d-4293-b2fc-d20887a772f9' time='P1T02:29' player='Lionel Andrés Messi Cuccittini' result='OFF_TARGET'>"
      ]
     },
     "execution_count": 4,
     "metadata": {},
     "output_type": "execute_result"
    }
   ],
   "source": [
    "dataset.find('shot')"
   ]
  },
  {
   "cell_type": "code",
   "execution_count": 5,
   "id": "7c432ca0",
   "metadata": {},
   "outputs": [
    {
     "name": "stdout",
     "output_type": "stream",
     "text": [
      "None\n"
     ]
    }
   ],
   "source": [
    "print(filtered_dataset.find('pass'))"
   ]
  },
  {
   "cell_type": "markdown",
   "id": "4b5120a9",
   "metadata": {},
   "source": [
    "## Event\n",
    "\n",
    "On Event level there are also some new methods for navigating. The `prev` and `next` methods are added. These allow you to quickly find previous or next events. But those two methods also accept the filter argument like the Dataset methods do. This makes useful to find a certain type of event instead of just the one before/after.\n",
    "\n",
    "Lets have look at how this works"
   ]
  },
  {
   "cell_type": "code",
   "execution_count": 6,
   "id": "31fd93a8",
   "metadata": {},
   "outputs": [
    {
     "name": "stderr",
     "output_type": "stream",
     "text": [
      "/Users/koen/Developer/Projects/PySport/kloppy/.venv/lib/python3.10/site-packages/kloppy-3.7.1-py3.10.egg/kloppy/_providers/statsbomb.py:67: UserWarning: \n",
      "\n",
      "You are about to use StatsBomb public data.\n",
      "By using this data, you are agreeing to the user agreement. \n",
      "The user agreement can be found here: https://github.com/statsbomb/open-data/blob/master/LICENSE.pdf\n",
      "\n",
      "  warnings.warn(\n"
     ]
    },
    {
     "data": {
      "text/plain": [
       "<StatsBombShotEvent event_id='4c7c4ab1-6b9f-4504-a237-249c2e0c549f' time='P2T18:12' player='Lionel Andrés Messi Cuccittini' result='GOAL'>"
      ]
     },
     "execution_count": 6,
     "metadata": {},
     "output_type": "execute_result"
    }
   ],
   "source": [
    "# Load a Statsbomb open data dataset\n",
    "dataset = statsbomb.load_open_data()\n",
    "\n",
    "first_goal = dataset.find('shot.goal')\n",
    "first_goal"
   ]
  },
  {
   "cell_type": "code",
   "execution_count": 7,
   "id": "98dda35c",
   "metadata": {},
   "outputs": [
    {
     "name": "stdout",
     "output_type": "stream",
     "text": [
      "<GenericEvent:Foul Won event_id='eed04441-624f-4f23-9843-7bd069c16232' time='P2T17:02' player='Lionel Andrés Messi Cuccittini' result='None'>\n",
      "<StatsBombShotEvent event_id='4c7c4ab1-6b9f-4504-a237-249c2e0c549f' time='P2T18:12' player='Lionel Andrés Messi Cuccittini' result='GOAL'>\n",
      "<GenericEvent:Goal Keeper event_id='5080ad86-383c-40c5-b718-508d8c9be454' time='P2T18:13' player='Fernando Pacheco Flores' result='None'>\n"
     ]
    }
   ],
   "source": [
    "# Lets previous and next events\n",
    "print(first_goal.prev())\n",
    "print(first_goal)\n",
    "print(first_goal.next())"
   ]
  },
  {
   "cell_type": "markdown",
   "id": "9be4a6a1",
   "metadata": {},
   "source": [
    "But what if we want to find the last complete pass before the goal?"
   ]
  },
  {
   "cell_type": "code",
   "execution_count": 8,
   "id": "841fa959",
   "metadata": {},
   "outputs": [
    {
     "data": {
      "text/plain": [
       "<StatsBombPassEvent event_id='df4a42e4-e5d3-4573-853a-604e46a588d4' time='P2T16:58' player='Ivan Rakitić' result='COMPLETE'>"
      ]
     },
     "execution_count": 8,
     "metadata": {},
     "output_type": "execute_result"
    }
   ],
   "source": [
    "first_goal.prev('pass.complete')"
   ]
  },
  {
   "cell_type": "markdown",
   "id": "b7026192",
   "metadata": {},
   "source": [
    "Or when we don't care about the event type, but want to make sure it's complete.."
   ]
  },
  {
   "cell_type": "code",
   "execution_count": 9,
   "id": "16aad417",
   "metadata": {},
   "outputs": [
    {
     "data": {
      "text/plain": [
       "<CarryEvent event_id='95bded73-4861-4374-99cf-2a278ff07ea6' time='P2T17:02' player='Lionel Andrés Messi Cuccittini' result='COMPLETE'>"
      ]
     },
     "execution_count": 9,
     "metadata": {},
     "output_type": "execute_result"
    }
   ],
   "source": [
    "first_goal.prev('.complete')\n",
    "    "
   ]
  },
  {
   "cell_type": "markdown",
   "id": "9b5514bd",
   "metadata": {},
   "source": [
    "## Related events\n",
    "\n",
    "Some vendors include `related_events` in their data. The related events can be accessed via `get_related_events` method, or by `related_pass`, `related_carry`, etc for each event type.\n",
    "\n",
    "The `get_related_events` returns a list which can be empty. The `related_pass` methods return an Event or None when that type is not specified."
   ]
  },
  {
   "cell_type": "code",
   "execution_count": 10,
   "id": "963e687d",
   "metadata": {},
   "outputs": [
    {
     "data": {
      "text/plain": [
       "[<TakeOnEvent event_id='a1b51bfb-9198-4180-966a-91937f399d2d' time='P2T17:02' player='Lionel Andrés Messi Cuccittini' result='COMPLETE'>,\n",
       " <GenericEvent:Dribbled Past event_id='a1b860e4-71b4-4366-b1bf-7290a82a380f' time='P2T17:02' player='Rubén Duarte Sánchez' result='None'>,\n",
       " <FoulCommittedEvent event_id='e44eea88-d7ae-4806-b322-04134755e187' time='P2T17:02' player='Daniel Alejandro Torres Rojas' result='None'>,\n",
       " <GenericEvent:Foul Won event_id='eed04441-624f-4f23-9843-7bd069c16232' time='P2T17:02' player='Lionel Andrés Messi Cuccittini' result='None'>]"
      ]
     },
     "execution_count": 10,
     "metadata": {},
     "output_type": "execute_result"
    }
   ],
   "source": [
    "carry_event = first_goal.prev('carry')\n",
    "carry_event.get_related_events()"
   ]
  },
  {
   "cell_type": "code",
   "execution_count": 11,
   "id": "7d2c3377",
   "metadata": {},
   "outputs": [
    {
     "name": "stdout",
     "output_type": "stream",
     "text": [
      "None\n"
     ]
    }
   ],
   "source": [
    "print(carry_event.related_pass())"
   ]
  },
  {
   "cell_type": "code",
   "execution_count": 12,
   "id": "3e53ee99",
   "metadata": {},
   "outputs": [
    {
     "name": "stdout",
     "output_type": "stream",
     "text": [
      "<TakeOnEvent event_id='a1b51bfb-9198-4180-966a-91937f399d2d' time='P2T17:02' player='Lionel Andrés Messi Cuccittini' result='COMPLETE'>\n"
     ]
    }
   ],
   "source": [
    "print(carry_event.related_take_on())"
   ]
  },
  {
   "cell_type": "code",
   "execution_count": null,
   "id": "2ed402bd",
   "metadata": {},
   "outputs": [],
   "source": []
  }
 ],
 "metadata": {
  "kernelspec": {
   "display_name": "kloppy-venv",
   "language": "python",
   "name": "kloppy-venv"
  },
  "language_info": {
   "codemirror_mode": {
    "name": "ipython",
    "version": 3
   },
   "file_extension": ".py",
   "mimetype": "text/x-python",
   "name": "python",
   "nbconvert_exporter": "python",
   "pygments_lexer": "ipython3",
   "version": "3.10.6"
  }
 },
 "nbformat": 4,
 "nbformat_minor": 5
}
