{
 "cells": [
  {
   "cell_type": "markdown",
   "id": "8af5cd57",
   "metadata": {},
   "source": [
    "# Loading data from external sources\n",
    "\n",
    "Since 3.3 kloppy uses adapters to load data from external sources. kloppy is shipped with support for `http` and `s3`, but you can add your own adapters to support different external sources.\n",
    "\n",
    "\n",
    "## S3\n",
    "\n",
    "kloppy uses `s3fs` to access files on s3. If preferred you can create a `s3fs.S3FileSystem` instance and pass it via `set_config`\n"
   ]
  },
  {
   "cell_type": "code",
   "execution_count": null,
   "id": "828dec44",
   "metadata": {},
   "outputs": [],
   "source": [
    "import s3fs\n",
    "\n",
    "from kloppy import statsbomb\n",
    "from kloppy.config import set_config\n",
    "\n",
    "file_system = s3fs.S3FileSystem(anon=True)\n",
    "set_config(\n",
    "    'adapters.s3.s3fs',\n",
    "    file_system\n",
    ")\n",
    "\n",
    "# This will fail because we don't have access to 'some-bucket'\n",
    "dataset = statsbomb.load(\n",
    "    event_data='s3://some-bucket/1234/events.json',\n",
    "    lineup_data='s3://some-bucket/1234/lineup.json'\n",
    ")"
   ]
  },
  {
   "cell_type": "markdown",
   "id": "c8ddbc3c",
   "metadata": {},
   "source": [
    "## Custom adapter - database\n",
    "\n",
    "It's possible to create your own adapter. For example a database adapter.\n",
    "\n",
    "First create a table within a sqlite database to hold the file content."
   ]
  },
  {
   "cell_type": "code",
   "execution_count": 45,
   "id": "4f8c855d",
   "metadata": {},
   "outputs": [],
   "source": [
    "import sqlite3\n",
    "\n",
    "# Setup a table\n",
    "con = sqlite3.connect('database.db')\n",
    "\n",
    "try:\n",
    "    con.execute(\"CREATE TABLE files(match_id INT, file_type TEXT, data TEXT, UNIQUE(match_id, file_type))\")\n",
    "    con.commit()\n",
    "except sqlite3.OperationalError:\n",
    "    # already exists\n",
    "    pass\n",
    "\n",
    "# Load some open data into the database\n",
    "import requests\n",
    "\n",
    "def load_into_table(match_id):\n",
    "    events_data = requests.get(f\"https://raw.githubusercontent.com/statsbomb/open-data/master/data/events/{match_id}.json\")\n",
    "    con.execute(\"INSERT INTO files values(?, ?, ?)\", (match_id, 'events', events_data.content))\n",
    "    lineup_data = requests.get(f\"https://raw.githubusercontent.com/statsbomb/open-data/master/data/lineups/{match_id}.json\")\n",
    "    con.execute(\"INSERT INTO files values(?, ?, ?)\", (match_id, 'lineup', lineup_data.content))\n",
    "    con.commit()\n",
    "\n",
    "                          "
   ]
  },
  {
   "cell_type": "markdown",
   "id": "f6a44223",
   "metadata": {},
   "source": [
    "Next load the data from two matches into the database"
   ]
  },
  {
   "cell_type": "code",
   "execution_count": 46,
   "id": "f0cb4ec8",
   "metadata": {},
   "outputs": [],
   "source": [
    "load_into_table(9636)\n",
    "load_into_table(9609)"
   ]
  },
  {
   "cell_type": "markdown",
   "id": "03820ca5",
   "metadata": {},
   "source": [
    "Define our database adapter. The adapter supports all urls starting with `db://`"
   ]
  },
  {
   "cell_type": "code",
   "execution_count": 60,
   "id": "f9642105",
   "metadata": {},
   "outputs": [],
   "source": [
    "from typing import BinaryIO\n",
    "\n",
    "from kloppy.infra.io.adapters import Adapter, adapters\n",
    "\n",
    "class DBAdapter(Adapter):\n",
    "    def __init__(self, con):\n",
    "        self.con = con\n",
    "        \n",
    "    def supports(self, url: str):\n",
    "        return url.startswith(\"db://\")\n",
    "    \n",
    "    def read_to_stream(self, url: str, output: BinaryIO):\n",
    "        match_id, file_type = url[5:].split(\"/\")\n",
    "        cursor = con.cursor()\n",
    "        cursor.execute(\"SELECT data FROM files WHERE match_id = ? AND file_type = ?\", (match_id, file_type))\n",
    "        result = cursor.fetchone()\n",
    "        output.write(result[0])\n",
    "\n",
    "db_adapter = DBAdapter(con)\n",
    "\n",
    "# When you rerun this code you might need to run: adapters.clear()\n",
    "adapters.append(db_adapter)\n",
    "\n",
    "set_config('cache', None)\n",
    "        "
   ]
  },
  {
   "cell_type": "markdown",
   "id": "fdeffe42",
   "metadata": {},
   "source": [
    "Use the adapter!"
   ]
  },
  {
   "cell_type": "code",
   "execution_count": 61,
   "id": "3694c553",
   "metadata": {},
   "outputs": [],
   "source": [
    "dataset = statsbomb.load(\n",
    "    event_data=\"db://9636/events\",\n",
    "    lineup_data=\"db://9636/lineup\",\n",
    ")"
   ]
  },
  {
   "cell_type": "code",
   "execution_count": 63,
   "id": "cb4a8a3b",
   "metadata": {},
   "outputs": [
    {
     "name": "stdout",
     "output_type": "stream",
     "text": [
      "Loaded from database: Barcelona - Las Palmas\n"
     ]
    }
   ],
   "source": [
    "home_team, away_team = dataset.metadata.teams\n",
    "print(f\"Loaded from database: {home_team} - {away_team}\")"
   ]
  }
 ],
 "metadata": {
  "kernelspec": {
   "display_name": "Python 3 (ipykernel)",
   "language": "python",
   "name": "python3"
  },
  "language_info": {
   "codemirror_mode": {
    "name": "ipython",
    "version": 3
   },
   "file_extension": ".py",
   "mimetype": "text/x-python",
   "name": "python",
   "nbconvert_exporter": "python",
   "pygments_lexer": "ipython3",
   "version": "3.12.3"
  }
 },
 "nbformat": 4,
 "nbformat_minor": 5
}
