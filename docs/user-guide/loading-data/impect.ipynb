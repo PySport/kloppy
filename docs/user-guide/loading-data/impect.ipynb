{
 "cells": [
  {
   "cell_type": "markdown",
   "id": "3a953d55",
   "metadata": {},
   "source": [
    "# Impect\n",
    "\n",
    "- [Load local files](#load-local-files)"
   ]
  },
  {
   "cell_type": "markdown",
   "id": "d2d34bd2",
   "metadata": {},
   "source": [
    "## Load local files\n"
   ]
  },
  {
   "cell_type": "code",
   "id": "12ec8092",
   "metadata": {},
   "source": [
    "from kloppy import impect\n",
    "\n",
    "dataset = impect.load(\n",
    "    event_data=\"../../kloppy/tests/files/impect_events.json\",\n",
    "    lineup_data=\"../../kloppy/tests/files/impect_meta.json\",\n",
    "    \n",
    "    # Optional arguments\n",
    "    coordinates=\"impect\",\n",
    "    event_types=[\"pass\", \"shot\"]\n",
    ")\n",
    "\n",
    "dataset.to_df().head()"
   ],
   "outputs": [],
   "execution_count": null
  },
  {
   "cell_type": "markdown",
   "id": "8fa1e495",
   "metadata": {},
   "source": ""
  }
 ],
 "metadata": {
  "kernelspec": {
   "display_name": ".venv",
   "language": "python",
   "name": "python3"
  },
  "language_info": {
   "codemirror_mode": {
    "name": "ipython",
    "version": 3
   },
   "file_extension": ".py",
   "mimetype": "text/x-python",
   "name": "python",
   "nbconvert_exporter": "python",
   "pygments_lexer": "ipython3",
   "version": "3.11.11"
  }
 },
 "nbformat": 4,
 "nbformat_minor": 5
}
