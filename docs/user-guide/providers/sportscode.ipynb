{
 "cells": [
  {
   "cell_type": "markdown",
   "id": "eb1997f4",
   "metadata": {},
   "source": [
    "# Sportscode\n",
    "\n",
    "## Load local files"
   ]
  },
  {
   "cell_type": "code",
   "execution_count": 1,
   "id": "523a21a7",
   "metadata": {},
   "outputs": [
    {
     "data": {
      "text/html": [
       "<div>\n",
       "<style scoped>\n",
       "    .dataframe tbody tr th:only-of-type {\n",
       "        vertical-align: middle;\n",
       "    }\n",
       "\n",
       "    .dataframe tbody tr th {\n",
       "        vertical-align: top;\n",
       "    }\n",
       "\n",
       "    .dataframe thead th {\n",
       "        text-align: right;\n",
       "    }\n",
       "</style>\n",
       "<table border=\"1\" class=\"dataframe\">\n",
       "  <thead>\n",
       "    <tr style=\"text-align: right;\">\n",
       "      <th></th>\n",
       "      <th>code_id</th>\n",
       "      <th>period_id</th>\n",
       "      <th>timestamp</th>\n",
       "      <th>end_timestamp</th>\n",
       "      <th>code</th>\n",
       "      <th>Team</th>\n",
       "      <th>Packing.Value</th>\n",
       "      <th>Receiver</th>\n",
       "      <th>Expected.Goal.Value</th>\n",
       "    </tr>\n",
       "  </thead>\n",
       "  <tbody>\n",
       "    <tr>\n",
       "      <th>0</th>\n",
       "      <td>P1</td>\n",
       "      <td>1</td>\n",
       "      <td>3.6</td>\n",
       "      <td>9.7</td>\n",
       "      <td>PASS</td>\n",
       "      <td>Henkie</td>\n",
       "      <td>1.0</td>\n",
       "      <td>Klaas Nøme</td>\n",
       "      <td>NaN</td>\n",
       "    </tr>\n",
       "    <tr>\n",
       "      <th>1</th>\n",
       "      <td>P2</td>\n",
       "      <td>1</td>\n",
       "      <td>68.3</td>\n",
       "      <td>74.5</td>\n",
       "      <td>PASS</td>\n",
       "      <td>Henkie</td>\n",
       "      <td>3.0</td>\n",
       "      <td>Piet</td>\n",
       "      <td>NaN</td>\n",
       "    </tr>\n",
       "    <tr>\n",
       "      <th>2</th>\n",
       "      <td>P3</td>\n",
       "      <td>1</td>\n",
       "      <td>103.6</td>\n",
       "      <td>109.6</td>\n",
       "      <td>SHOT</td>\n",
       "      <td>Henkie</td>\n",
       "      <td>NaN</td>\n",
       "      <td>NaN</td>\n",
       "      <td>0.13</td>\n",
       "    </tr>\n",
       "  </tbody>\n",
       "</table>\n",
       "</div>"
      ],
      "text/plain": [
       "  code_id  period_id  timestamp  end_timestamp  code    Team  Packing.Value  \\\n",
       "0      P1          1        3.6            9.7  PASS  Henkie            1.0   \n",
       "1      P2          1       68.3           74.5  PASS  Henkie            3.0   \n",
       "2      P3          1      103.6          109.6  SHOT  Henkie            NaN   \n",
       "\n",
       "     Receiver  Expected.Goal.Value  \n",
       "0  Klaas Nøme                  NaN  \n",
       "1        Piet                  NaN  \n",
       "2         NaN                 0.13  "
      ]
     },
     "execution_count": 1,
     "metadata": {},
     "output_type": "execute_result"
    }
   ],
   "source": [
    "from kloppy import sportscode\n",
    "\n",
    "dataset = sportscode.load(\n",
    "    data=\"../../kloppy/tests/files/code_xml.xml\"\n",
    ")\n",
    "\n",
    "dataset.to_df().head()"
   ]
  },
  {
   "cell_type": "markdown",
   "id": "6ba877ad",
   "metadata": {},
   "source": [
    "## Save load files"
   ]
  },
  {
   "cell_type": "code",
   "execution_count": 2,
   "id": "728790a3",
   "metadata": {},
   "outputs": [
    {
     "name": "stdout",
     "output_type": "stream",
     "text": [
      "<?xml version='1.0' encoding='utf-8'?>\n",
      "<file>\n",
      "  <ALL_INSTANCES>\n",
      "    <instance>\n",
      "      <ID>P1</ID>\n",
      "      <start>3.6</start>\n",
      "      <end>9.7</end>\n",
      "      <code>PASS</code>\n",
      "      <label>\n",
      "        <group>Team</group>\n",
      "        <text>Henkie</text>\n",
      "      </label>\n",
      "      <label>\n",
      "        <group>Packing.Value</group>\n",
      "        <text>1</text>\n",
      "      </label>\n",
      "      <label>\n",
      "        <group>Receiver</group>\n",
      "        <text>Klaas Nøme</text>\n",
      "      </label>\n",
      "    </instance>\n",
      "    <instance>\n",
      "      <ID>P2</ID>\n",
      "      <start>68.3</start>\n",
      "      <end>74.5</end>\n",
      "      <code>PASS</code>\n",
      "      <label>\n",
      "        <group>Team</group>\n",
      "        <text>Henkie</text>\n",
      "      </label>\n",
      "      <label>\n",
      "        <group>Packing.Value</group>\n",
      "        <text>3</text>\n",
      "      </label>\n",
      "      <label>\n",
      "        <group>Receiver</group>\n",
      "        <text>Piet</text>\n",
      "      </label>\n",
      "    </instance>\n",
      "    <instance>\n",
      "      <ID>P3</ID>\n",
      "      <start>103.6</start>\n",
      "      <end>109.6</end>\n",
      "      <code>SHOT</code>\n",
      "      <label>\n",
      "        <group>Team</group>\n",
      "        <text>Henkie</text>\n",
      "      </label>\n",
      "      <label>\n",
      "        <group>Expected.Goal.Value</group>\n",
      "        <text>0.13</text>\n",
      "      </label>\n",
      "    </instance>\n",
      "  </ALL_INSTANCES>\n",
      "</file>\n",
      "\n"
     ]
    }
   ],
   "source": [
    "from kloppy import sportscode\n",
    "\n",
    "sportscode.save(dataset, \"/tmp/file.xml\")\n",
    "\n",
    "with open(\"/tmp/file.xml\", \"r\") as fp:\n",
    "    data = fp.read()\n",
    "    \n",
    "print(data)"
   ]
  }
 ],
 "metadata": {
  "kernelspec": {
   "display_name": "kloppy-venv",
   "language": "python",
   "name": "kloppy-venv"
  },
  "language_info": {
   "codemirror_mode": {
    "name": "ipython",
    "version": 3
   },
   "file_extension": ".py",
   "mimetype": "text/x-python",
   "name": "python",
   "nbconvert_exporter": "python",
   "pygments_lexer": "ipython3",
   "version": "3.10.6"
  }
 },
 "nbformat": 4,
 "nbformat_minor": 5
}
