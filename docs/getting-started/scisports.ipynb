{
  "cells": [
    {
      "cell_type": "markdown",
      "metadata": {},
      "source": [
        "# SciSports EPTS Tracking\n",
        "\n",
        "This guide shows how to load SciSports EPTS tracking data in Kloppy.\n"
      ]
    },
    {
      "cell_type": "code",
      "execution_count": null,
      "metadata": {},
      "outputs": [],
      "source": [
        "from kloppy import scisports\n",
        "\n",
        "# Replace with your paths\n",
        "meta = \"./FIFA metadata.xml\"\n",
        "raw = \"./FIFA positions.txt\"\n",
        "\n",
        "dataset = scisports.load_tracking(meta_data=meta, raw_data=raw, coordinates=\"scisports\")\n",
        "dataset\n"
      ]
    },
    {
      "cell_type": "markdown",
      "metadata": {},
      "source": [
        "## Options\n",
        "- `coordinates`: provider coordinate system (default normalized).\n",
        "- `sample_rate`: downsample frames (e.g., 0.5).\n",
        "- `limit`: cap number of frames (e.g., 10_000).\n"
      ]
    }
  ],
  "metadata": {
    "language_info": {
      "name": "python"
    }
  },
  "nbformat": 4,
  "nbformat_minor": 2
}
